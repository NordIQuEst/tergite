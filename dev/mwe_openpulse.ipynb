{
 "cells": [
  {
   "cell_type": "code",
   "execution_count": null,
   "id": "ea5ee959",
   "metadata": {},
   "outputs": [],
   "source": [
    "import qiskit.circuit as circuit\n",
    "import qiskit.compiler as compiler\n",
    "from qiskit.providers.tergite import Tergite\n",
    "from time import sleep\n",
    "import requests\n",
    "import numpy as np"
   ]
  },
  {
   "cell_type": "code",
   "execution_count": null,
   "id": "e777662e",
   "metadata": {},
   "outputs": [],
   "source": [
    "chalmers = Tergite.get_provider()\n",
    "backend = chalmers.get_backend(\"Nov_rain\")\n",
    "backend.set_options(shots=1024)\n",
    "backend"
   ]
  },
  {
   "cell_type": "code",
   "execution_count": null,
   "id": "ffb98781",
   "metadata": {},
   "outputs": [],
   "source": [
    "backend.calibration_tables"
   ]
  },
  {
   "cell_type": "code",
   "execution_count": null,
   "id": "32407e1d",
   "metadata": {},
   "outputs": [],
   "source": [
    "qc = circuit.QuantumCircuit(2, 2)\n",
    "qc.h(0)\n",
    "qc.measure(0, 1)\n",
    "qc.draw()"
   ]
  },
  {
   "cell_type": "code",
   "execution_count": null,
   "id": "0c70eb23",
   "metadata": {},
   "outputs": [],
   "source": [
    "tc = compiler.transpile(qc, backend = backend)\n",
    "tc.draw()"
   ]
  },
  {
   "cell_type": "code",
   "execution_count": null,
   "id": "03c6871b",
   "metadata": {},
   "outputs": [],
   "source": [
    "job = backend.run(tc, meas_level = 2)"
   ]
  },
  {
   "cell_type": "code",
   "execution_count": null,
   "id": "9a8e9eb3",
   "metadata": {},
   "outputs": [],
   "source": [
    "(2 * np.pi * 10.61032953945969)"
   ]
  }
 ],
 "metadata": {
  "kernelspec": {
   "display_name": "qiskit-connector",
   "language": "python",
   "name": "python3"
  },
  "language_info": {
   "codemirror_mode": {
    "name": "ipython",
    "version": 3
   },
   "file_extension": ".py",
   "mimetype": "text/x-python",
   "name": "python",
   "nbconvert_exporter": "python",
   "pygments_lexer": "ipython3",
   "version": "3.8.16"
  },
  "vscode": {
   "interpreter": {
    "hash": "1bdee9523903e54849e91f6d519bbe988fb436ad5095a775bdbcc1b8b659b6b4"
   }
  }
 },
 "nbformat": 4,
 "nbformat_minor": 5
}
