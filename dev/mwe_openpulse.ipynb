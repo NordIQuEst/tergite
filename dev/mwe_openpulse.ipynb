{
 "cells": [
  {
   "cell_type": "code",
   "execution_count": 1,
   "id": "ea5ee959",
   "metadata": {},
   "outputs": [],
   "source": [
    "import qiskit.circuit as circuit\n",
    "import qiskit.compiler as compiler\n",
    "from qiskit.providers.tergite import Tergite\n",
    "from time import sleep\n",
    "import requests"
   ]
  },
  {
   "cell_type": "code",
   "execution_count": 2,
   "id": "e777662e",
   "metadata": {},
   "outputs": [
    {
     "data": {
      "text/plain": [
       "TergiteBackend object @ 0x7f3a10606e20:\n",
       "  backend_name:               Nov7\n",
       "  backend_version:            2022.10.21\n",
       "  n_qubits:                   5\n",
       "  basis_gates:                []\n",
       "  gates:                      []\n",
       "  local:                      False\n",
       "  simulator:                  False\n",
       "  conditional:                False\n",
       "  open_pulse:                 True\n",
       "  memory:                     False\n",
       "  max_shots:                  inf\n",
       "  coupling_map:               [[0, 1], [1, 0], [1, 2], [2, 1], [2, 3], [3, 2], [3, 4], [4, 3]]\n",
       "  dynamic_reprate_enabled:    False\n",
       "  supported_instructions:     [(Instruction(name='reset', num_qubits=1, num_clbits=0, params=[]), (0,)), (Instruction(name='reset', num_qubits=1, num_clbits=0, params=[]), (1,)), (Instruction(name='reset', num_qubits=1, num_clbits=0, params=[]), (2,)), (Instruction(name='reset', num_qubits=1, num_clbits=0, params=[]), (3,)), (Instruction(name='reset', num_qubits=1, num_clbits=0, params=[]), (4,)), (Instruction(name='rx', num_qubits=1, num_clbits=0, params=[Parameter(theta)]), (0,)), (Instruction(name='rx', num_qubits=1, num_clbits=0, params=[Parameter(theta)]), (1,)), (Instruction(name='rx', num_qubits=1, num_clbits=0, params=[Parameter(theta)]), (2,)), (Instruction(name='rx', num_qubits=1, num_clbits=0, params=[Parameter(theta)]), (3,)), (Instruction(name='rx', num_qubits=1, num_clbits=0, params=[Parameter(theta)]), (4,)), (Instruction(name='rz', num_qubits=1, num_clbits=0, params=[Parameter(lambda)]), (0,)), (Instruction(name='rz', num_qubits=1, num_clbits=0, params=[Parameter(lambda)]), (1,)), (Instruction(name='rz', num_qubits=1, num_clbits=0, params=[Parameter(lambda)]), (2,)), (Instruction(name='rz', num_qubits=1, num_clbits=0, params=[Parameter(lambda)]), (3,)), (Instruction(name='rz', num_qubits=1, num_clbits=0, params=[Parameter(lambda)]), (4,)), (Delay(duration=tau[unit=dt]), (0,)), (Delay(duration=tau[unit=dt]), (1,)), (Delay(duration=tau[unit=dt]), (2,)), (Delay(duration=tau[unit=dt]), (3,)), (Delay(duration=tau[unit=dt]), (4,)), (Instruction(name='measure', num_qubits=1, num_clbits=1, params=[]), (0, 1, 2, 3, 4))]\n",
       "  dt:                         1e-09\n",
       "  dtm:                        1e-09\n",
       "  parametric_pulses:          ['constant', 'zero', 'square', 'sawtooth', 'triangle', 'cos', 'sin', 'gaussian', 'gaussian_deriv', 'sech', 'sech_deriv', 'gaussian_square', 'drag']\n",
       "  meas_levels:                (0, 1, 2)\n",
       "  characterized:              True"
      ]
     },
     "execution_count": 2,
     "metadata": {},
     "output_type": "execute_result"
    }
   ],
   "source": [
    "chalmers = Tergite.get_provider()\n",
    "backend = chalmers.get_backend(\"Nov7\")\n",
    "backend.set_options(shots=1024)\n",
    "backend"
   ]
  },
  {
   "cell_type": "code",
   "execution_count": 3,
   "id": "ffb98781",
   "metadata": {},
   "outputs": [
    {
     "data": {
      "text/plain": [
       "(                          rabi_oscillations ramsey_oscillations  \\\n",
       " qubit                                                             \n",
       " 0      fd66b448-0e51-4fbf-9d92-ce008056b495                None   \n",
       " 1      cb9f781e-20db-455c-aa54-d003aa33ef59                None   \n",
       " 2      4b089e2f-49bd-44c8-8bb8-9a394f6ba584                None   \n",
       " 3      09e4d28b-618f-4b2d-b6e4-e9497220e043                None   \n",
       " 4      bfc3aa31-e4c0-44e7-894c-c581554242d0                None   \n",
       " \n",
       "       t1_decoherence t2_decoherence state_discrimination  \\\n",
       " qubit                                                      \n",
       " 0               None           None                 None   \n",
       " 1               None           None                 None   \n",
       " 2               None           None                 None   \n",
       " 3               None           None                 None   \n",
       " 4               None           None                 None   \n",
       " \n",
       "                                spectroscopy  \n",
       " qubit                                        \n",
       " 0      8464ba47-91f8-4f22-88ea-33a3492e3e56  \n",
       " 1      36ba2dd8-a703-4bc5-a6b7-625630a4082e  \n",
       " 2      b6f0bfe5-3ebd-4b38-a9b7-0f03c36ead96  \n",
       " 3      ecec2dc8-628c-4737-8682-2f2587416865  \n",
       " 4      cd829aec-393d-4960-89aa-4ddbefa6ebe6  ,\n",
       "                                    spectroscopy\n",
       " resonator                                      \n",
       " 0          1fdedef3-b214-4e63-a61a-4d68c9a65fd1\n",
       " 1          49d0d2c8-5da5-4ea6-b7d9-75625076bec4\n",
       " 2          6bb2383a-89ce-45ad-9faf-fc6a596be15f\n",
       " 3          63829e5d-691f-49a1-aac1-15349bf6ea1c\n",
       " 4          eb9d64ed-1a60-44b7-a083-5bf93e214c62,\n",
       "         spectroscopy\n",
       " coupler             \n",
       " 0               None\n",
       " 1               None\n",
       " 2               None\n",
       " 3               None)"
      ]
     },
     "execution_count": 3,
     "metadata": {},
     "output_type": "execute_result"
    }
   ],
   "source": [
    "backend.calibration_tables"
   ]
  },
  {
   "cell_type": "code",
   "execution_count": 4,
   "id": "32407e1d",
   "metadata": {},
   "outputs": [
    {
     "data": {
      "text/html": [
       "<pre style=\"word-wrap: normal;white-space: pre;background: #fff0;line-height: 1.1;font-family: &quot;Courier New&quot;,Courier,monospace\">             \n",
       "q_0: ────────\n",
       "     ┌───┐┌─┐\n",
       "q_1: ┤ H ├┤M├\n",
       "     └───┘└╥┘\n",
       "c_0: ══════╬═\n",
       "           ║ \n",
       "c_1: ══════╩═\n",
       "             </pre>"
      ],
      "text/plain": [
       "             \n",
       "q_0: ────────\n",
       "     ┌───┐┌─┐\n",
       "q_1: ┤ H ├┤M├\n",
       "     └───┘└╥┘\n",
       "c_0: ══════╬═\n",
       "           ║ \n",
       "c_1: ══════╩═\n",
       "             "
      ]
     },
     "execution_count": 4,
     "metadata": {},
     "output_type": "execute_result"
    }
   ],
   "source": [
    "qc = circuit.QuantumCircuit(2, 2)\n",
    "qc.h(1)\n",
    "qc.measure(1, 1)\n",
    "qc.draw()"
   ]
  },
  {
   "cell_type": "code",
   "execution_count": 5,
   "id": "0c70eb23",
   "metadata": {},
   "outputs": [
    {
     "name": "stderr",
     "output_type": "stream",
     "text": [
      "This Target object contains multiqubit gates that operate on > 2 qubits. This will not be reflected in the output coupling map.\n",
      "This Target object contains multiqubit gates that operate on > 2 qubits. This will not be reflected in the output coupling map.\n",
      "This Target object contains multiqubit gates that operate on > 2 qubits. This will not be reflected in the output coupling map.\n",
      "This Target object contains multiqubit gates that operate on > 2 qubits. This will not be reflected in the output coupling map.\n"
     ]
    },
    {
     "data": {
      "text/html": [
       "<pre style=\"word-wrap: normal;white-space: pre;background: #fff0;line-height: 1.1;font-family: &quot;Courier New&quot;,Courier,monospace\">global phase: π/2\n",
       "                                                   \n",
       "      q_0 -> 0 ────────────────────────────────────\n",
       "               ┌─────────┐┌─────────┐┌─────────┐┌─┐\n",
       "      q_1 -> 1 ┤ Rz(π/2) ├┤ Rx(π/2) ├┤ Rz(π/2) ├┤M├\n",
       "               └─────────┘└─────────┘└─────────┘└╥┘\n",
       "ancilla_0 -> 2 ──────────────────────────────────╫─\n",
       "                                                 ║ \n",
       "ancilla_1 -> 3 ──────────────────────────────────╫─\n",
       "                                                 ║ \n",
       "ancilla_2 -> 4 ──────────────────────────────────╫─\n",
       "                                                 ║ \n",
       "          c_0: ══════════════════════════════════╬═\n",
       "                                                 ║ \n",
       "          c_1: ══════════════════════════════════╩═\n",
       "                                                   </pre>"
      ],
      "text/plain": [
       "global phase: π/2\n",
       "                                                   \n",
       "      q_0 -> 0 ────────────────────────────────────\n",
       "               ┌─────────┐┌─────────┐┌─────────┐┌─┐\n",
       "      q_1 -> 1 ┤ Rz(π/2) ├┤ Rx(π/2) ├┤ Rz(π/2) ├┤M├\n",
       "               └─────────┘└─────────┘└─────────┘└╥┘\n",
       "ancilla_0 -> 2 ──────────────────────────────────╫─\n",
       "                                                 ║ \n",
       "ancilla_1 -> 3 ──────────────────────────────────╫─\n",
       "                                                 ║ \n",
       "ancilla_2 -> 4 ──────────────────────────────────╫─\n",
       "                                                 ║ \n",
       "          c_0: ══════════════════════════════════╬═\n",
       "                                                 ║ \n",
       "          c_1: ══════════════════════════════════╩═\n",
       "                                                   "
      ]
     },
     "execution_count": 5,
     "metadata": {},
     "output_type": "execute_result"
    }
   ],
   "source": [
    "tc = compiler.transpile(qc, backend = backend)\n",
    "tc.draw()"
   ]
  },
  {
   "cell_type": "code",
   "execution_count": 6,
   "id": "03c6871b",
   "metadata": {},
   "outputs": [
    {
     "name": "stdout",
     "output_type": "stream",
     "text": [
      "Tergite: Job has been successfully submitted\n"
     ]
    }
   ],
   "source": [
    "job = backend.run(tc, meas_level = 2)"
   ]
  }
 ],
 "metadata": {
  "kernelspec": {
   "display_name": "Python 3.9.15: qiskit dec28",
   "language": "python",
   "name": "qiskit-dec28"
  },
  "language_info": {
   "codemirror_mode": {
    "name": "ipython",
    "version": 3
   },
   "file_extension": ".py",
   "mimetype": "text/x-python",
   "name": "python",
   "nbconvert_exporter": "python",
   "pygments_lexer": "ipython3",
   "version": "3.9.15"
  }
 },
 "nbformat": 4,
 "nbformat_minor": 5
}
