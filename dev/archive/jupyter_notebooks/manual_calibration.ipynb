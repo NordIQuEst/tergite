{
 "cells": [
  {
   "cell_type": "markdown",
   "id": "2da68bc3",
   "metadata": {},
   "source": [
    "# Qubit characterization tests"
   ]
  },
  {
   "cell_type": "code",
   "execution_count": null,
   "id": "773e859a",
   "metadata": {},
   "outputs": [],
   "source": [
    "import qiskit.pulse as pulse\n",
    "import qiskit.circuit as circuit\n",
    "from tergite_qiskit_connector.providers.tergite import Tergite\n",
    "\n",
    "# import template_schedules as templates\n",
    "from quantify_core.analysis import fitting_models as fm\n",
    "from qiskit.visualization.pulse_v2.stylesheet import IQXDebugging\n",
    "import numpy as np\n",
    "import matplotlib.pyplot as plt\n",
    "from quantify_core.visualization import mpl_plotting as qpl\n",
    "import matplotlib.ticker as plticker\n",
    "from tempfile import gettempdir\n",
    "import tqcsf.file\n",
    "from scipy.spatial import distance_matrix\n",
    "import time\n",
    "import requests\n",
    "import pathlib\n",
    "import functools\n",
    "import rich\n",
    "\n",
    "tuid1 = \"568ebf7c-4321-44a5-ac40-22c7260cccb6\""
   ]
  },
  {
   "cell_type": "code",
   "execution_count": null,
   "id": "d4833247",
   "metadata": {},
   "outputs": [],
   "source": [
    "def plot_mag(ds, **kwargs):\n",
    "\n",
    "    if \"flat\" in kwargs.keys():\n",
    "        flat = kwargs.pop(\"flat\")\n",
    "    else:\n",
    "        flat = False\n",
    "\n",
    "    fig, axs = plt.subplots(len(ds), 1, **kwargs)\n",
    "    var_peaks = dict()\n",
    "    if len(ds) == 1:\n",
    "        axs = [axs]\n",
    "\n",
    "    for i, var in enumerate(ds):\n",
    "        # show entire sweep on left hand side\n",
    "        abs_s21 = np.abs(ds[var])\n",
    "\n",
    "        x = ds.coords[ds.variables[var].attrs[\"coords\"][0]]\n",
    "\n",
    "        if flat:\n",
    "            all_peaks = dict()\n",
    "            for k in range(abs_s21.shape[1]):\n",
    "\n",
    "                #                 µ = abs_s21[:,k].mean()\n",
    "                #                 s = abs_s21[:,k].std()*1.3\n",
    "\n",
    "                #                 peaks = list()\n",
    "                #                 for idx_y, y in enumerate(abs_s21[:,k].data):\n",
    "                #                     if y > (µ + s):\n",
    "                #                         peaks.append([float(x[idx_y].data), float(y)])\n",
    "                #                 all_peaks[k] = np.asarray(peaks)\n",
    "\n",
    "                abs_s21[:, k].plot(ax=axs[i], color=f\"C{k}\", zorder=999 - k)\n",
    "            #                 axs[i].axhline(µ + s, color = \"black\", alpha = 0.3)\n",
    "            var_peaks[var] = all_peaks\n",
    "        else:\n",
    "            abs_s21.plot(ax=axs[i])\n",
    "\n",
    "        axs[i].set_title(var)\n",
    "    #         axs[i].xaxis.set_major_locator(plt.MaxNLocator(20))\n",
    "\n",
    "    return axs, var_peaks\n",
    "\n",
    "\n",
    "def plot_fit_resonator(ds):\n",
    "\n",
    "    fig, axs = plt.subplots(len(ds), 1)\n",
    "\n",
    "    for i, var in enumerate(ds):\n",
    "        # show entire sweep on left hand side\n",
    "        np.abs(ds[var]).plot(ax=axs[i])\n",
    "        axs[i].set_title(var)\n",
    "\n",
    "        x = ds.coords[ds.variables[var].attrs[\"coords\"][0]]\n",
    "        s21 = ds[var]\n",
    "\n",
    "        # fit resonator model against the data\n",
    "        model = fm.ResonatorModel()\n",
    "        guess = model.guess(s21.data, f=x.data)\n",
    "        fit_result = model.fit(s21, params=guess, f=x.data)\n",
    "\n",
    "        # plot model fit\n",
    "        qpl.plot_fit(\n",
    "            ax=axs[i],\n",
    "            fit_res=fit_result,\n",
    "            plot_init=True,\n",
    "            range_casting=\"abs\",\n",
    "        )\n",
    "        print(var, \":\", fit_result.params[\"fr\"].value / 1e9, \"GHz\")\n",
    "\n",
    "    return axs"
   ]
  },
  {
   "cell_type": "code",
   "execution_count": null,
   "id": "f8794f02",
   "metadata": {},
   "outputs": [],
   "source": [
    "chalmers = Tergite.get_provider()\n",
    "backend = chalmers.get_backend(\"PinguOpenPulse\")\n",
    "backend.set_options(shots=1000)\n",
    "templates.backend = backend"
   ]
  },
  {
   "cell_type": "code",
   "execution_count": null,
   "id": "cef31dd9",
   "metadata": {},
   "outputs": [],
   "source": [
    "qubits = (0, 1, 2, 3)  # qubits to characterize"
   ]
  },
  {
   "cell_type": "markdown",
   "id": "a48d6190",
   "metadata": {},
   "source": [
    "Since backend isn't finished, manually enter some data"
   ]
  },
  {
   "cell_type": "code",
   "execution_count": null,
   "id": "9a2b5759",
   "metadata": {},
   "outputs": [],
   "source": [
    "# these resonator frequencies are quite good\n",
    "# r0, r1, r2, r3 are from tuid: 20220812-132155-980-0e5fbb, with job id: ba9d5d96-7328-4efd-b02c-7f4cf07a0367\n",
    "# r4 is from https://qtl-team.atlassian.net/wiki/spaces/QCB/pages/2618195969/08th+Aug\n",
    "\n",
    "# 8d70a7f1-41f9-4bd6-a68f-abd6ae9fdf18 @ 17mV:\n",
    "# slot~0/acq~0 : 6.884461765134884 GHz\n",
    "# slot~1/acq~0 : 6.745482508417368 GHz\n",
    "# slot~2/acq~0 : 7.029379073099976 GHz\n",
    "# slot~3/acq~0 : 7.187505069855161 GHz\n",
    "#                                                                                                      8mV, 3µs\n",
    "resonator_freqs = [\n",
    "    6.884461765134884e9,\n",
    "    6.745482508417368e9,\n",
    "    7.029379073099976e9,\n",
    "    7.187505069855161e9,\n",
    "    6.66015e9,\n",
    "]"
   ]
  },
  {
   "cell_type": "markdown",
   "id": "0b353372",
   "metadata": {},
   "source": [
    "# 1D resonator spectroscopy"
   ]
  },
  {
   "cell_type": "code",
   "execution_count": null,
   "id": "d2a9e58d",
   "metadata": {},
   "outputs": [],
   "source": [
    "frequencies = np.asarray(\n",
    "    [\n",
    "        np.linspace(resonator_freqs[q] - 6e6, resonator_freqs[q] + 6e6, 600)\n",
    "        for q in qubits\n",
    "    ]\n",
    ").transpose()"
   ]
  },
  {
   "cell_type": "code",
   "execution_count": null,
   "id": "c68aa021",
   "metadata": {},
   "outputs": [],
   "source": [
    "param_sched = pulse.ScheduleBlock()\n",
    "\n",
    "freq0 = circuit.Parameter(f\"f drive 0\")\n",
    "freq1 = circuit.Parameter(f\"f drive 1\")\n",
    "freq2 = circuit.Parameter(f\"f drive 2\")\n",
    "freq3 = circuit.Parameter(f\"f drive 3\")\n",
    "\n",
    "param_sched += pulse.SetFrequency(freq0, backend.measure_channel(0))\n",
    "param_sched += pulse.SetFrequency(freq1, backend.measure_channel(1))\n",
    "param_sched += pulse.SetFrequency(freq2, backend.measure_channel(2))\n",
    "param_sched += pulse.SetFrequency(freq3, backend.measure_channel(3))\n",
    "\n",
    "ro_dur = 3500\n",
    "ro_amp = 17e-3\n",
    "\n",
    "param_sched += templates.measure(0, ro_amp=ro_amp, ro_dur=ro_dur)\n",
    "param_sched += templates.measure(1, ro_amp=ro_amp, ro_dur=ro_dur)\n",
    "param_sched += templates.measure(2, ro_amp=ro_amp, ro_dur=ro_dur)\n",
    "param_sched += templates.measure(3, ro_amp=ro_amp, ro_dur=ro_dur)"
   ]
  },
  {
   "cell_type": "code",
   "execution_count": null,
   "id": "f62be46c",
   "metadata": {},
   "outputs": [],
   "source": [
    "sweep = [\n",
    "    param_sched.assign_parameters(\n",
    "        {\n",
    "            freq0: f[0],\n",
    "            freq1: f[1],\n",
    "            freq2: f[2],\n",
    "            freq3: f[3],\n",
    "        },\n",
    "        inplace=False,\n",
    "    )\n",
    "    for f in frequencies\n",
    "]\n",
    "print(\"Total schedule count in sweep:\", len(sweep))"
   ]
  },
  {
   "cell_type": "code",
   "execution_count": null,
   "id": "74c66bb7",
   "metadata": {},
   "outputs": [],
   "source": [
    "sweep[10].draw(style=IQXDebugging())"
   ]
  },
  {
   "cell_type": "code",
   "execution_count": null,
   "id": "4b67b638",
   "metadata": {},
   "outputs": [],
   "source": [
    "# compile metadata about the sweep\n",
    "qobj_header = {\n",
    "    \"sweep\": {\n",
    "        \"serial_order\": (\"frequencies\",),\n",
    "        \"parameters\": {\n",
    "            \"frequencies\": {\n",
    "                \"long_name\": \"Frequency of readout pulse\",\n",
    "                \"unit\": \"Hz\",\n",
    "                \"slots\": {q: frequencies[:, i] for i, q in enumerate(qubits)},\n",
    "            }\n",
    "        },\n",
    "    }\n",
    "}\n",
    "job = backend.run(sweep, qobj_header=qobj_header)"
   ]
  },
  {
   "cell_type": "code",
   "execution_count": null,
   "id": "6967bff8",
   "metadata": {},
   "outputs": [],
   "source": [
    "while job.status != \"DONE\":\n",
    "    time.sleep(3)\n",
    "sf = tqcsf.file.StorageFile(job.logfile, mode=\"r\")\n",
    "ds = sf.as_xarray()\n",
    "ds"
   ]
  },
  {
   "cell_type": "code",
   "execution_count": null,
   "id": "9468c184",
   "metadata": {},
   "outputs": [],
   "source": [
    "sf = tqcsf.file.StorageFile(\"8d70a7f1-41f9-4bd6-a68f-abd6ae9fdf18.hdf5\", mode=\"r\")\n",
    "ds = sf.as_xarray()\n",
    "ds"
   ]
  },
  {
   "cell_type": "code",
   "execution_count": null,
   "id": "1b3f1c09",
   "metadata": {
    "scrolled": false
   },
   "outputs": [],
   "source": [
    "axs = plot_fit_resonator(ds)\n",
    "axs[0].axhline(rs_µ0 := np.abs(ds[f\"slot~{0}/acq~0\"]).mean(), color=\"pink\")\n",
    "axs[1].axhline(rs_µ1 := np.abs(ds[f\"slot~{1}/acq~0\"]).mean(), color=\"pink\")\n",
    "axs[2].axhline(rs_µ2 := np.abs(ds[f\"slot~{2}/acq~0\"]).mean(), color=\"pink\")\n",
    "axs[3].axhline(rs_µ3 := np.abs(ds[f\"slot~{3}/acq~0\"]).mean(), color=\"pink\")\n",
    "\n",
    "# axs[0].axhline(rs_min0 := np.abs(ds[f\"slot~{0}/acq~0\"]).min(), color = \"blue\")\n",
    "# axs[1].axhline(rs_min1 := np.abs(ds[f\"slot~{1}/acq~0\"]).min(), color = \"blue\")\n",
    "# axs[2].axhline(rs_min2 := np.abs(ds[f\"slot~{2}/acq~0\"]).min(), color = \"blue\")\n",
    "# axs[3].axhline(rs_min3 := np.abs(ds[f\"slot~{3}/acq~0\"]).min(), color = \"blue\")\n",
    "\n",
    "print(\"rs_min0 - rs_µ0 = \", np.abs(rs_µ0).data * 1000, \"mV\")\n",
    "print(\"rs_min1 - rs_µ1 = \", np.abs(rs_µ1).data * 1000, \"mV\")\n",
    "print(\"rs_min2 - rs_µ2 = \", np.abs(rs_µ2).data * 1000, \"mV\")\n",
    "print(\"rs_min3 - rs_µ3 = \", np.abs(rs_µ3).data * 1000, \"mV\")"
   ]
  },
  {
   "cell_type": "markdown",
   "id": "b686c3da",
   "metadata": {},
   "source": [
    "# Qubit spectroscopy"
   ]
  },
  {
   "cell_type": "code",
   "execution_count": null,
   "id": "2fcd9c35",
   "metadata": {},
   "outputs": [],
   "source": [
    "param_sched = pulse.ScheduleBlock()\n",
    "\n",
    "freqs = list()\n",
    "amps = list()\n",
    "qubits = (4,)\n",
    "for q in qubits:\n",
    "    param_sched += pulse.SetFrequency(resonator_freqs[q], backend.measure_channel(q))\n",
    "    freq = circuit.Parameter(f\"f drive {q}\")\n",
    "    stim_amp = circuit.Parameter(f\"a drive {q}\")\n",
    "    stim_dur = 4000\n",
    "    stim_sigma = 3\n",
    "    ro_dur = 3000\n",
    "    ro_amp = 8e-3\n",
    "\n",
    "    param_sched += pulse.SetFrequency(freq, backend.drive_channel(q))\n",
    "    #     param_sched += templates.excite(q, stim_amp = stim_amp, stim_dur = stim_dur, stim_sigma = stim_sigma)\n",
    "    param_sched += templates.excite_square(q, stim_amp=stim_amp, stim_dur=stim_dur)\n",
    "    param_sched += templates.measure(q, ro_amp=ro_amp, ro_dur=ro_dur)\n",
    "\n",
    "    freqs.append(freq)\n",
    "    amps.append(stim_amp)"
   ]
  },
  {
   "cell_type": "code",
   "execution_count": null,
   "id": "b6329268",
   "metadata": {},
   "outputs": [],
   "source": []
  },
  {
   "cell_type": "code",
   "execution_count": null,
   "id": "d45716c3",
   "metadata": {},
   "outputs": [],
   "source": [
    "GHz = 1e9\n",
    "MHz = 1e6\n",
    "\n",
    "# q0_center  = 6075000000\n",
    "# q1_center  = 5900000000\n",
    "# q2_center  = 6150000000\n",
    "# q3_center  = 5800000000\n",
    "q4_center = 4900000000\n",
    "\n",
    "# q0_center = 6.173e9\n",
    "# q2_center = 6.091e9\n",
    "# q3_center = 5.600e9\n",
    "\n",
    "freq_span = 144 * MHz\n",
    "freq_step = 0.7 * MHz\n",
    "\n",
    "frequencies = np.asarray(\n",
    "    [\n",
    "        #     np.arange(q0_center - freq_span/2, q0_center + freq_span/2, freq_step),\n",
    "        #     np.arange(q1_center - freq_span/2, q1_center + freq_span/2, freq_step),\n",
    "        #     np.arange(q2_center - freq_span/2, q2_center + freq_span/2, freq_step),\n",
    "        #     np.arange(q3_center - freq_span/2, q3_center + freq_span/2, freq_step),\n",
    "        np.arange(q4_center - freq_span / 2, q4_center + freq_span / 2, freq_step),\n",
    "    ]\n",
    ").transpose()\n",
    "amplitudes = np.asarray(\n",
    "    [\n",
    "        #     np.linspace(0.3e-3, 3e-3, 10),\n",
    "        #     np.linspace(0.3e-3, 3e-3, 10),\n",
    "        #     np.linspace(0.3e-3, 3e-3, 10),\n",
    "        np.linspace(4e-3, 20e-3, 15),\n",
    "    ]\n",
    ").transpose()\n",
    "print(\"That will be:\", frequencies.shape[0] * amplitudes.shape[0], \"schedules\")"
   ]
  },
  {
   "cell_type": "code",
   "execution_count": null,
   "id": "83fcea2c",
   "metadata": {},
   "outputs": [],
   "source": [
    "%matplotlib inline\n",
    "sweep = [\n",
    "    param_sched.assign_parameters(\n",
    "        {freq: f[i] for i, freq in enumerate(freqs)}\n",
    "        | {amp: a[i] for i, amp in enumerate(amps)},\n",
    "        inplace=False,\n",
    "    )\n",
    "    for f in frequencies\n",
    "    for a in amplitudes\n",
    "]\n",
    "print(\"Total schedule count in sweep:\", len(sweep))"
   ]
  },
  {
   "cell_type": "code",
   "execution_count": null,
   "id": "873a20d2",
   "metadata": {
    "scrolled": false
   },
   "outputs": [],
   "source": [
    "sweep[2000].draw(style=IQXDebugging())"
   ]
  },
  {
   "cell_type": "code",
   "execution_count": null,
   "id": "a2b58423",
   "metadata": {},
   "outputs": [],
   "source": [
    "# compile metadata about the sweep\n",
    "qobj_header = {\n",
    "    \"sweep\": {\n",
    "        \"serial_order\": (\"frequencies\", \"amplitudes\"),\n",
    "        \"parameters\": {\n",
    "            \"frequencies\": {\n",
    "                \"long_name\": \"Frequency of drive pulse\",\n",
    "                \"unit\": \"Hz\",\n",
    "                \"slots\": {q: frequencies[:, i] for i, q in enumerate(qubits)},\n",
    "            },\n",
    "            \"amplitudes\": {\n",
    "                \"long_name\": \"Amplitude of drive pulse\",\n",
    "                \"unit\": \"V\",\n",
    "                \"slots\": {q: amplitudes[:, i] for i, q in enumerate(qubits)},\n",
    "            },\n",
    "        },\n",
    "    }\n",
    "}\n",
    "job = backend.run(sweep, qobj_header=qobj_header)"
   ]
  },
  {
   "cell_type": "code",
   "execution_count": null,
   "id": "f351bf48",
   "metadata": {},
   "outputs": [],
   "source": [
    "job.status"
   ]
  },
  {
   "cell_type": "code",
   "execution_count": null,
   "id": "d1cc6248",
   "metadata": {},
   "outputs": [],
   "source": [
    "while job.status != \"DONE\":\n",
    "    time.sleep(5)\n",
    "sf = tqcsf.file.StorageFile(job.logfile, mode=\"r\")\n",
    "print(\"File location: \", pathlib.Path(gettempdir()) / sf.job_id)\n",
    "ds = sf.as_xarray()\n",
    "ds"
   ]
  },
  {
   "cell_type": "code",
   "execution_count": null,
   "id": "1e7671db",
   "metadata": {},
   "outputs": [],
   "source": [
    "ow_tuid = \"476764bf-2ed4-48ec-bf88-225c36f2763c\"\n",
    "ow_tuid = \"73a5b6ff-8506-4747-8396-084b59b15241\"\n",
    "ow_tuid = \"5a8b6c49-a52c-4107-8f17-0f78262e8ec3\"\n",
    "ow_tuid = \"476764bf-2ed4-48ec-bf88-225c36f2763c\"\n",
    "ow_tuid = \"73a5b6ff-8506-4747-8396-084b59b15241\"\n",
    "ow_tuid = \"73a5b6ff-8506-4747-8396-084b59b15241\"\n",
    "ow_tuid = \"965047e7-da22-40ae-b1a8-05f1b1840591\"\n",
    "ow_tuid = \"965047e7-da22-40ae-b1a8-05f1b1840591\"\n",
    "ow_tuid = \"abbc4a62-f3dd-46a1-8d2f-ec90bc475523\"\n",
    "sf = tqcsf.file.StorageFile(f\"{ow_tuid}.hdf5\", mode=\"a\")"
   ]
  },
  {
   "cell_type": "code",
   "execution_count": null,
   "id": "11277e66",
   "metadata": {},
   "outputs": [],
   "source": [
    "sf.header[\"qobj/sweep/parameters/amplitudes/slots\"].create_dataset(\n",
    "    name=\"slot~1\",\n",
    "    shape=sf.header[\"qobj/sweep/parameters/amplitudes/slots/slot~0\"].shape,\n",
    "    dtype=sf.header[\"qobj/sweep/parameters/amplitudes/slots/slot~0\"].dtype,\n",
    ")\n",
    "sf.header[\"qobj/sweep/parameters/amplitudes/slots/slot~1\"][...] = sf.header[\n",
    "    \"qobj/sweep/parameters/amplitudes/slots/slot~0\"\n",
    "][:]"
   ]
  },
  {
   "cell_type": "code",
   "execution_count": null,
   "id": "4827a3ac",
   "metadata": {},
   "outputs": [],
   "source": [
    "s = \"qobj/sweep/parameters/frequencies/slots\"\n",
    "s0 = s + \"/slot~0\"\n",
    "# sf.header[s].create_dataset(name = \"slot~1\", shape = sf.header[s0].shape, dtype = sf.header[s0].dtype)\n",
    "for q in qubits:\n",
    "    sf.header[s + f\"/slot~{q}\"][...] = frequencies[:, q]"
   ]
  },
  {
   "cell_type": "code",
   "execution_count": null,
   "id": "fb8dcb90",
   "metadata": {},
   "outputs": [],
   "source": [
    "sf.header[s0][:]"
   ]
  },
  {
   "cell_type": "code",
   "execution_count": null,
   "id": "def01fdf",
   "metadata": {},
   "outputs": [],
   "source": [
    "# ow_tuid = \"ec83c006-5e1c-4fa6-81a0-f3a63de0561b\"\n",
    "# ow_tuid = \"e4c1c501-304d-4a08-a677-6994f3d55e07\"\n",
    "# ow_tuid = \"7e36443a-fa5e-4716-9176-4be217550580\"\n",
    "# ow_tuid = \"476764bf-2ed4-48ec-bf88-225c36f2763c\"\n",
    "# sf = tqcsf.file.StorageFile(f\"{ow_tuid}.hdf5\", mode = \"r\")\n",
    "\n",
    "# q0_center  = 6075000000\n",
    "# q1_center  = 5900000000\n",
    "# q2_center  = 6150000000\n",
    "# q3_center  = 5800000000\n",
    "\n",
    "ds = sf.as_xarray()\n",
    "ds"
   ]
  },
  {
   "attachments": {
    "image.png": {
     "image/png": "[encoded data removed]"
    }
   },
   "cell_type": "markdown",
   "id": "24bafeb0",
   "metadata": {},
   "source": [
    "![image.png](attachment:image.png)"
   ]
  },
  {
   "cell_type": "code",
   "execution_count": null,
   "id": "e6998344",
   "metadata": {
    "scrolled": false
   },
   "outputs": [],
   "source": [
    "%matplotlib notebook\n",
    "# rs_min0 - rs_µ0 =  8.80309002154728 mV\n",
    "# rs_min1 - rs_µ1 =  4.809334641021828 mV\n",
    "# rs_min2 - rs_µ2 =  7.81497577653904 mV\n",
    "# rs_min3 - rs_µ3 =  3.5735241012736476 mV\n",
    "\n",
    "axs, peaks = plot_mag(ds, flat=False, sharex=True)\n",
    "# axs[0].set_xlabel(\"\")\n",
    "# axs[0].axvline(6.1764e9, color = \"red\")\n",
    "# # axs[0].axhline(8.80309002154728/1000, color = \"red\")\n",
    "# axs[1].set_xlabel(\"\")\n",
    "# axs[1].axvline(6.052e9, color = \"red\")\n",
    "# # axs[1].axhline(4.809334641021828/1000, color = \"red\")\n",
    "# axs[2].set_xlabel(\"\")\n",
    "# axs[2].axvline(6.238e9, color = \"red\")\n",
    "# # axs[2].axhline(7.81497577653904/1000, color = \"red\")\n",
    "# axs[3].axvline(5.91e9, color = \"red\")\n",
    "# # axs[3].axhline(3.5735241012736476/1000, color = \"red\")"
   ]
  },
  {
   "cell_type": "code",
   "execution_count": null,
   "id": "ec73adbc",
   "metadata": {},
   "outputs": [],
   "source": [
    "data[143], data[112]"
   ]
  },
  {
   "cell_type": "code",
   "execution_count": null,
   "id": "3e5d7daa",
   "metadata": {},
   "outputs": [],
   "source": [
    "# 7e36443a-fa5e-4716-9176-4be217550580\n",
    "# pinkline : LO, blue line: Pingu A VNA freq, red line: expected freq, 0mV, 1.5mV, 3mV, Gaussian pulse, 300ns, 60ns sigma (edited)\n",
    "# q0_res = 6.174e9\n",
    "# q2_res = 6.091e9\n",
    "# q3_res = 5.600e9"
   ]
  },
  {
   "cell_type": "code",
   "execution_count": null,
   "id": "153334bb",
   "metadata": {},
   "outputs": [],
   "source": [
    "%matplotlib notebook\n",
    "fig, ax = plt.subplots()\n",
    "abs_s21 = np.abs(ds[\"slot~3/acq~0\"])[:, -5]\n",
    "abs_s21.plot(ax=ax)\n",
    "µ = abs_s21.mean().data\n",
    "σ = abs_s21.std().data\n",
    "m = abs_s21.max().data\n",
    "ax.axhline(µ, color=\"pink\")\n",
    "# ax.axhline(µ-σ, color = \"green\")\n",
    "# ax.axhline(µ+σ, color = \"green\")\n",
    "ax.axhline(m, color=\"blue\")\n",
    "\n",
    "print(\"||m - (µ - σ) ||\\t= \", abs(m - µ + σ) * 1000, \"mV\")\n",
    "print(\"||m - µ||\\t\\t= \", abs(m - µ) * 1000, \"mV\")\n",
    "print(\"||m - (µ + σ) ||\\t= \", abs(m - µ - σ) * 1000, \"mV\")"
   ]
  }
 ],
 "metadata": {
  "kernelspec": {
   "display_name": "Python 3.9: qiskit",
   "language": "python",
   "name": "qiskit"
  },
  "language_info": {
   "codemirror_mode": {
    "name": "ipython",
    "version": 3
   },
   "file_extension": ".py",
   "mimetype": "text/x-python",
   "name": "python",
   "nbconvert_exporter": "python",
   "pygments_lexer": "ipython3",
   "version": "3.9.13"
  }
 },
 "nbformat": 4,
 "nbformat_minor": 5
}
