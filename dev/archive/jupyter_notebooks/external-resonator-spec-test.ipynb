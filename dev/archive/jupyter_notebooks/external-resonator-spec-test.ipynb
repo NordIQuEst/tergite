{
 "cells": [
  {
   "cell_type": "code",
   "execution_count": null,
   "id": "71d639e5",
   "metadata": {},
   "outputs": [],
   "source": [
    "from qiskit.pulse import ScheduleBlock, Schedule\n",
    "from qiskit.pulse.instructions import (\n",
    "    Play,\n",
    "    Delay,\n",
    "    SetFrequency,\n",
    "    SetPhase,\n",
    "    ShiftFrequency,\n",
    "    ShiftPhase,\n",
    "    Acquire,\n",
    ")\n",
    "from qiskit.pulse.library import Gaussian, Constant, cos\n",
    "from qiskit.pulse.transforms.alignments import AlignRight, AlignLeft, AlignEquispaced\n",
    "from qiskit.visualization.pulse_v2.stylesheet import IQXDebugging\n",
    "from qiskit.circuit import Parameter\n",
    "from qiskit.pulse.channels import (\n",
    "    MemorySlot,\n",
    "    AcquireChannel,\n",
    "    MeasureChannel,\n",
    "    DriveChannel,\n",
    ")\n",
    "\n",
    "import numpy as np\n",
    "import qiskit.compiler as compiler"
   ]
  },
  {
   "cell_type": "code",
   "execution_count": null,
   "id": "cb9acb68",
   "metadata": {},
   "outputs": [],
   "source": [
    "µs = 1e-6\n",
    "ns = 1e-9\n",
    "MHz = 1e6\n",
    "GHz = 1e9\n",
    "mV = 1e-3"
   ]
  },
  {
   "cell_type": "code",
   "execution_count": null,
   "id": "e073b148",
   "metadata": {},
   "outputs": [],
   "source": [
    "freq_qubit = Parameter(\"freq\")\n",
    "qubit = 0\n",
    "\n",
    "spec_pulse_width = 3.5 * µs\n",
    "spec_pulse_amp = 14 * mV"
   ]
  },
  {
   "cell_type": "code",
   "execution_count": null,
   "id": "1f2c7ff9",
   "metadata": {},
   "outputs": [],
   "source": [
    "center = 6.21445 * GHz\n",
    "span = 35 * MHz\n",
    "step = 1.5 * MHz\n",
    "start = center - span / 2\n",
    "end = center + span / 2\n",
    "frequencies = np.arange(start, end, step)\n",
    "\n",
    "print(\n",
    "    f\"Sweeping from {start/GHz} GHz to {end/GHz} GHz around {center/GHz} GHz with stepsize {step/MHz} MHz.\"\n",
    ")\n",
    "# ----------------------------------------------\n",
    "\n",
    "sched = ScheduleBlock(f\"resonator spectroscopy - stepsize {step/MHz} MHz\")\n",
    "sched += SetFrequency(freq_qubit, MeasureChannel(qubit))\n",
    "sched += SetFrequency(freq_qubit, MeasureChannel(qubit))\n",
    "sched += Play(\n",
    "    Constant(int(spec_pulse_width / ns), amp=spec_pulse_amp), MeasureChannel(qubit)\n",
    ")\n",
    "sched += Delay(300, AcquireChannel(qubit), \"Time of flight\")\n",
    "sched += Acquire(int(3 * µs / ns), AcquireChannel(qubit), MemorySlot(qubit))\n",
    "\n",
    "# ----------------------------------------------\n",
    "sweep = [sched.assign_parameters({freq_qubit: f}, inplace=False) for f in frequencies]\n",
    "print(f\"Thats {len(sweep)} schedules\")"
   ]
  },
  {
   "cell_type": "code",
   "execution_count": null,
   "id": "a5f0c78d",
   "metadata": {},
   "outputs": [],
   "source": [
    "sweep[0].draw(style=IQXDebugging())"
   ]
  },
  {
   "cell_type": "markdown",
   "id": "29d78aae",
   "metadata": {},
   "source": [
    "# Loading Tergite and the backend"
   ]
  },
  {
   "cell_type": "code",
   "execution_count": null,
   "id": "27d5266f",
   "metadata": {},
   "outputs": [],
   "source": [
    "from tergite_qiskit_connector.providers.tergite import Tergite\n",
    "\n",
    "chalmers = Tergite.get_provider()\n",
    "backend = chalmers.get_backend(\"Pingu\")\n",
    "backend.set_options(shots=1024)\n",
    "backend.options.shots"
   ]
  },
  {
   "cell_type": "code",
   "execution_count": null,
   "id": "c4f884ea",
   "metadata": {},
   "outputs": [],
   "source": [
    "import tempfile\n",
    "from pathlib import Path\n",
    "\n",
    "Path(tempfile.gettempdir())"
   ]
  },
  {
   "cell_type": "code",
   "execution_count": null,
   "id": "31d0b531",
   "metadata": {},
   "outputs": [],
   "source": [
    "backend.run(\n",
    "    sweep,\n",
    "    meas_level=1,\n",
    "    meas_return=\"avg\",\n",
    "    qobj_header={\n",
    "        \"frequencies\": frequencies,\n",
    "        # \"amplitudes\"  : amplitudes\n",
    "    },\n",
    ")"
   ]
  }
 ],
 "metadata": {
  "kernelspec": {
   "display_name": "Python 3.9: Testing",
   "language": "python",
   "name": "test"
  },
  "language_info": {
   "codemirror_mode": {
    "name": "ipython",
    "version": 3
   },
   "file_extension": ".py",
   "mimetype": "text/x-python",
   "name": "python",
   "nbconvert_exporter": "python",
   "pygments_lexer": "ipython3",
   "version": "3.9.13"
  }
 },
 "nbformat": 4,
 "nbformat_minor": 5
}
