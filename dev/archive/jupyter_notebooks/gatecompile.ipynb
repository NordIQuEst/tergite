{
 "cells": [
  {
   "cell_type": "code",
   "execution_count": null,
   "id": "dedce0eb",
   "metadata": {},
   "outputs": [],
   "source": [
    "import qiskit.circuit as circuit\n",
    "import qiskit.pulse as pulse\n",
    "import qiskit.compiler as compiler\n",
    "import numpy as np\n",
    "from tergite_qiskit_connector.providers.tergite import Tergite\n",
    "from qiskit.visualization.pulse_v2.stylesheet import IQXDebugging, IQXSimple"
   ]
  },
  {
   "cell_type": "code",
   "execution_count": null,
   "id": "16336f73",
   "metadata": {
    "scrolled": false
   },
   "outputs": [],
   "source": [
    "chalmers = Tergite.get_provider()\n",
    "backend = chalmers.get_backend(\"PinguOpenPulse_characterized\")\n",
    "backend.set_options(shots=1024)"
   ]
  },
  {
   "cell_type": "code",
   "execution_count": null,
   "id": "077c935b",
   "metadata": {},
   "outputs": [],
   "source": [
    "backend.calibration_table"
   ]
  },
  {
   "cell_type": "code",
   "execution_count": null,
   "id": "27530af1",
   "metadata": {},
   "outputs": [],
   "source": [
    "import rich\n",
    "\n",
    "rich.print(backend.target.instruction_schedule_map())"
   ]
  },
  {
   "cell_type": "code",
   "execution_count": null,
   "id": "bded7666",
   "metadata": {},
   "outputs": [],
   "source": [
    "# this chip has 5 qubits, but we will only use 4, meaning the last one will be used as ancilla\n",
    "qc = circuit.QuantumCircuit(4, 4)\n",
    "qc.barrier([0, 1, 2, 3])\n",
    "qc.reset(1)\n",
    "qc.reset(2)\n",
    "qc.reset(3)\n",
    "qc.h(2)\n",
    "qc.h(2)  # note that this is optimized away, since HH = I\n",
    "qc.h(3)  # this will transpile to ZXZ\n",
    "qc.rx(np.pi / 4, 1)  # we can also do arbitrary rotations around x-axis\n",
    "qc.measure([1, 2, 3], [1, 2, 3])\n",
    "qc.draw()"
   ]
  },
  {
   "cell_type": "code",
   "execution_count": null,
   "id": "58fe9ebe",
   "metadata": {},
   "outputs": [],
   "source": [
    "tc = compiler.transpile(qc, backend=backend)\n",
    "tc.draw()"
   ]
  },
  {
   "cell_type": "code",
   "execution_count": null,
   "id": "737d7a60",
   "metadata": {},
   "outputs": [],
   "source": [
    "sched = compiler.schedule(tc, backend=backend)\n",
    "sched.draw()"
   ]
  },
  {
   "cell_type": "code",
   "execution_count": null,
   "id": "0a3e9db2",
   "metadata": {
    "scrolled": false
   },
   "outputs": [],
   "source": [
    "rich.print(backend.make_qobj(sched, meas_level=1))"
   ]
  }
 ],
 "metadata": {
  "kernelspec": {
   "display_name": "Python 3.9: qiskit",
   "language": "python",
   "name": "qiskit"
  },
  "language_info": {
   "codemirror_mode": {
    "name": "ipython",
    "version": 3
   },
   "file_extension": ".py",
   "mimetype": "text/x-python",
   "name": "python",
   "nbconvert_exporter": "python",
   "pygments_lexer": "ipython3",
   "version": "3.9.13"
  }
 },
 "nbformat": 4,
 "nbformat_minor": 5
}
