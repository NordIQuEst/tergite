{
 "cells": [
  {
   "cell_type": "code",
   "execution_count": null,
   "id": "dedce0eb",
   "metadata": {},
   "outputs": [],
   "source": [
    "import qiskit.circuit as circuit\n",
    "import qiskit.pulse as pulse\n",
    "import qiskit.compiler as compiler\n",
    "import retworkx.visualization as rxv\n",
    "import numpy as np\n",
    "from qiskit.providers.tergite import Tergite\n",
    "from qiskit.visualization.pulse_v2.stylesheet import IQXDebugging, IQXSimple"
   ]
  },
  {
   "cell_type": "code",
   "execution_count": null,
   "id": "16336f73",
   "metadata": {
    "scrolled": false
   },
   "outputs": [],
   "source": [
    "chalmers = Tergite.get_provider()\n",
    "backend = chalmers.get_backend(input(\"Backend name? \"))\n",
    "backend.set_options(shots=1500)\n",
    "print(f\"Loaded Tergite backend {backend.name}\")"
   ]
  },
  {
   "cell_type": "code",
   "execution_count": null,
   "id": "bded7666",
   "metadata": {},
   "outputs": [],
   "source": [
    "# this chip has 5 qubits, but we will only use 4, meaning the last one will be used as ancilla\n",
    "qc = circuit.QuantumCircuit(4, 4)\n",
    "qc.barrier([0, 1, 2, 3])\n",
    "\n",
    "qc.reset(1)\n",
    "qc.reset(2)\n",
    "qc.reset(3)\n",
    "\n",
    "qc.h(2)\n",
    "qc.h(2)  # note that this is optimized away, since HH = I\n",
    "qc.h(3)  # this will transpile to ZXZ\n",
    "qc.rx(np.pi, 1)  # we can also do arbitrary rotations around x-axis\n",
    "qc.measure([1, 2, 3], [1, 2, 3])\n",
    "qc.draw()"
   ]
  },
  {
   "cell_type": "code",
   "execution_count": null,
   "id": "58fe9ebe",
   "metadata": {},
   "outputs": [],
   "source": [
    "tc = compiler.transpile(qc, backend=backend)\n",
    "tc.draw()"
   ]
  },
  {
   "cell_type": "code",
   "execution_count": null,
   "id": "737d7a60",
   "metadata": {},
   "outputs": [],
   "source": [
    "sched = compiler.schedule(tc, backend=backend)\n",
    "sched.draw(style=IQXDebugging())"
   ]
  },
  {
   "cell_type": "code",
   "execution_count": null,
   "id": "0a3e9db2",
   "metadata": {
    "scrolled": false
   },
   "outputs": [],
   "source": [
    "print(backend.make_qobj(sched, meas_level=1))"
   ]
  }
 ],
 "metadata": {
  "kernelspec": {
   "display_name": "Python 3.9: qiskit",
   "language": "python",
   "name": "qiskit"
  },
  "language_info": {
   "codemirror_mode": {
    "name": "ipython",
    "version": 3
   },
   "file_extension": ".py",
   "mimetype": "text/x-python",
   "name": "python",
   "nbconvert_exporter": "python",
   "pygments_lexer": "ipython3",
   "version": "3.9.13"
  }
 },
 "nbformat": 4,
 "nbformat_minor": 5
}
