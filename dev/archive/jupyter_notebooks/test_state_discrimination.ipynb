{
 "cells": [
  {
   "cell_type": "code",
   "execution_count": null,
   "id": "dedce0eb",
   "metadata": {},
   "outputs": [],
   "source": [
    "import qiskit.circuit as circuit\n",
    "import qiskit.pulse as pulse\n",
    "import qiskit.compiler as compiler\n",
    "import retworkx.visualization as rxv\n",
    "from sklearn.discriminant_analysis import LinearDiscriminantAnalysis\n",
    "import matplotlib.pyplot as plt\n",
    "import numpy as np\n",
    "import time\n",
    "from shutil import copyfile\n",
    "from qiskit.providers.jobstatus import JobStatus\n",
    "import tqcsf.file\n",
    "from matplotlib import colors\n",
    "from qiskit.providers.tergite import Tergite\n",
    "from qiskit.visualization.pulse_v2.stylesheet import IQXDebugging, IQXSimple"
   ]
  },
  {
   "cell_type": "code",
   "execution_count": null,
   "id": "16336f73",
   "metadata": {
    "scrolled": false
   },
   "outputs": [],
   "source": [
    "chalmers = Tergite.get_provider()\n",
    "backend = chalmers.get_backend(input(\"Backend name? \"))"
   ]
  },
  {
   "cell_type": "code",
   "execution_count": null,
   "id": "50d009ea",
   "metadata": {},
   "outputs": [],
   "source": [
    "qubit_idx = 4"
   ]
  },
  {
   "cell_type": "code",
   "execution_count": null,
   "id": "8d2c8400",
   "metadata": {},
   "outputs": [],
   "source": [
    "qc0 = circuit.QuantumCircuit(5, 5, name=\"KET0\")\n",
    "qc0.barrier([qubit_idx])\n",
    "qc0.reset(qubit_idx)\n",
    "qc0.measure([qubit_idx], [qubit_idx])\n",
    "qc0.draw()"
   ]
  },
  {
   "cell_type": "code",
   "execution_count": null,
   "id": "bded7666",
   "metadata": {},
   "outputs": [],
   "source": [
    "qc1 = circuit.QuantumCircuit(5, 5, name=\"KET1\")\n",
    "qc1.barrier([qubit_idx])\n",
    "qc1.reset(qubit_idx)\n",
    "qc1.rx(np.pi, qubit_idx)\n",
    "qc1.measure([qubit_idx], [qubit_idx])\n",
    "qc1.draw()"
   ]
  },
  {
   "cell_type": "code",
   "execution_count": null,
   "id": "0a3e9db2",
   "metadata": {
    "scrolled": false
   },
   "outputs": [],
   "source": [
    "backend.set_options(shots=6000)\n",
    "job = backend.run([qc0, qc1], meas_level=1, meas_return=\"single\")\n",
    "while job.status() != JobStatus.DONE:\n",
    "    time.sleep(1)\n",
    "\n",
    "data_dict = \"C:\\\\Users\\\\Axel\\\\Documents\\\\tergite-qiskit-connector\\\\tests\\\\data\\\\31oct\\\\\"\n",
    "new_file = copyfile(job.logfile, data_dict + f\"state-disc-q{qubit_idx}.sf\")"
   ]
  },
  {
   "cell_type": "code",
   "execution_count": null,
   "id": "57f6b131",
   "metadata": {},
   "outputs": [],
   "source": [
    "sf = tqcsf.file.StorageFile(new_file, mode=\"r\")"
   ]
  },
  {
   "cell_type": "code",
   "execution_count": null,
   "id": "da99f777",
   "metadata": {},
   "outputs": [],
   "source": [
    "sf.tuid"
   ]
  },
  {
   "cell_type": "code",
   "execution_count": null,
   "id": "f641be94",
   "metadata": {},
   "outputs": [],
   "source": [
    "states = {}\n",
    "for tag, data in sf.sort_items(sf.experiments.items()):\n",
    "    msmt = data[f\"slot~{qubit_idx}/measurement\"][:]\n",
    "    states[tag] = data[f\"slot~{qubit_idx}/measurement\"][0, :]"
   ]
  },
  {
   "cell_type": "code",
   "execution_count": null,
   "id": "9423d2c5",
   "metadata": {},
   "outputs": [],
   "source": [
    "%matplotlib inline\n",
    "fig = plt.figure()\n",
    "ax = fig.add_subplot()\n",
    "\n",
    "label = list()\n",
    "for tag, pts in states.items():\n",
    "    label.append(tag)\n",
    "    ax.scatter(pts.real, pts.imag, s=2.5, alpha=0.5)\n",
    "\n",
    "ax.set_aspect(\"equal\")\n",
    "ax.set_xlabel(\"Re\")\n",
    "ax.set_ylabel(\"Im\")\n",
    "ax.legend(label)\n",
    "ax.axvline(0, c=\"black\", alpha=0.1, zorder=-99)\n",
    "ax.axhline(0, c=\"black\", alpha=0.1, zorder=-99)"
   ]
  },
  {
   "cell_type": "code",
   "execution_count": null,
   "id": "634d6315",
   "metadata": {},
   "outputs": [],
   "source": [
    "assert False, \"BREAKPOINT\""
   ]
  },
  {
   "cell_type": "markdown",
   "id": "8ec79339",
   "metadata": {},
   "source": [
    "# LDA"
   ]
  },
  {
   "cell_type": "code",
   "execution_count": null,
   "id": "f81cbff4",
   "metadata": {},
   "outputs": [],
   "source": [
    "import qiskit.circuit as circuit\n",
    "import qiskit.pulse as pulse\n",
    "import qiskit.compiler as compiler\n",
    "import retworkx.visualization as rxv\n",
    "from sklearn.discriminant_analysis import LinearDiscriminantAnalysis\n",
    "import matplotlib.pyplot as plt\n",
    "import numpy as np\n",
    "import time\n",
    "from shutil import copyfile\n",
    "import pickle\n",
    "from qiskit.providers.jobstatus import JobStatus\n",
    "import tqcsf.file\n",
    "from matplotlib import colors\n",
    "from qiskit.providers.tergite import Tergite\n",
    "from qiskit.visualization.pulse_v2.stylesheet import IQXDebugging, IQXSimple"
   ]
  },
  {
   "cell_type": "code",
   "execution_count": null,
   "id": "7b740c2a",
   "metadata": {},
   "outputs": [],
   "source": [
    "qubit_idx = 4\n",
    "sf = tqcsf.file.StorageFile(f\"state-disc-q{qubit_idx}.sf\", mode=\"r\")\n",
    "states = {}\n",
    "for tag, data in sf.sort_items(sf.experiments.items()):\n",
    "    msmt = data[f\"slot~{qubit_idx}/measurement\"][:]\n",
    "    states[tag] = data[f\"slot~{qubit_idx}/measurement\"][0, :]"
   ]
  },
  {
   "cell_type": "code",
   "execution_count": null,
   "id": "32c566a4",
   "metadata": {},
   "outputs": [],
   "source": [
    "n_shots = 6000\n",
    "\n",
    "X = np.zeros((2 * n_shots, 2))\n",
    "X[:6000, 0] = states[\"KET0~1\"].real\n",
    "X[:6000, 1] = states[\"KET0~1\"].imag\n",
    "X[6000:, 0] = states[\"KET1~2\"].real\n",
    "X[6000:, 1] = states[\"KET1~2\"].imag\n",
    "\n",
    "lda = LinearDiscriminantAnalysis(solver=\"svd\", store_covariance=True)\n",
    "\n",
    "y = np.asarray(np.repeat(0, n_shots).tolist() + np.repeat(1, n_shots).tolist())\n",
    "y_pred = lda.fit(X, y).predict(X)\n",
    "\n",
    "tp = y == y_pred  # True Positive\n",
    "tp0, tp1 = tp[y == 0], tp[y == 1]\n",
    "X0, X1 = X[y == 0], X[y == 1]\n",
    "X0_tp, X0_fp = X0[tp0], X0[~tp0]\n",
    "# print( len( X0_tp),len( X0_fp) )\n",
    "# print( X0_tp)\n",
    "X1_tp, X1_fp = X1[tp1], X1[~tp1]\n",
    "err_ws_0 = len(X0_fp) / len(X0)  # error when sending 0\n",
    "err_ws_1 = len(X1_fp) / len(X1)  # error when sending 1\n",
    "print(\"errors:\", err_ws_0, err_ws_1)\n",
    "# class 0: dots\n",
    "plt.scatter(\n",
    "    X0_fp[:, 0],\n",
    "    X0_fp[:, 1],\n",
    "    marker=\"x\",\n",
    "    s=10,\n",
    "    color=\"orange\",\n",
    "    label=f\"errors when sending |0>: {err_ws_0:.4f}\",\n",
    ")  # dark red\n",
    "\n",
    "\n",
    "# class 1: dots\n",
    "plt.scatter(\n",
    "    X1_fp[:, 0],\n",
    "    X1_fp[:, 1],\n",
    "    marker=\"x\",\n",
    "    s=10,\n",
    "    color=\"dodgerblue\",\n",
    "    label=f\"errors when sending |1>: {err_ws_1:.4f}\",\n",
    ")\n",
    "plt.scatter(\n",
    "    X1_tp[:, 0],\n",
    "    X1_tp[:, 1],\n",
    "    marker=\".\",\n",
    "    s=10,\n",
    "    color=\"blue\",\n",
    ")\n",
    "plt.scatter(X0_tp[:, 0], X0_tp[:, 1], marker=\".\", s=10, color=\"red\")\n",
    "\n",
    "\n",
    "# class 0 and 1 : areas\n",
    "nx, ny = 200, 100\n",
    "x_min, x_max = plt.xlim()\n",
    "y_min, y_max = plt.ylim()\n",
    "xx, yy = np.meshgrid(np.linspace(x_min, x_max, nx), np.linspace(y_min, y_max, ny))\n",
    "Z = lda.predict_proba(np.c_[xx.ravel(), yy.ravel()])\n",
    "Z = Z[:, 1].reshape(xx.shape)\n",
    "plt.pcolormesh(\n",
    "    xx, yy, Z, cmap=\"coolwarm\", norm=colors.Normalize(0.0, 1), zorder=0, alpha=0.2\n",
    ")\n",
    "plt.contour(xx, yy, Z, [0.5], linewidths=4.0, colors=\"dimgrey\")\n",
    "plt.legend()\n",
    "# plt.title(f'Fidelity: $1-\\\\frac{{1}}{{2}}(P(0|1) + P(1|0))$ = {fidelity:.4f} ')\n",
    "\n",
    "plt.plot(\n",
    "    lda.means_[0][0],\n",
    "    lda.means_[0][1],\n",
    "    \"h\",\n",
    "    color=\"yellow\",\n",
    "    markersize=15,\n",
    "    markeredgecolor=\"black\",\n",
    ")\n",
    "\n",
    "plt.plot(\n",
    "    lda.means_[1][0],\n",
    "    lda.means_[1][1],\n",
    "    \"h\",\n",
    "    color=\"yellow\",\n",
    "    markersize=15,\n",
    "    markeredgecolor=\"black\",\n",
    ")\n",
    "\n",
    "\n",
    "plt.show()"
   ]
  }
 ],
 "metadata": {
  "kernelspec": {
   "display_name": "Python 3.9: qiskit",
   "language": "python",
   "name": "qiskit"
  },
  "language_info": {
   "codemirror_mode": {
    "name": "ipython",
    "version": 3
   },
   "file_extension": ".py",
   "mimetype": "text/x-python",
   "name": "python",
   "nbconvert_exporter": "python",
   "pygments_lexer": "ipython3",
   "version": "3.9.13"
  }
 },
 "nbformat": 4,
 "nbformat_minor": 5
}
