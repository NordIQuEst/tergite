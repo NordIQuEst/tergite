{
 "cells": [
  {
   "cell_type": "code",
   "execution_count": 1,
   "id": "86a1370b",
   "metadata": {},
   "outputs": [],
   "source": [
    "from qiskit.providers.tergite import Tergite\n",
    "import qiskit.circuit as circuit\n",
    "import qiskit.compiler as compiler\n",
    "import numpy as np\n",
    "import time\n",
    "from qiskit.providers.jobstatus import JobStatus"
   ]
  },
  {
   "cell_type": "code",
   "execution_count": 2,
   "id": "88347f9b",
   "metadata": {},
   "outputs": [
    {
     "name": "stdout",
     "output_type": "stream",
     "text": [
      "Backend name? Nov7\n"
     ]
    }
   ],
   "source": [
    "chalmers = Tergite.get_provider()\n",
    "backend = chalmers.get_backend(input(\"Backend name? \"))"
   ]
  },
  {
   "cell_type": "code",
   "execution_count": 3,
   "id": "188ce4db",
   "metadata": {},
   "outputs": [
    {
     "data": {
      "text/html": [
       "<pre style=\"word-wrap: normal;white-space: pre;background: #fff0;line-height: 1.1;font-family: &quot;Courier New&quot;,Courier,monospace\">      ░                 \n",
       "q_0: ─░──|0>────────────\n",
       "      ░                 \n",
       "q_1: ─░──|0>────────────\n",
       "      ░      ┌───┐┌─┐   \n",
       "q_2: ─░──|0>─┤ H ├┤M├───\n",
       "      ░      ├───┤└╥┘┌─┐\n",
       "q_3: ─░──|0>─┤ H ├─╫─┤M├\n",
       "      ░      └───┘ ║ └╥┘\n",
       "q_4: ─░──|0>───────╫──╫─\n",
       "      ░            ║  ║ \n",
       "c: 5/══════════════╩══╩═\n",
       "                   2  3 </pre>"
      ],
      "text/plain": [
       "      ░                 \n",
       "q_0: ─░──|0>────────────\n",
       "      ░                 \n",
       "q_1: ─░──|0>────────────\n",
       "      ░      ┌───┐┌─┐   \n",
       "q_2: ─░──|0>─┤ H ├┤M├───\n",
       "      ░      ├───┤└╥┘┌─┐\n",
       "q_3: ─░──|0>─┤ H ├─╫─┤M├\n",
       "      ░      └───┘ ║ └╥┘\n",
       "q_4: ─░──|0>───────╫──╫─\n",
       "      ░            ║  ║ \n",
       "c: 5/══════════════╩══╩═\n",
       "                   2  3 "
      ]
     },
     "execution_count": 3,
     "metadata": {},
     "output_type": "execute_result"
    }
   ],
   "source": [
    "def test_circuit(exc_qbs, msr_qbs) -> circuit.QuantumCircuit:\n",
    "    qc = circuit.QuantumCircuit(5, 5)\n",
    "    qc.barrier()\n",
    "    qc.reset([0, 1, 2, 3, 4])\n",
    "    # qc.rx(np.pi/2, exc_qbs)\n",
    "    qc.h(exc_qbs)\n",
    "    qc.measure(msr_qbs, msr_qbs)\n",
    "    return qc\n",
    "\n",
    "\n",
    "qc = test_circuit((2, 3), (2, 3))\n",
    "qc.draw()"
   ]
  },
  {
   "cell_type": "code",
   "execution_count": 4,
   "id": "b86d65cc",
   "metadata": {},
   "outputs": [
    {
     "name": "stderr",
     "output_type": "stream",
     "text": [
      "This Target object contains multiqubit gates that operate on > 2 qubits. This will not be reflected in the output coupling map.\n",
      "This Target object contains multiqubit gates that operate on > 2 qubits. This will not be reflected in the output coupling map.\n",
      "This Target object contains multiqubit gates that operate on > 2 qubits. This will not be reflected in the output coupling map.\n",
      "This Target object contains multiqubit gates that operate on > 2 qubits. This will not be reflected in the output coupling map.\n"
     ]
    },
    {
     "name": "stdout",
     "output_type": "stream",
     "text": [
      "Tergite: Job has been successfully submitted\n"
     ]
    }
   ],
   "source": [
    "job = backend.run(\n",
    "    compiler.transpile(qc, backend=backend), meas_level=2, meas_return=\"single\"\n",
    ")"
   ]
  },
  {
   "cell_type": "code",
   "execution_count": 5,
   "id": "854700f6",
   "metadata": {
    "scrolled": false
   },
   "outputs": [
    {
     "name": "stdout",
     "output_type": "stream",
     "text": [
      "Results OK\n"
     ]
    },
    {
     "data": {
      "text/plain": [
       "{'0100': 486, '1000': 505, '1100': 505, '0000': 504}"
      ]
     },
     "execution_count": 5,
     "metadata": {},
     "output_type": "execute_result"
    }
   ],
   "source": [
    "while job.status() != JobStatus.DONE:\n",
    "    time.sleep(1)\n",
    "result = job.result()\n",
    "result.get_counts()"
   ]
  }
 ],
 "metadata": {
  "kernelspec": {
   "display_name": "Python 3.9: qiskit",
   "language": "python",
   "name": "qiskit"
  },
  "language_info": {
   "codemirror_mode": {
    "name": "ipython",
    "version": 3
   },
   "file_extension": ".py",
   "mimetype": "text/x-python",
   "name": "python",
   "nbconvert_exporter": "python",
   "pygments_lexer": "ipython3",
   "version": "3.9.13"
  }
 },
 "nbformat": 4,
 "nbformat_minor": 5
}
