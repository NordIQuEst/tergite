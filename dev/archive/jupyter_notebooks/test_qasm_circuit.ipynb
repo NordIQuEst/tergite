{
 "cells": [
  {
   "cell_type": "code",
   "execution_count": null,
   "id": "86a1370b",
   "metadata": {},
   "outputs": [],
   "source": [
    "from tergite_qiskit_connector.providers.tergite import Tergite\n",
    "import qiskit.circuit as circuit\n",
    "import qiskit.compiler as compiler\n",
    "import numpy as np\n",
    "import time\n",
    "from qiskit.providers.jobstatus import JobStatus"
   ]
  },
  {
   "cell_type": "code",
   "execution_count": null,
   "id": "88347f9b",
   "metadata": {},
   "outputs": [],
   "source": [
    "chalmers = Tergite.get_provider()\n",
    "backend = chalmers.get_backend(input(\"Backend name? \"))"
   ]
  },
  {
   "cell_type": "code",
   "execution_count": null,
   "id": "188ce4db",
   "metadata": {},
   "outputs": [],
   "source": [
    "def test_circuit(exc_qbs, msr_qbs) -> circuit.QuantumCircuit:\n",
    "    qc = circuit.QuantumCircuit(5, 5)\n",
    "    qc.barrier()\n",
    "    qc.reset([0, 1, 2, 3, 4])\n",
    "    # qc.rx(np.pi/2, exc_qbs)\n",
    "    qc.h(exc_qbs)\n",
    "    qc.measure(msr_qbs, msr_qbs)\n",
    "    return qc\n",
    "\n",
    "\n",
    "qc = test_circuit((2, 3), (2, 3))\n",
    "qc.draw()"
   ]
  },
  {
   "cell_type": "code",
   "execution_count": null,
   "id": "b86d65cc",
   "metadata": {},
   "outputs": [],
   "source": [
    "job = backend.run(\n",
    "    compiler.transpile(qc, backend=backend), meas_level=2, meas_return=\"single\"\n",
    ")"
   ]
  },
  {
   "cell_type": "code",
   "execution_count": null,
   "id": "854700f6",
   "metadata": {
    "scrolled": false
   },
   "outputs": [],
   "source": [
    "while job.status() != JobStatus.DONE:\n",
    "    time.sleep(1)\n",
    "result = job.result()\n",
    "result.get_counts()"
   ]
  }
 ],
 "metadata": {
  "kernelspec": {
   "display_name": "Python 3.9: qiskit",
   "language": "python",
   "name": "qiskit"
  },
  "language_info": {
   "codemirror_mode": {
    "name": "ipython",
    "version": 3
   },
   "file_extension": ".py",
   "mimetype": "text/x-python",
   "name": "python",
   "nbconvert_exporter": "python",
   "pygments_lexer": "ipython3",
   "version": "3.9.13"
  }
 },
 "nbformat": 4,
 "nbformat_minor": 5
}
