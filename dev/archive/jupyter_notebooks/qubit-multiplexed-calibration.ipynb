{
 "cells": [
  {
   "cell_type": "markdown",
   "id": "2da68bc3",
   "metadata": {},
   "source": [
    "# Qubit characterization tests"
   ]
  },
  {
   "cell_type": "code",
   "execution_count": null,
   "id": "773e859a",
   "metadata": {},
   "outputs": [],
   "source": [
    "import numpy as np\n",
    "import qiskit.pulse as pulse\n",
    "import qiskit.circuit as circuit\n",
    "import functools\n",
    "import tqcsf.file\n",
    "import time\n",
    "\n",
    "from qiskit.providers.tergite import Tergite\n",
    "import qiskit.providers.tergite.template_schedules as templates\n",
    "from qiskit.visualization.pulse_v2.stylesheet import IQXDebugging"
   ]
  },
  {
   "cell_type": "code",
   "execution_count": null,
   "id": "f8794f02",
   "metadata": {},
   "outputs": [],
   "source": [
    "chalmers = Tergite.get_provider()\n",
    "backend = chalmers.get_backend(\"PinguOpenPulse\")\n",
    "backend.set_options(shots=1500)\n",
    "backend"
   ]
  },
  {
   "cell_type": "code",
   "execution_count": null,
   "id": "aa57abcb",
   "metadata": {},
   "outputs": [],
   "source": [
    "backend.calibration_table"
   ]
  },
  {
   "cell_type": "code",
   "execution_count": null,
   "id": "33656196",
   "metadata": {},
   "outputs": [],
   "source": [
    "QUBITS = (\"q1\", \"q2\", \"q3\", \"q4\", \"q5\")\n",
    "# QUBITS = (\"q5\",)\n",
    "QUBIT_IDXS = list(map(lambda QUBIT: int(QUBIT[1]) - 1, QUBITS))"
   ]
  },
  {
   "cell_type": "code",
   "execution_count": null,
   "id": "9a2b5759",
   "metadata": {},
   "outputs": [],
   "source": [
    "resonator_freqs = {\n",
    "    \"q1\": 6883895727.3990345,\n",
    "    \"q2\": 6744891313.448814,\n",
    "    \"q3\": 7029316180.018214,\n",
    "    \"q4\": 7187190604.446356,\n",
    "    \"q5\": 6660015449.656492,\n",
    "}\n",
    "\n",
    "VNA_qub_freqs = {\n",
    "    \"q1\": 5.8977e9,\n",
    "    \"q2\": 6.109e9,  # I think this is the wrong peak\n",
    "    \"q3\": 6.0940e9,\n",
    "    \"q4\": 5.9500e9,\n",
    "    \"q3c4\": 7.3632e9,\n",
    "    \"q5\": 5.0341e9,  # has weird discontinuities?\n",
    "}"
   ]
  },
  {
   "cell_type": "markdown",
   "id": "42520345",
   "metadata": {},
   "source": [
    "# Resonator spec"
   ]
  },
  {
   "cell_type": "code",
   "execution_count": null,
   "id": "d2a9e58d",
   "metadata": {},
   "outputs": [],
   "source": [
    "frequencies = np.asarray(\n",
    "    [\n",
    "        np.linspace(resonator_freqs[q] - 2e6, resonator_freqs[q] + 2e6, 260)\n",
    "        for q in QUBITS\n",
    "    ]\n",
    ").transpose()"
   ]
  },
  {
   "cell_type": "code",
   "execution_count": null,
   "id": "c68aa021",
   "metadata": {},
   "outputs": [],
   "source": [
    "param_sched = pulse.ScheduleBlock(name=f\"res spec {QUBITS}\")\n",
    "freqs = [circuit.Parameter(f\"ro freq q{q}\") for q in QUBIT_IDXS]\n",
    "for k, q in enumerate(QUBIT_IDXS):\n",
    "    param_sched += pulse.SetFrequency(freqs[k], backend.measure_channel(q))\n",
    "\n",
    "param_sched += templates.measure(backend, set(QUBIT_IDXS))"
   ]
  },
  {
   "cell_type": "code",
   "execution_count": null,
   "id": "f62be46c",
   "metadata": {},
   "outputs": [],
   "source": [
    "sweep = [\n",
    "    param_sched.assign_parameters(\n",
    "        functools.reduce(\n",
    "            lambda a, b: {**a, **b}, [{p: f[i]} for i, p in enumerate(freqs)]\n",
    "        ),\n",
    "        inplace=False,\n",
    "    )\n",
    "    for f in frequencies\n",
    "]\n",
    "\n",
    "print(\"Total schedule count in sweep:\", len(sweep))"
   ]
  },
  {
   "cell_type": "code",
   "execution_count": null,
   "id": "4b67b638",
   "metadata": {
    "scrolled": true
   },
   "outputs": [],
   "source": [
    "# compile metadata about the sweep\n",
    "qobj_header = {\n",
    "    \"tag\": f\"Resonator spectroscopy {QUBITS}\",\n",
    "    \"sweep\": {\n",
    "        \"serial_order\": (\"frequencies\",),\n",
    "        \"parameters\": {\n",
    "            \"frequencies\": {\n",
    "                \"long_name\": \"Frequency of readout pulse\",\n",
    "                \"unit\": \"Hz\",\n",
    "                \"slots\": {q: frequencies[:, k] for k, q in enumerate(QUBIT_IDXS)},\n",
    "            }\n",
    "        },\n",
    "    },\n",
    "}\n",
    "job = backend.run(sweep, qobj_header=qobj_header, meas_level=1)"
   ]
  },
  {
   "cell_type": "code",
   "execution_count": null,
   "id": "6967bff8",
   "metadata": {
    "scrolled": false
   },
   "outputs": [],
   "source": [
    "while job.status != \"DONE\":\n",
    "    time.sleep(5)\n",
    "sf = tqcsf.file.StorageFile(job.logfile, mode=\"r\")"
   ]
  },
  {
   "cell_type": "code",
   "execution_count": null,
   "id": "37048ac7",
   "metadata": {},
   "outputs": [],
   "source": [
    "ds = sf.as_xarray()\n",
    "ds"
   ]
  },
  {
   "cell_type": "code",
   "execution_count": null,
   "id": "306a64cd",
   "metadata": {},
   "outputs": [],
   "source": [
    "from analysis import plot_fit_functions as pff"
   ]
  },
  {
   "cell_type": "code",
   "execution_count": null,
   "id": "da794a1b",
   "metadata": {
    "scrolled": false
   },
   "outputs": [],
   "source": [
    "%matplotlib inline\n",
    "data = pff.plot_fit_resonator(ds)"
   ]
  },
  {
   "cell_type": "markdown",
   "id": "9e99f56a",
   "metadata": {},
   "source": [
    "# Two tone"
   ]
  },
  {
   "cell_type": "code",
   "execution_count": null,
   "id": "4cbba3b3",
   "metadata": {
    "scrolled": true
   },
   "outputs": [],
   "source": [
    "param_sched = pulse.ScheduleBlock(name=f\"tt spec {QUBITS}\")\n",
    "\n",
    "stim_dur = 5000\n",
    "\n",
    "freqs = [circuit.Parameter(f\"stim freq q{q}\") for q in QUBIT_IDXS]\n",
    "amps = [circuit.Parameter(f\"stim amp q{q}\") for q in QUBIT_IDXS]\n",
    "\n",
    "for k, (q, Q) in enumerate(zip(QUBIT_IDXS, QUBITS)):\n",
    "    param_sched += pulse.SetFrequency(resonator_freqs[Q], backend.measure_channel(q))\n",
    "    param_sched += pulse.SetFrequency(freqs[k], backend.drive_channel(q))\n",
    "    param_sched += pulse.Play(\n",
    "        pulse.Gaussian(stim_dur, amp=amps[k], sigma=stim_dur / 5),\n",
    "        backend.drive_channel(q),\n",
    "    )\n",
    "    # don't measure during excitation\n",
    "    param_sched += pulse.Delay(stim_dur, backend.measure_channel(q), name=\"Wait excite\")\n",
    "    param_sched += pulse.Delay(stim_dur, backend.acquire_channel(q), name=\"Wait excite\")\n",
    "\n",
    "param_sched += templates.measure(backend, set(QUBIT_IDXS))"
   ]
  },
  {
   "cell_type": "code",
   "execution_count": null,
   "id": "e29edf2e",
   "metadata": {},
   "outputs": [],
   "source": [
    "frequencies = np.asarray(\n",
    "    [np.linspace(VNA_qub_freqs[Q] - 5e6, VNA_qub_freqs[Q] + 5e6, 120) for Q in QUBITS]\n",
    ").transpose()\n",
    "amplitudes = np.asarray([np.linspace(0, 1e-3, 10) for Q in QUBITS]).transpose()"
   ]
  },
  {
   "cell_type": "code",
   "execution_count": null,
   "id": "b4ddf4d8",
   "metadata": {},
   "outputs": [],
   "source": [
    "sweep = [\n",
    "    param_sched.assign_parameters(\n",
    "        functools.reduce(\n",
    "            lambda a, b: {**a, **b},\n",
    "            [({p: f[i]} | {q: a[i]}) for i, p in enumerate(freqs) for q in amps],\n",
    "        ),\n",
    "        inplace=False,\n",
    "    )\n",
    "    for f in frequencies\n",
    "    for a in amplitudes\n",
    "]\n",
    "\n",
    "print(\"Total schedule count in sweep:\", len(sweep))"
   ]
  },
  {
   "cell_type": "code",
   "execution_count": null,
   "id": "b1f01700",
   "metadata": {},
   "outputs": [],
   "source": [
    "# compile metadata about the sweep\n",
    "qobj_header = {\n",
    "    \"tag\": f\"Qubit spectroscopy {QUBITS}\",\n",
    "    \"sweep\": {\n",
    "        \"serial_order\": (\"frequencies\", \"amplitudes\"),\n",
    "        \"parameters\": {\n",
    "            \"frequencies\": {\n",
    "                \"long_name\": \"Frequency of excitation pulse\",\n",
    "                \"unit\": \"Hz\",\n",
    "                \"slots\": {q: frequencies[:, k] for k, q in enumerate(QUBIT_IDXS)},\n",
    "            },\n",
    "            \"amplitudes\": {\n",
    "                \"long_name\": \"Amplitude of excitation pulse\",\n",
    "                \"unit\": \"V\",\n",
    "                \"slots\": {q: amplitudes[:, k] for k, q in enumerate(QUBIT_IDXS)},\n",
    "            },\n",
    "        },\n",
    "    },\n",
    "}\n",
    "job = backend.run(sweep, qobj_header=qobj_header, meas_level=1)"
   ]
  },
  {
   "cell_type": "code",
   "execution_count": null,
   "id": "be3f3150",
   "metadata": {},
   "outputs": [],
   "source": [
    "while job.status != \"DONE\":\n",
    "    time.sleep(5)\n",
    "sf = tqcsf.file.StorageFile(job.logfile, mode=\"r\")"
   ]
  },
  {
   "cell_type": "code",
   "execution_count": null,
   "id": "07d568f2",
   "metadata": {},
   "outputs": [],
   "source": [
    "ds = sf.as_xarray()\n",
    "ds"
   ]
  },
  {
   "cell_type": "code",
   "execution_count": null,
   "id": "ec133854",
   "metadata": {},
   "outputs": [],
   "source": [
    "%matplotlib notebook\n",
    "import matplotlib.pyplot as plt\n",
    "\n",
    "fig, axs = plt.subplots(len(QUBITS), 1)\n",
    "if len(QUBITS) == 1:\n",
    "    axs = [axs]\n",
    "\n",
    "for i, var in enumerate(ds):\n",
    "    np.abs(ds[var]).plot(ax=axs[i])\n",
    "    axs[i].set_title(var)"
   ]
  }
 ],
 "metadata": {
  "kernelspec": {
   "display_name": "Python 3.9: qiskit",
   "language": "python",
   "name": "qiskit"
  },
  "language_info": {
   "codemirror_mode": {
    "name": "ipython",
    "version": 3
   },
   "file_extension": ".py",
   "mimetype": "text/x-python",
   "name": "python",
   "nbconvert_exporter": "python",
   "pygments_lexer": "ipython3",
   "version": "3.9.13"
  }
 },
 "nbformat": 4,
 "nbformat_minor": 5
}
