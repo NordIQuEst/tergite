{
 "cells": [
  {
   "cell_type": "code",
   "execution_count": null,
   "id": "48092d33",
   "metadata": {},
   "outputs": [],
   "source": [
    "import qiskit.circuit as circuit\n",
    "import qiskit.pulse as pulse\n",
    "import qiskit.compiler as compiler\n",
    "import retworkx.visualization as rxv\n",
    "import numpy as np\n",
    "import time\n",
    "from qiskit.providers.jobstatus import JobStatus\n",
    "import tqcsf.file\n",
    "from qiskit.providers.tergite import Tergite\n",
    "from qiskit.visualization.pulse_v2.stylesheet import IQXDebugging, IQXSimple"
   ]
  },
  {
   "cell_type": "code",
   "execution_count": null,
   "id": "46ccf4d2",
   "metadata": {},
   "outputs": [],
   "source": [
    "chalmers = Tergite.get_provider()\n",
    "backend = chalmers.get_backend(input(\"Backend name? \"))"
   ]
  },
  {
   "cell_type": "code",
   "execution_count": null,
   "id": "550321e4",
   "metadata": {},
   "outputs": [],
   "source": [
    "qubit_idx = 0"
   ]
  },
  {
   "cell_type": "code",
   "execution_count": null,
   "id": "8b2eaf75",
   "metadata": {},
   "outputs": [],
   "source": [
    "qc0 = circuit.QuantumCircuit(5, 5, name=\"KET0\")\n",
    "qc0"
   ]
  }
 ],
 "metadata": {
  "kernelspec": {
   "display_name": "Python 3.9: qiskit",
   "language": "python",
   "name": "qiskit"
  },
  "language_info": {
   "codemirror_mode": {
    "name": "ipython",
    "version": 3
   },
   "file_extension": ".py",
   "mimetype": "text/x-python",
   "name": "python",
   "nbconvert_exporter": "python",
   "pygments_lexer": "ipython3",
   "version": "3.9.13"
  }
 },
 "nbformat": 4,
 "nbformat_minor": 5
}
