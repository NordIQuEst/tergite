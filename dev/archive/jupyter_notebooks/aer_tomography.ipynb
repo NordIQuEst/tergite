{
 "cells": [
  {
   "cell_type": "code",
   "execution_count": null,
   "id": "dedce0eb",
   "metadata": {},
   "outputs": [],
   "source": [
    "%matplotlib inline\n",
    "import qiskit.circuit as circuit\n",
    "import qiskit.pulse as pulse\n",
    "import matplotlib.pyplot as plt\n",
    "import qiskit.compiler as compiler\n",
    "import retworkx.visualization as rxv\n",
    "import numpy as np\n",
    "from tqdm.auto import tqdm\n",
    "import json\n",
    "import matplotlib.pyplot as plt\n",
    "import matplotlib.animation as animation\n",
    "import rich\n",
    "from tergite_qiskit_connector.providers.tergite import Tergite\n",
    "from qiskit import Aer\n",
    "from qiskit.visualization.pulse_v2.stylesheet import IQXDebugging, IQXSimple\n",
    "from qiskit_experiments.library.tomography import StateTomography"
   ]
  },
  {
   "cell_type": "code",
   "execution_count": null,
   "id": "fa48c15e",
   "metadata": {},
   "outputs": [],
   "source": [
    "# from qiskit import *\n",
    "from qiskit.ignis.verification.tomography import (\n",
    "    state_tomography_circuits,\n",
    "    StateTomographyFitter,\n",
    ")\n",
    "from qiskit.visualization import plot_state_city, plot_bloch_multivector\n",
    "from qiskit.visualization import plot_state_paulivec, plot_state_hinton\n",
    "from qiskit.visualization import plot_state_qsphere\n",
    "import qiskit.quantum_info as qi\n",
    "from tergite_qiskit_connector.providers.tergite import Tergite\n",
    "from qiskit.visualization import plot_histogram\n",
    "from pprint import pprint"
   ]
  },
  {
   "cell_type": "code",
   "execution_count": null,
   "id": "16336f73",
   "metadata": {
    "scrolled": false
   },
   "outputs": [],
   "source": [
    "backend = Aer.get_backend(\"aer_simulator\")"
   ]
  },
  {
   "cell_type": "code",
   "execution_count": null,
   "id": "bded7666",
   "metadata": {},
   "outputs": [],
   "source": [
    "q = circuit.QuantumRegister(5)\n",
    "circ = circuit.QuantumCircuit(q)\n",
    "circ.barrier()\n",
    "circ.reset([q[0]])\n",
    "\n",
    "print(\"Input circuit\")\n",
    "print(circ)"
   ]
  },
  {
   "cell_type": "code",
   "execution_count": null,
   "id": "bc8d0457",
   "metadata": {},
   "outputs": [],
   "source": [
    "target_state = qi.Statevector.from_instruction(circ)"
   ]
  },
  {
   "cell_type": "code",
   "execution_count": null,
   "id": "58fe9ebe",
   "metadata": {},
   "outputs": [],
   "source": [
    "tomography_circuits = state_tomography_circuits(circ, [q[0]])"
   ]
  },
  {
   "cell_type": "code",
   "execution_count": null,
   "id": "0240456e",
   "metadata": {},
   "outputs": [],
   "source": [
    "job = backend.run(tomography_circuits, meas_level=2)"
   ]
  },
  {
   "cell_type": "code",
   "execution_count": null,
   "id": "29be109b",
   "metadata": {},
   "outputs": [],
   "source": [
    "rich.print(job.qobj())"
   ]
  },
  {
   "cell_type": "code",
   "execution_count": null,
   "id": "06a9c96a",
   "metadata": {
    "scrolled": true
   },
   "outputs": [],
   "source": [
    "rich.print(job.result().to_dict())"
   ]
  },
  {
   "cell_type": "code",
   "execution_count": null,
   "id": "b8d7f003",
   "metadata": {
    "scrolled": true
   },
   "outputs": [],
   "source": [
    "fitter = StateTomographyFitter(job.result(), tomography_circuits)"
   ]
  },
  {
   "cell_type": "code",
   "execution_count": null,
   "id": "3f6bc062",
   "metadata": {},
   "outputs": [],
   "source": [
    "fitter.data"
   ]
  },
  {
   "cell_type": "code",
   "execution_count": null,
   "id": "07f425bc",
   "metadata": {},
   "outputs": [],
   "source": [
    "density_matrix = fitter.fit(method=\"lstsq\")"
   ]
  },
  {
   "cell_type": "code",
   "execution_count": null,
   "id": "1a143c88",
   "metadata": {},
   "outputs": [],
   "source": [
    "fig = plot_bloch_multivector(\n",
    "    density_matrix, reverse_bits=True, filename=\"bg_bloch_multivector.jpg\"\n",
    ")"
   ]
  },
  {
   "cell_type": "code",
   "execution_count": null,
   "id": "b4d47aa6",
   "metadata": {},
   "outputs": [],
   "source": [
    "fig"
   ]
  },
  {
   "cell_type": "code",
   "execution_count": null,
   "id": "fec787b4",
   "metadata": {},
   "outputs": [],
   "source": [
    "def frame_bloch(j):\n",
    "    J = np.linspace(0, 1.2 * np.pi / 2, 10)\n",
    "    q = circuit.QuantumRegister(5)\n",
    "    circ = circuit.QuantumCircuit(q)\n",
    "    [circ.reset(qb) for qb in q]  # reset qubits\n",
    "\n",
    "    circ.ry(J[j], q[4])  # ry <-\n",
    "\n",
    "    circ.rx(np.pi / 4, q[3]), circ.rz(J[j], q[3])  # rz <-\n",
    "\n",
    "    circ.rx(J[j], q[2])  # rx\n",
    "\n",
    "    circ.rx(-np.pi / 4, q[1]), circ.rz(-J[j], q[1])  # rz ->\n",
    "\n",
    "    circ.ry(-J[j], q[0])  # ry ->\n",
    "\n",
    "    tomography_circuits = state_tomography_circuits(circ, q)\n",
    "    job = backend.run(tomography_circuits, meas_level=2)\n",
    "    fitter = StateTomographyFitter(job.result(), tomography_circuits)\n",
    "    density_matrix = fitter.fit(method=\"lstsq\")\n",
    "    plot_bloch_multivector(\n",
    "        density_matrix, reverse_bits=True, filename=f\"frames/frame{j}.jpg\"\n",
    "    )\n",
    "\n",
    "\n",
    "[frame_bloch(j) for j in tqdm(range(10))]"
   ]
  }
 ],
 "metadata": {
  "kernelspec": {
   "display_name": "Python 3.9: qiskit",
   "language": "python",
   "name": "qiskit"
  },
  "language_info": {
   "codemirror_mode": {
    "name": "ipython",
    "version": 3
   },
   "file_extension": ".py",
   "mimetype": "text/x-python",
   "name": "python",
   "nbconvert_exporter": "python",
   "pygments_lexer": "ipython3",
   "version": "3.9.13"
  }
 },
 "nbformat": 4,
 "nbformat_minor": 5
}
