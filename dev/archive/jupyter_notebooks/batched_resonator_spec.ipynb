{
 "cells": [
  {
   "cell_type": "code",
   "execution_count": null,
   "id": "9c1122bb",
   "metadata": {},
   "outputs": [],
   "source": [
    "import qiskit.pulse as pulse\n",
    "import qiskit.circuit as circuit\n",
    "from qiskit.providers.tergite import Tergite\n",
    "import template_schedules as templates\n",
    "from quantify_core.analysis import fitting_models as fm\n",
    "from qiskit.visualization.pulse_v2.stylesheet import IQXDebugging\n",
    "import numpy as np\n",
    "import matplotlib.pyplot as plt\n",
    "from quantify_core.visualization import mpl_plotting as qpl\n",
    "import matplotlib.ticker as plticker\n",
    "from tempfile import gettempdir\n",
    "import tqcsf.file\n",
    "from scipy.spatial import distance_matrix\n",
    "import time\n",
    "import requests\n",
    "import pathlib\n",
    "import functools\n",
    "import rich"
   ]
  },
  {
   "cell_type": "code",
   "execution_count": null,
   "id": "ec11d64f",
   "metadata": {},
   "outputs": [],
   "source": [
    "chalmers = Tergite.get_provider()\n",
    "backend = chalmers.get_backend(\"PinguOpenPulse\")\n",
    "backend.set_options(shots=1000)\n",
    "templates.backend = backend"
   ]
  },
  {
   "cell_type": "code",
   "execution_count": null,
   "id": "977b34ce",
   "metadata": {},
   "outputs": [],
   "source": [
    "qubits = (0, 1, 2, 3)  # qubits to characterize\n",
    "\n",
    "# 8d70a7f1-41f9-4bd6-a68f-abd6ae9fdf18 @ 17mV:\n",
    "resonator_freqs = [\n",
    "    6.884461765134884e9,\n",
    "    6.745482508417368e9,\n",
    "    7.029379073099976e9,\n",
    "    7.187505069855161e9,\n",
    "    6.66309e9,\n",
    "]"
   ]
  },
  {
   "cell_type": "code",
   "execution_count": null,
   "id": "3a3ebfe1",
   "metadata": {},
   "outputs": [],
   "source": [
    "param_sched = pulse.ScheduleBlock()\n",
    "\n",
    "freq0 = circuit.Parameter(f\"f drive 0\")\n",
    "freq1 = circuit.Parameter(f\"f drive 1\")\n",
    "freq2 = circuit.Parameter(f\"f drive 2\")\n",
    "freq3 = circuit.Parameter(f\"f drive 3\")\n",
    "\n",
    "param_sched += pulse.SetFrequency(freq0, backend.measure_channel(0))\n",
    "param_sched += pulse.SetFrequency(freq1, backend.measure_channel(1))\n",
    "param_sched += pulse.SetFrequency(freq2, backend.measure_channel(2))\n",
    "param_sched += pulse.SetFrequency(freq3, backend.measure_channel(3))\n",
    "\n",
    "ro_dur = 3500\n",
    "ro_amp = 17e-3\n",
    "\n",
    "param_sched += templates.measure(0, ro_amp=ro_amp, ro_dur=ro_dur)\n",
    "param_sched += templates.measure(1, ro_amp=ro_amp, ro_dur=ro_dur)\n",
    "param_sched += templates.measure(2, ro_amp=ro_amp, ro_dur=ro_dur)\n",
    "param_sched += templates.measure(3, ro_amp=ro_amp, ro_dur=ro_dur)"
   ]
  }
 ],
 "metadata": {
  "kernelspec": {
   "display_name": "Python 3.9: qiskit",
   "language": "python",
   "name": "qiskit"
  },
  "language_info": {
   "codemirror_mode": {
    "name": "ipython",
    "version": 3
   },
   "file_extension": ".py",
   "mimetype": "text/x-python",
   "name": "python",
   "nbconvert_exporter": "python",
   "pygments_lexer": "ipython3",
   "version": "3.9.13"
  }
 },
 "nbformat": 4,
 "nbformat_minor": 5
}
