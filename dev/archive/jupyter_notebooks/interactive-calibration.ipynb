{
 "cells": [
  {
   "cell_type": "code",
   "execution_count": null,
   "id": "b5815977",
   "metadata": {},
   "outputs": [],
   "source": [
    "import pandas as pd\n",
    "import numpy as np\n",
    "import qiskit.pulse as pulse\n",
    "import matplotlib.pyplot as plt\n",
    "import functools\n",
    "import shutil\n",
    "import tqcsf.file\n",
    "from more_itertools import powerset\n",
    "import qiskit.circuit as circuit\n",
    "from itertools import product\n",
    "from tergite_qiskit_connector.providers.tergite import Tergite\n",
    "from qiskit.visualization.pulse_v2.stylesheet import IQXDebugging\n",
    "import helpers"
   ]
  },
  {
   "cell_type": "code",
   "execution_count": null,
   "id": "472fac5d",
   "metadata": {},
   "outputs": [],
   "source": [
    "chalmers = Tergite.get_provider()\n",
    "backend = chalmers.get_backend(\n",
    "    input(\"Please enter backend name (default: LokiOpenPulse)\") or \"LokiOpenPulse\"\n",
    ")\n",
    "backend.set_options(shots=1500)\n",
    "helpers.backend = backend\n",
    "print(f\"Loaded Tergite backend {backend.name}\")"
   ]
  },
  {
   "cell_type": "markdown",
   "id": "85d31390",
   "metadata": {},
   "source": [
    "# Resonator spectroscopy (Qubit 1)"
   ]
  },
  {
   "cell_type": "code",
   "execution_count": null,
   "id": "f2da3ad1",
   "metadata": {},
   "outputs": [],
   "source": [
    "header = helpers.gen_header((0,))"
   ]
  },
  {
   "cell_type": "code",
   "execution_count": null,
   "id": "c91388eb",
   "metadata": {
    "scrolled": false
   },
   "outputs": [],
   "source": [
    "sweep = helpers.sweep_rs2d((0,), qobj_header=header)\n",
    "sweep[2].draw(style=IQXDebugging())"
   ]
  },
  {
   "cell_type": "code",
   "execution_count": null,
   "id": "4c7eb615",
   "metadata": {},
   "outputs": [],
   "source": [
    "job = backend.run(sweep, qobj_header=header, meas_level=1)"
   ]
  },
  {
   "cell_type": "code",
   "execution_count": null,
   "id": "1bfdeeb3",
   "metadata": {},
   "outputs": [],
   "source": [
    "save_name = input(\"Please provide logfile name (saves in CWD): \") or str(job.job_id())\n",
    "save_name = save_name + \".hdf5\"\n",
    "shutil.copyfile(job.logfile, save_name)\n",
    "sf = tqcsf.file.StorageFile(save_name, mode=\"r\")\n",
    "ds = sf.as_xarray()\n",
    "ds"
   ]
  },
  {
   "cell_type": "code",
   "execution_count": null,
   "id": "7d2abe54",
   "metadata": {},
   "outputs": [],
   "source": [
    "fig, ax = plt.subplots(1, figsize=(10, 4))\n",
    "np.abs(ds[\"slot~0/acq~0\"]).plot(ax=ax, ls=\"-.\")\n",
    "ax.axvline(6.74159e9, c=\"red\")\n",
    "fig.tight_layout()"
   ]
  },
  {
   "cell_type": "markdown",
   "id": "8d98c5bd",
   "metadata": {},
   "source": [
    "# Qubit spectroscopy (Qubit 1)"
   ]
  },
  {
   "cell_type": "code",
   "execution_count": null,
   "id": "93307219",
   "metadata": {},
   "outputs": [],
   "source": [
    "headerB = helpers.gen_header((0,))"
   ]
  },
  {
   "cell_type": "code",
   "execution_count": null,
   "id": "4621f2e4",
   "metadata": {},
   "outputs": [],
   "source": [
    "sweepB = helpers.sweep_qs2d(\n",
    "    (0,), qobj_header=headerB, ro_freq_Hz=(6.74159e9,), ro_amp_V=(5e-3,)\n",
    ")\n",
    "sweepB[2].draw(style=IQXDebugging())"
   ]
  },
  {
   "cell_type": "code",
   "execution_count": null,
   "id": "0623cd4f",
   "metadata": {},
   "outputs": [],
   "source": [
    "job = backend.run(sweepB, qobj_header=headerB, meas_level=1)"
   ]
  },
  {
   "cell_type": "code",
   "execution_count": null,
   "id": "01d46058",
   "metadata": {},
   "outputs": [],
   "source": [
    "save_name = input(\"Please provide logfile name (saves in CWD): \") or str(job.job_id())\n",
    "save_name = save_name + \".hdf5\"\n",
    "shutil.copyfile(job.logfile, save_name)\n",
    "sf = tqcsf.file.StorageFile(save_name, mode=\"r\")\n",
    "ds = sf.as_xarray()\n",
    "ds"
   ]
  },
  {
   "cell_type": "code",
   "execution_count": null,
   "id": "3c11ac46",
   "metadata": {},
   "outputs": [],
   "source": [
    "fig, ax = plt.subplots(1, figsize=(10, 4))\n",
    "np.abs(ds[\"slot~0/acq~0\"]).plot(ax=ax, ls=\"-.\")\n",
    "ax.axvline(3.74806e9, c=\"red\")\n",
    "fig.tight_layout()"
   ]
  },
  {
   "cell_type": "code",
   "execution_count": null,
   "id": "70dcd04b",
   "metadata": {},
   "outputs": [],
   "source": [
    "np.abs(ds[\"slot~0/acq~0\"])[:, -1].plot()"
   ]
  },
  {
   "cell_type": "markdown",
   "id": "1ab1230a",
   "metadata": {},
   "source": [
    "# Rabi oscillations (Qubit 1)"
   ]
  }
 ],
 "metadata": {
  "kernelspec": {
   "display_name": "Python 3.9: qiskit",
   "language": "python",
   "name": "qiskit"
  },
  "language_info": {
   "codemirror_mode": {
    "name": "ipython",
    "version": 3
   },
   "file_extension": ".py",
   "mimetype": "text/x-python",
   "name": "python",
   "nbconvert_exporter": "python",
   "pygments_lexer": "ipython3",
   "version": "3.9.13"
  }
 },
 "nbformat": 4,
 "nbformat_minor": 5
}
