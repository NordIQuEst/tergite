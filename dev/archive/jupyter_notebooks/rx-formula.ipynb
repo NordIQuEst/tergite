{
 "cells": [
  {
   "cell_type": "code",
   "execution_count": null,
   "id": "b2f78fd6",
   "metadata": {},
   "outputs": [],
   "source": [
    "import numpy as np\n",
    "import matplotlib.pyplot as plt\n",
    "\n",
    "x = np.linspace(0, 0.1, 1000)\n",
    "y = lambda A, f, p, c: (lambda x: A * np.cos(2 * np.pi * f * x + p) + c)\n",
    "\n",
    "rabi = dict(\n",
    "    A=0.0005359157063677955,\n",
    "    f=12.804569197752492,\n",
    "    p=3.0860149959473757,\n",
    "    c=0.006761848591580204,\n",
    ")\n",
    "\n",
    "fig, ax = plt.subplots()\n",
    "ax.plot(x, y(**rabi)(x))\n",
    "\n",
    "\n",
    "def b(theta):\n",
    "    global rabi\n",
    "    return rabi[\"A\"] * np.cos(theta + rabi[\"p\"]) + rabi[\"c\"]\n",
    "\n",
    "\n",
    "for theta in np.linspace(0, np.pi, 20):\n",
    "    ax.scatter(theta / (2 * np.pi * rabi[\"f\"]), b(theta), color=\"red\")"
   ]
  }
 ],
 "metadata": {
  "kernelspec": {
   "display_name": "Python 3.9: Qiskit Master",
   "language": "python",
   "name": "qiskit"
  },
  "language_info": {
   "codemirror_mode": {
    "name": "ipython",
    "version": 3
   },
   "file_extension": ".py",
   "mimetype": "text/x-python",
   "name": "python",
   "nbconvert_exporter": "python",
   "pygments_lexer": "ipython3",
   "version": "3.9.12"
  }
 },
 "nbformat": 4,
 "nbformat_minor": 5
}
