{
 "cells": [
  {
   "cell_type": "code",
   "execution_count": null,
   "id": "28e7a204",
   "metadata": {},
   "outputs": [],
   "source": [
    "from qiskit.providers.tergite import Tergite\n",
    "\n",
    "from qiskit.transpiler import CouplingMap\n",
    "\n",
    "import retworkx.visualization as rxv\n",
    "\n",
    "from qiskit.providers.fake_provider import FakeHanoi"
   ]
  },
  {
   "cell_type": "code",
   "execution_count": null,
   "id": "11acacc5",
   "metadata": {},
   "outputs": [],
   "source": [
    "chalmers = Tergite.get_provider()\n",
    "backend = chalmers.get_backend(input(\"Backend name? \"))\n",
    "backend.set_options(shots=1500)\n",
    "print(f\"Loaded Tergite backend {backend.name}\")"
   ]
  },
  {
   "cell_type": "code",
   "execution_count": null,
   "id": "d485554b",
   "metadata": {},
   "outputs": [],
   "source": [
    "dfq, dfr, dfc = backend.calibration_tables\n",
    "dfq"
   ]
  }
 ],
 "metadata": {
  "kernelspec": {
   "display_name": "Python 3.9: qiskit",
   "language": "python",
   "name": "qiskit"
  },
  "language_info": {
   "codemirror_mode": {
    "name": "ipython",
    "version": 3
   },
   "file_extension": ".py",
   "mimetype": "text/x-python",
   "name": "python",
   "nbconvert_exporter": "python",
   "pygments_lexer": "ipython3",
   "version": "3.9.13"
  }
 },
 "nbformat": 4,
 "nbformat_minor": 5
}
