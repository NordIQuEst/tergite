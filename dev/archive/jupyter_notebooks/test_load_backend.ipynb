{
 "cells": [
  {
   "cell_type": "code",
   "execution_count": 1,
   "id": "28e7a204",
   "metadata": {},
   "outputs": [],
   "source": [
    "from qiskit.providers.tergite import Tergite\n",
    "\n",
    "from qiskit.transpiler import CouplingMap\n",
    "\n",
    "import retworkx.visualization as rxv\n",
    "\n",
    "from qiskit.providers.fake_provider import FakeHanoi"
   ]
  },
  {
   "cell_type": "code",
   "execution_count": 2,
   "id": "11acacc5",
   "metadata": {},
   "outputs": [
    {
     "name": "stdout",
     "output_type": "stream",
     "text": [
      "Backend name? Nov7\n",
      "Loaded Tergite backend Nov7\n"
     ]
    }
   ],
   "source": [
    "chalmers = Tergite.get_provider()\n",
    "backend = chalmers.get_backend(input(\"Backend name? \"))\n",
    "backend.set_options(shots=1500)\n",
    "print(f\"Loaded Tergite backend {backend.name}\")"
   ]
  },
  {
   "cell_type": "code",
   "execution_count": 3,
   "id": "d485554b",
   "metadata": {},
   "outputs": [
    {
     "data": {
      "text/html": [
       "<div>\n",
       "<style scoped>\n",
       "    .dataframe tbody tr th:only-of-type {\n",
       "        vertical-align: middle;\n",
       "    }\n",
       "\n",
       "    .dataframe tbody tr th {\n",
       "        vertical-align: top;\n",
       "    }\n",
       "\n",
       "    .dataframe thead th {\n",
       "        text-align: right;\n",
       "    }\n",
       "</style>\n",
       "<table border=\"1\" class=\"dataframe\">\n",
       "  <thead>\n",
       "    <tr style=\"text-align: right;\">\n",
       "      <th></th>\n",
       "      <th>rabi_oscillations</th>\n",
       "      <th>ramsey_oscillations</th>\n",
       "      <th>t1_decoherence</th>\n",
       "      <th>t2_decoherence</th>\n",
       "      <th>state_discrimination</th>\n",
       "      <th>spectroscopy</th>\n",
       "    </tr>\n",
       "    <tr>\n",
       "      <th>qubit</th>\n",
       "      <th></th>\n",
       "      <th></th>\n",
       "      <th></th>\n",
       "      <th></th>\n",
       "      <th></th>\n",
       "      <th></th>\n",
       "    </tr>\n",
       "  </thead>\n",
       "  <tbody>\n",
       "    <tr>\n",
       "      <th>0</th>\n",
       "      <td>fd66b448-0e51-4fbf-9d92-ce008056b495</td>\n",
       "      <td>None</td>\n",
       "      <td>None</td>\n",
       "      <td>None</td>\n",
       "      <td>None</td>\n",
       "      <td>8464ba47-91f8-4f22-88ea-33a3492e3e56</td>\n",
       "    </tr>\n",
       "    <tr>\n",
       "      <th>1</th>\n",
       "      <td>cb9f781e-20db-455c-aa54-d003aa33ef59</td>\n",
       "      <td>None</td>\n",
       "      <td>None</td>\n",
       "      <td>None</td>\n",
       "      <td>None</td>\n",
       "      <td>36ba2dd8-a703-4bc5-a6b7-625630a4082e</td>\n",
       "    </tr>\n",
       "    <tr>\n",
       "      <th>2</th>\n",
       "      <td>4b089e2f-49bd-44c8-8bb8-9a394f6ba584</td>\n",
       "      <td>None</td>\n",
       "      <td>None</td>\n",
       "      <td>None</td>\n",
       "      <td>None</td>\n",
       "      <td>b6f0bfe5-3ebd-4b38-a9b7-0f03c36ead96</td>\n",
       "    </tr>\n",
       "    <tr>\n",
       "      <th>3</th>\n",
       "      <td>09e4d28b-618f-4b2d-b6e4-e9497220e043</td>\n",
       "      <td>None</td>\n",
       "      <td>None</td>\n",
       "      <td>None</td>\n",
       "      <td>None</td>\n",
       "      <td>ecec2dc8-628c-4737-8682-2f2587416865</td>\n",
       "    </tr>\n",
       "    <tr>\n",
       "      <th>4</th>\n",
       "      <td>bfc3aa31-e4c0-44e7-894c-c581554242d0</td>\n",
       "      <td>None</td>\n",
       "      <td>None</td>\n",
       "      <td>None</td>\n",
       "      <td>None</td>\n",
       "      <td>cd829aec-393d-4960-89aa-4ddbefa6ebe6</td>\n",
       "    </tr>\n",
       "  </tbody>\n",
       "</table>\n",
       "</div>"
      ],
      "text/plain": [
       "                          rabi_oscillations ramsey_oscillations  \\\n",
       "qubit                                                             \n",
       "0      fd66b448-0e51-4fbf-9d92-ce008056b495                None   \n",
       "1      cb9f781e-20db-455c-aa54-d003aa33ef59                None   \n",
       "2      4b089e2f-49bd-44c8-8bb8-9a394f6ba584                None   \n",
       "3      09e4d28b-618f-4b2d-b6e4-e9497220e043                None   \n",
       "4      bfc3aa31-e4c0-44e7-894c-c581554242d0                None   \n",
       "\n",
       "      t1_decoherence t2_decoherence state_discrimination  \\\n",
       "qubit                                                      \n",
       "0               None           None                 None   \n",
       "1               None           None                 None   \n",
       "2               None           None                 None   \n",
       "3               None           None                 None   \n",
       "4               None           None                 None   \n",
       "\n",
       "                               spectroscopy  \n",
       "qubit                                        \n",
       "0      8464ba47-91f8-4f22-88ea-33a3492e3e56  \n",
       "1      36ba2dd8-a703-4bc5-a6b7-625630a4082e  \n",
       "2      b6f0bfe5-3ebd-4b38-a9b7-0f03c36ead96  \n",
       "3      ecec2dc8-628c-4737-8682-2f2587416865  \n",
       "4      cd829aec-393d-4960-89aa-4ddbefa6ebe6  "
      ]
     },
     "execution_count": 3,
     "metadata": {},
     "output_type": "execute_result"
    }
   ],
   "source": [
    "dfq, dfr, dfc = backend.calibration_tables\n",
    "dfq"
   ]
  }
 ],
 "metadata": {
  "kernelspec": {
   "display_name": "Python 3.9: qiskit",
   "language": "python",
   "name": "qiskit"
  },
  "language_info": {
   "codemirror_mode": {
    "name": "ipython",
    "version": 3
   },
   "file_extension": ".py",
   "mimetype": "text/x-python",
   "name": "python",
   "nbconvert_exporter": "python",
   "pygments_lexer": "ipython3",
   "version": "3.9.13"
  }
 },
 "nbformat": 4,
 "nbformat_minor": 5
}
