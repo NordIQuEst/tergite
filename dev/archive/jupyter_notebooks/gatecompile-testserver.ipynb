{
 "cells": [
  {
   "cell_type": "code",
   "execution_count": 6,
   "id": "dedce0eb",
   "metadata": {},
   "outputs": [],
   "source": [
    "import qiskit.circuit as circuit\n",
    "import qiskit.pulse as pulse\n",
    "import qiskit.compiler as compiler\n",
    "import retworkx.visualization as rxv\n",
    "import numpy as np\n",
    "from qiskit.providers.tergite import Tergite\n",
    "import tqcsf.file\n",
    "import matplotlib.pyplot as plt\n",
    "from qiskit.visualization.pulse_v2.stylesheet import IQXDebugging, IQXSimple"
   ]
  },
  {
   "cell_type": "code",
   "execution_count": 2,
   "id": "16336f73",
   "metadata": {
    "scrolled": false
   },
   "outputs": [
    {
     "name": "stdout",
     "output_type": "stream",
     "text": [
      "Backend name? Nov7\n"
     ]
    }
   ],
   "source": [
    "chalmers = Tergite.get_provider()\n",
    "backend = chalmers.get_backend(input(\"Backend name? \"))\n",
    "backend.set_options(shots=2000)"
   ]
  },
  {
   "cell_type": "code",
   "execution_count": 3,
   "id": "bded7666",
   "metadata": {},
   "outputs": [
    {
     "data": {
      "text/html": [
       "<pre style=\"word-wrap: normal;white-space: pre;background: #fff0;line-height: 1.1;font-family: &quot;Courier New&quot;,Courier,monospace\">      ░      ┌───────┐┌─┐            \n",
       "q_0: ─░──|0>─┤ Rx(π) ├┤M├────────────\n",
       "      ░      ├───────┤└╥┘┌─┐         \n",
       "q_1: ─░──|0>─┤ Rx(π) ├─╫─┤M├─────────\n",
       "      ░      ├───────┤ ║ └╥┘┌─┐      \n",
       "q_2: ─░──|0>─┤ Rx(π) ├─╫──╫─┤M├──────\n",
       "      ░      ├───────┤ ║  ║ └╥┘┌─┐   \n",
       "q_3: ─░──|0>─┤ Rx(π) ├─╫──╫──╫─┤M├───\n",
       "      ░      ├───────┤ ║  ║  ║ └╥┘┌─┐\n",
       "q_4: ─░──|0>─┤ Rx(π) ├─╫──╫──╫──╫─┤M├\n",
       "      ░      └───────┘ ║  ║  ║  ║ └╥┘\n",
       "c: 5/══════════════════╩══╩══╩══╩══╩═\n",
       "                       0  1  2  3  4 </pre>"
      ],
      "text/plain": [
       "      ░      ┌───────┐┌─┐            \n",
       "q_0: ─░──|0>─┤ Rx(π) ├┤M├────────────\n",
       "      ░      ├───────┤└╥┘┌─┐         \n",
       "q_1: ─░──|0>─┤ Rx(π) ├─╫─┤M├─────────\n",
       "      ░      ├───────┤ ║ └╥┘┌─┐      \n",
       "q_2: ─░──|0>─┤ Rx(π) ├─╫──╫─┤M├──────\n",
       "      ░      ├───────┤ ║  ║ └╥┘┌─┐   \n",
       "q_3: ─░──|0>─┤ Rx(π) ├─╫──╫──╫─┤M├───\n",
       "      ░      ├───────┤ ║  ║  ║ └╥┘┌─┐\n",
       "q_4: ─░──|0>─┤ Rx(π) ├─╫──╫──╫──╫─┤M├\n",
       "      ░      └───────┘ ║  ║  ║  ║ └╥┘\n",
       "c: 5/══════════════════╩══╩══╩══╩══╩═\n",
       "                       0  1  2  3  4 "
      ]
     },
     "execution_count": 3,
     "metadata": {},
     "output_type": "execute_result"
    }
   ],
   "source": [
    "qc = circuit.QuantumCircuit(5, 5)\n",
    "qc.barrier([0, 1, 2, 3, 4])\n",
    "[qc.reset(i) for i in range(5)]  # reset qubits\n",
    "[qc.rx(np.pi, i) for i in range(5)]  # rotate qubits\n",
    "qc.measure([i for i in range(5)], [i for i in range(5)])  # measure qubits\n",
    "qc.draw()"
   ]
  },
  {
   "cell_type": "code",
   "execution_count": 4,
   "id": "0a3e9db2",
   "metadata": {
    "scrolled": false
   },
   "outputs": [
    {
     "name": "stdout",
     "output_type": "stream",
     "text": [
      "Tergite: Job has been successfully submitted\n"
     ]
    }
   ],
   "source": [
    "job = backend.run(qc, meas_level=1, meas_return=\"single\")"
   ]
  }
 ],
 "metadata": {
  "kernelspec": {
   "display_name": "Python 3.9: qiskit",
   "language": "python",
   "name": "qiskit"
  },
  "language_info": {
   "codemirror_mode": {
    "name": "ipython",
    "version": 3
   },
   "file_extension": ".py",
   "mimetype": "text/x-python",
   "name": "python",
   "nbconvert_exporter": "python",
   "pygments_lexer": "ipython3",
   "version": "3.9.13"
  }
 },
 "nbformat": 4,
 "nbformat_minor": 5
}
