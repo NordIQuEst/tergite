{
 "cells": [
  {
   "cell_type": "code",
   "execution_count": null,
   "id": "dedce0eb",
   "metadata": {},
   "outputs": [],
   "source": [
    "import qiskit.circuit as circuit\n",
    "import qiskit.pulse as pulse\n",
    "import qiskit.compiler as compiler\n",
    "import retworkx.visualization as rxv\n",
    "import numpy as np\n",
    "from qiskit.providers.tergite import Tergite\n",
    "import tqcsf.file\n",
    "import matplotlib.pyplot as plt\n",
    "from qiskit.visualization.pulse_v2.stylesheet import IQXDebugging, IQXSimple"
   ]
  },
  {
   "cell_type": "code",
   "execution_count": null,
   "id": "16336f73",
   "metadata": {
    "scrolled": false
   },
   "outputs": [],
   "source": [
    "chalmers = Tergite.get_provider()\n",
    "backend = chalmers.get_backend(input(\"Backend name? \"))\n",
    "backend.set_options(shots=2000)"
   ]
  },
  {
   "cell_type": "code",
   "execution_count": null,
   "id": "bded7666",
   "metadata": {},
   "outputs": [],
   "source": [
    "qc = circuit.QuantumCircuit(5, 5)\n",
    "qc.barrier([0, 1, 2, 3, 4])\n",
    "[qc.reset(i) for i in range(5)]  # reset qubits\n",
    "[qc.rx(np.pi, i) for i in range(5)]  # rotate qubits\n",
    "qc.measure([i for i in range(5)], [i for i in range(5)])  # measure qubits\n",
    "qc.draw()"
   ]
  },
  {
   "cell_type": "code",
   "execution_count": null,
   "id": "0a3e9db2",
   "metadata": {
    "scrolled": false
   },
   "outputs": [],
   "source": [
    "job = backend.run(qc, meas_level=1, meas_return=\"single\")"
   ]
  }
 ],
 "metadata": {
  "kernelspec": {
   "display_name": "Python 3.9: qiskit",
   "language": "python",
   "name": "qiskit"
  },
  "language_info": {
   "codemirror_mode": {
    "name": "ipython",
    "version": 3
   },
   "file_extension": ".py",
   "mimetype": "text/x-python",
   "name": "python",
   "nbconvert_exporter": "python",
   "pygments_lexer": "ipython3",
   "version": "3.9.13"
  }
 },
 "nbformat": 4,
 "nbformat_minor": 5
}
