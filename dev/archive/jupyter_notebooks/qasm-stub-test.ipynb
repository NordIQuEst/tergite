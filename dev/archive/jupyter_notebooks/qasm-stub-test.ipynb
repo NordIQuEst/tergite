{
 "cells": [
  {
   "cell_type": "markdown",
   "id": "14ebedbb",
   "metadata": {},
   "source": [
    "# OpenQASM job"
   ]
  },
  {
   "cell_type": "code",
   "execution_count": null,
   "id": "143d4c11",
   "metadata": {},
   "outputs": [],
   "source": [
    "import qiskit.circuit as circuit\n",
    "from tergite_qiskit_connector.providers.tergite import Tergite\n",
    "from time import sleep\n",
    "import requests"
   ]
  },
  {
   "cell_type": "code",
   "execution_count": null,
   "id": "e83a8b2a",
   "metadata": {},
   "outputs": [],
   "source": [
    "chalmers = Tergite.get_provider()\n",
    "backend = chalmers.get_backend(\"PinguOpenQASM\")\n",
    "backend.set_options(shots=1024)\n",
    "backend"
   ]
  },
  {
   "cell_type": "code",
   "execution_count": null,
   "id": "960de2fa",
   "metadata": {},
   "outputs": [],
   "source": [
    "qc = circuit.QuantumCircuit(2, 2)\n",
    "qc.h(1)\n",
    "qc.measure(1, 1)\n",
    "qc.draw()"
   ]
  },
  {
   "cell_type": "code",
   "execution_count": null,
   "id": "3e25c4fe",
   "metadata": {
    "scrolled": false
   },
   "outputs": [],
   "source": [
    "job = backend.run(qc)"
   ]
  },
  {
   "cell_type": "code",
   "execution_count": null,
   "id": "49934699",
   "metadata": {
    "scrolled": true
   },
   "outputs": [],
   "source": [
    "sleep(5)\n",
    "job.result()"
   ]
  }
 ],
 "metadata": {
  "kernelspec": {
   "display_name": "Python 3.9: qiskit",
   "language": "python",
   "name": "qiskit"
  },
  "language_info": {
   "codemirror_mode": {
    "name": "ipython",
    "version": 3
   },
   "file_extension": ".py",
   "mimetype": "text/x-python",
   "name": "python",
   "nbconvert_exporter": "python",
   "pygments_lexer": "ipython3",
   "version": "3.9.13"
  }
 },
 "nbformat": 4,
 "nbformat_minor": 5
}
