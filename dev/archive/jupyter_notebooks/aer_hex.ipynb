{
 "cells": [
  {
   "cell_type": "code",
   "execution_count": 1,
   "id": "86a1370b",
   "metadata": {},
   "outputs": [],
   "source": [
    "from qiskit import Aer\n",
    "import qiskit.circuit as circuit\n",
    "import numpy as np"
   ]
  },
  {
   "cell_type": "code",
   "execution_count": 2,
   "id": "88347f9b",
   "metadata": {},
   "outputs": [],
   "source": [
    "backend = Aer.get_backend(\"aer_simulator\")"
   ]
  },
  {
   "cell_type": "code",
   "execution_count": 11,
   "id": "188ce4db",
   "metadata": {},
   "outputs": [
    {
     "data": {
      "text/html": [
       "<pre style=\"word-wrap: normal;white-space: pre;background: #fff0;line-height: 1.1;font-family: &quot;Courier New&quot;,Courier,monospace\">     ┌──────────┐┌─┐\n",
       "q_0: ┤ Rx(3π/5) ├┤M├\n",
       "     └──────────┘└╥┘\n",
       "q_1: ─────────────╫─\n",
       "                  ║ \n",
       "q_2: ─────────────╫─\n",
       "                  ║ \n",
       "q_3: ─────────────╫─\n",
       "                  ║ \n",
       "c: 4/═════════════╩═\n",
       "                  1 </pre>"
      ],
      "text/plain": [
       "     ┌──────────┐┌─┐\n",
       "q_0: ┤ Rx(3π/5) ├┤M├\n",
       "     └──────────┘└╥┘\n",
       "q_1: ─────────────╫─\n",
       "                  ║ \n",
       "q_2: ─────────────╫─\n",
       "                  ║ \n",
       "q_3: ─────────────╫─\n",
       "                  ║ \n",
       "c: 4/═════════════╩═\n",
       "                  1 "
      ]
     },
     "execution_count": 11,
     "metadata": {},
     "output_type": "execute_result"
    }
   ],
   "source": [
    "qc = circuit.QuantumCircuit(4, 4)\n",
    "qc.rx(1.2 * np.pi / 2, 0)\n",
    "qc.measure(0, 1)\n",
    "qc.draw()"
   ]
  },
  {
   "cell_type": "code",
   "execution_count": 12,
   "id": "b86d65cc",
   "metadata": {},
   "outputs": [],
   "source": [
    "job = backend.run(qc, meas_level=2, meas_return=\"single\")\n",
    "result = job.result()"
   ]
  },
  {
   "cell_type": "code",
   "execution_count": 13,
   "id": "854700f6",
   "metadata": {},
   "outputs": [
    {
     "data": {
      "text/plain": [
       "Result(backend_name='aer_simulator', backend_version='0.11.0', qobj_id='5dfdd95f-7e8d-4196-aac3-dfd2d359cd30', job_id='66118bff-8fd3-4cd3-953f-a2939751a603', success=True, results=[ExperimentResult(shots=1024, success=True, meas_level=2, data=ExperimentResultData(counts={'0x0': 349, '0x2': 675}), header=QobjExperimentHeader(clbit_labels=[['c', 0], ['c', 1], ['c', 2], ['c', 3]], creg_sizes=[['c', 4]], global_phase=0.0, memory_slots=4, metadata={}, n_qubits=4, name='circuit-84', qreg_sizes=[['q', 4]], qubit_labels=[['q', 0], ['q', 1], ['q', 2], ['q', 3]]), status=DONE, seed_simulator=902814505, metadata={'batched_shots_optimization': False, 'method': 'statevector', 'active_input_qubits': [0], 'device': 'CPU', 'remapped_qubits': False, 'num_qubits': 1, 'num_clbits': 4, 'sample_measure_time': 0.0003414, 'input_qubit_map': [[0, 0]], 'measure_sampling': True, 'noise': 'ideal', 'parallel_shots': 1, 'parallel_state_update': 8, 'fusion': {'enabled': True, 'threshold': 14, 'max_fused_qubits': 5, 'applied': False}}, time_taken=0.0026023)], date=2022-10-28T09:45:53.114810, status=COMPLETED, header=QobjHeader(backend_name='aer_simulator', backend_version='0.11.0'), metadata={'parallel_experiments': 1, 'omp_enabled': True, 'max_memory_mb': 65413, 'max_gpu_memory_mb': 0, 'num_processes_per_experiments': 1, 'time_taken_load_qobj': 0.0001239, 'mpi_rank': 0, 'num_mpi_processes': 1, 'time_taken_execute': 0.0026874, 'time_taken': 0.0028231}, time_taken=0.013591527938842773)"
      ]
     },
     "execution_count": 13,
     "metadata": {},
     "output_type": "execute_result"
    }
   ],
   "source": [
    "result"
   ]
  }
 ],
 "metadata": {
  "kernelspec": {
   "display_name": "Python 3.9: qiskit",
   "language": "python",
   "name": "qiskit"
  },
  "language_info": {
   "codemirror_mode": {
    "name": "ipython",
    "version": 3
   },
   "file_extension": ".py",
   "mimetype": "text/x-python",
   "name": "python",
   "nbconvert_exporter": "python",
   "pygments_lexer": "ipython3",
   "version": "3.9.13"
  }
 },
 "nbformat": 4,
 "nbformat_minor": 5
}
