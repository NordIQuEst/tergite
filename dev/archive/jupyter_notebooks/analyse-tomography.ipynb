{
 "cells": [
  {
   "cell_type": "code",
   "execution_count": 1,
   "id": "dedce0eb",
   "metadata": {},
   "outputs": [],
   "source": [
    "import qiskit.circuit as circuit\n",
    "import qiskit.pulse as pulse\n",
    "import qiskit.compiler as compiler\n",
    "import retworkx.visualization as rxv\n",
    "import numpy as np\n",
    "import json\n",
    "from qiskit.providers.tergite import Tergite\n",
    "from qiskit.result import Result\n",
    "from qiskit_experiments.framework import ExperimentData\n",
    "from qiskit.visualization.pulse_v2.stylesheet import IQXDebugging, IQXSimple\n",
    "from qiskit_experiments.library.tomography import (\n",
    "    StateTomography,\n",
    "    StateTomographyAnalysis,\n",
    ")"
   ]
  },
  {
   "cell_type": "code",
   "execution_count": 2,
   "id": "caa77833",
   "metadata": {},
   "outputs": [
    {
     "name": "stderr",
     "output_type": "stream",
     "text": [
      "C:\\Users\\Axel\\AppData\\Local\\Temp\\ipykernel_10960\\2507577537.py:1: DeprecationWarning: The qiskit.ignis package is deprecated and has been supersceded by the qiskit-experiments project. Refer to the migration guide: https://github.com/Qiskit/qiskit-ignis#migration-guide on how to migrate to the new project.\n",
      "  from qiskit.ignis.verification import StateTomographyFitter\n"
     ]
    }
   ],
   "source": [
    "from qiskit.ignis.verification import StateTomographyFitter"
   ]
  },
  {
   "cell_type": "code",
   "execution_count": 3,
   "id": "7bd27d9d",
   "metadata": {},
   "outputs": [],
   "source": [
    "with open(\"tomog.result.json\", mode=\"r\") as fp:\n",
    "    result = Result.from_dict(json.load(fp))"
   ]
  },
  {
   "cell_type": "code",
   "execution_count": 6,
   "id": "63ff6f99",
   "metadata": {},
   "outputs": [
    {
     "data": {
      "text/plain": [
       "81"
      ]
     },
     "execution_count": 6,
     "metadata": {},
     "output_type": "execute_result"
    }
   ],
   "source": [
    "len(result.results)"
   ]
  }
 ],
 "metadata": {
  "kernelspec": {
   "display_name": "Python 3.9: qiskit",
   "language": "python",
   "name": "qiskit"
  },
  "language_info": {
   "codemirror_mode": {
    "name": "ipython",
    "version": 3
   },
   "file_extension": ".py",
   "mimetype": "text/x-python",
   "name": "python",
   "nbconvert_exporter": "python",
   "pygments_lexer": "ipython3",
   "version": "3.9.13"
  }
 },
 "nbformat": 4,
 "nbformat_minor": 5
}
