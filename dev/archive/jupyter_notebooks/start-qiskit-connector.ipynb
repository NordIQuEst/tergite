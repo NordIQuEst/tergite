{
 "cells": [
  {
   "cell_type": "code",
   "execution_count": null,
   "id": "77d89eac",
   "metadata": {},
   "outputs": [],
   "source": [
    "import qiskit.pulse as pulse\n",
    "import qiskit.circuit as circuit\n",
    "from tergite_qiskit_connector.providers.tergite import Tergite\n",
    "\n",
    "# from quantify_core.analysis import fitting_models as fm\n",
    "from qiskit.visualization.pulse_v2.stylesheet import IQXDebugging\n",
    "import numpy as np\n",
    "import matplotlib.pyplot as plt\n",
    "\n",
    "# from quantify_core.visualization import mpl_plotting as qpl\n",
    "import matplotlib.ticker as plticker\n",
    "from tempfile import gettempdir\n",
    "import tqcsf.file\n",
    "from scipy.spatial import distance_matrix\n",
    "import time\n",
    "import requests\n",
    "import pathlib\n",
    "import functools\n",
    "import rich"
   ]
  },
  {
   "cell_type": "code",
   "execution_count": null,
   "id": "ad1ea527",
   "metadata": {
    "scrolled": false
   },
   "outputs": [],
   "source": [
    "chalmers = Tergite.get_provider()\n",
    "backend = chalmers.get_backend(\"PinguOpenPulse_Anuj\")\n",
    "backend.set_options(shots=1000)\n",
    "backend.calibration_table"
   ]
  }
 ],
 "metadata": {
  "kernelspec": {
   "display_name": "Python 3.9: qiskit",
   "language": "python",
   "name": "qiskit"
  },
  "language_info": {
   "codemirror_mode": {
    "name": "ipython",
    "version": 3
   },
   "file_extension": ".py",
   "mimetype": "text/x-python",
   "name": "python",
   "nbconvert_exporter": "python",
   "pygments_lexer": "ipython3",
   "version": "3.9.13"
  }
 },
 "nbformat": 4,
 "nbformat_minor": 5
}
