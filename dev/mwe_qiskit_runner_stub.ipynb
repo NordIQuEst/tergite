{
 "cells": [
  {
   "cell_type": "code",
   "execution_count": null,
   "id": "db2104e9",
   "metadata": {},
   "outputs": [],
   "source": [
    "import qiskit.circuit as circuit\n",
    "from qiskit.providers.tergite import Tergite\n",
    "from time import sleep\n",
    "import requests"
   ]
  },
  {
   "cell_type": "code",
   "execution_count": null,
   "id": "6cf29ead",
   "metadata": {},
   "outputs": [],
   "source": [
    "chalmers = Tergite.get_provider()\n",
    "backend = chalmers.get_backend(\"OpenQASM\")\n",
    "backend.set_options(shots=1024)\n",
    "backend"
   ]
  },
  {
   "cell_type": "code",
   "execution_count": null,
   "id": "c565af3f",
   "metadata": {},
   "outputs": [],
   "source": [
    "qc = circuit.QuantumCircuit(2, 2)\n",
    "qc.h(1)\n",
    "qc.measure(1, 1)\n",
    "qc.draw()"
   ]
  },
  {
   "cell_type": "code",
   "execution_count": null,
   "id": "c5c5fe12",
   "metadata": {},
   "outputs": [],
   "source": [
    "job = backend.run(qc)"
   ]
  },
  {
   "cell_type": "code",
   "execution_count": null,
   "id": "3f2aff04",
   "metadata": {},
   "outputs": [],
   "source": [
    "sleep(10)\n",
    "job.result()"
   ]
  }
 ],
 "metadata": {
  "kernelspec": {
   "display_name": "qiskit-connector",
   "language": "python",
   "name": "python3"
  },
  "language_info": {
   "codemirror_mode": {
    "name": "ipython",
    "version": 3
   },
   "file_extension": ".py",
   "mimetype": "text/x-python",
   "name": "python",
   "nbconvert_exporter": "python",
   "pygments_lexer": "ipython3",
   "version": "3.8.16"
  },
  "vscode": {
   "interpreter": {
    "hash": "1bdee9523903e54849e91f6d519bbe988fb436ad5095a775bdbcc1b8b659b6b4"
   }
  }
 },
 "nbformat": 4,
 "nbformat_minor": 5
}
