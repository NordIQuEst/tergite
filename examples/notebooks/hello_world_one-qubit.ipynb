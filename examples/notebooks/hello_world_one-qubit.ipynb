{
 "cells": [
  {
   "cell_type": "markdown",
   "id": "f3fa3032",
   "metadata": {},
   "source": [
    "# Hello Tergite\n",
    "\n",
    "This is a showcase of connecting to tergite via the `tergite-qiskit-connector`, running a basic circuit, and retrieving the measurement results."
   ]
  },
  {
   "cell_type": "markdown",
   "id": "d0b5489d",
   "metadata": {},
   "source": [
    "## Install dependencies\n",
    "\n",
    "This example depends on:\n",
    "\n",
    "- [qiskit](https://github.com/Qiskit/qiskit)\n",
    "- [tergite-qiskit-connector](https://test.pypi.org/project/tergite-qiskit-connector/)\n",
    "\n",
    "To install these dependencies, run the follwing commands in your terminal\n",
    "```\n",
    "$ pip install qiskit\n",
    "$ pip install -i https://test.pypi.org/simple/ --extra-index-url https://pypi.org/simple tergite-qiskit-connector\n",
    "```"
   ]
  },
  {
   "cell_type": "markdown",
   "id": "f2d0a2e6",
   "metadata": {},
   "source": [
    "## Import the basic dependencies"
   ]
  },
  {
   "cell_type": "code",
   "execution_count": 1,
   "id": "ea5ee959",
   "metadata": {},
   "outputs": [
    {
     "name": "stdout",
     "output_type": "stream",
     "text": [
      "Warning: No stored provider account found in $HOME/.qiskit/tergiterc\n"
     ]
    },
    {
     "name": "stderr",
     "output_type": "stream",
     "text": [
      "/Users/skoghm/Library/Python/3.9/lib/python/site-packages/urllib3/__init__.py:35: NotOpenSSLWarning: urllib3 v2 only supports OpenSSL 1.1.1+, currently the 'ssl' module is compiled with 'LibreSSL 2.8.3'. See: https://github.com/urllib3/urllib3/issues/3020\n",
      "  warnings.warn(\n"
     ]
    }
   ],
   "source": [
    "import time\n",
    "import qiskit.circuit as circuit\n",
    "import qiskit.compiler as compiler\n",
    "from tergite_qiskit_connector.providers.tergite import Tergite\n",
    "from tergite_qiskit_connector.providers.tergite.provider_account import ProviderAccount"
   ]
  },
  {
   "cell_type": "markdown",
   "id": "ed5a36b6",
   "metadata": {},
   "source": [
    "## Configure Session\n",
    "Before we get any further, we will take the time to define some of the parameters we will use for our tergite job."
   ]
  },
  {
   "cell_type": "code",
   "execution_count": 2,
   "id": "83870a1c",
   "metadata": {},
   "outputs": [],
   "source": [
    "# the Tergite API URL e.g. \"https://api.tergite.example\"\n",
    "API_URL = \"https://api.qal9000.se\"\n",
    "# API token for connecting to tergite\n",
    "API_TOKEN = \"Yd0_k770B1pvzZdnq3L-oXRLsh2ME-F3HpD2U4DguZ0\"\n",
    "# The name of the Quantum Computer to use from the available quantum computers\n",
    "BACKEND_NAME = \"SimulatorC\"\n",
    "# the name of this service. For your own bookkeeping.\n",
    "SERVICE_NAME = \"local\"\n",
    "# the timeout in seconds for how long to keep checking for results\n",
    "POLL_TIMEOUT = 300"
   ]
  },
  {
   "cell_type": "markdown",
   "id": "da47dc94",
   "metadata": {},
   "source": [
    "## Get the Tergite Backend\n",
    "The backend object can now be obtained. A detailed list of the backend properties — such as the available gate set, coupling map and number of qubits — is availablde by printing the backend object. "
   ]
  },
  {
   "cell_type": "code",
   "execution_count": 3,
   "id": "e777662e",
   "metadata": {},
   "outputs": [
    {
     "name": "stdout",
     "output_type": "stream",
     "text": [
      "TergiteBackend object @ 0x1414d4af0:\n",
      "  backend_name:               SimulatorC\n",
      "  backend_version:            2023.11.15\n",
      "  n_qubits:                   5\n",
      "  basis_gates:                []\n",
      "  gates:                      []\n",
      "  local:                      False\n",
      "  simulator:                  False\n",
      "  conditional:                False\n",
      "  open_pulse:                 True\n",
      "  memory:                     False\n",
      "  max_shots:                  inf\n",
      "  coupling_map:               [[0, 2], [1, 2], [2, 0], [2, 1], [2, 3], [2, 4], [3, 2], [4, 2]]\n",
      "  dynamic_reprate_enabled:    False\n",
      "  supported_instructions:     [(Instruction(name='reset', num_qubits=1, num_clbits=0, params=[]), (0,)), (Instruction(name='reset', num_qubits=1, num_clbits=0, params=[]), (1,)), (Instruction(name='reset', num_qubits=1, num_clbits=0, params=[]), (2,)), (Instruction(name='reset', num_qubits=1, num_clbits=0, params=[]), (3,)), (Instruction(name='reset', num_qubits=1, num_clbits=0, params=[]), (4,)), (Instruction(name='rx', num_qubits=1, num_clbits=0, params=[Parameter(theta)]), (0,)), (Instruction(name='rx', num_qubits=1, num_clbits=0, params=[Parameter(theta)]), (1,)), (Instruction(name='rx', num_qubits=1, num_clbits=0, params=[Parameter(theta)]), (2,)), (Instruction(name='rx', num_qubits=1, num_clbits=0, params=[Parameter(theta)]), (3,)), (Instruction(name='rx', num_qubits=1, num_clbits=0, params=[Parameter(theta)]), (4,)), (Instruction(name='rz', num_qubits=1, num_clbits=0, params=[Parameter(lambda)]), (0,)), (Instruction(name='rz', num_qubits=1, num_clbits=0, params=[Parameter(lambda)]), (1,)), (Instruction(name='rz', num_qubits=1, num_clbits=0, params=[Parameter(lambda)]), (2,)), (Instruction(name='rz', num_qubits=1, num_clbits=0, params=[Parameter(lambda)]), (3,)), (Instruction(name='rz', num_qubits=1, num_clbits=0, params=[Parameter(lambda)]), (4,)), (Delay(duration=tau[unit=dt]), (0,)), (Delay(duration=tau[unit=dt]), (1,)), (Delay(duration=tau[unit=dt]), (2,)), (Delay(duration=tau[unit=dt]), (3,)), (Delay(duration=tau[unit=dt]), (4,)), (Instruction(name='measure', num_qubits=1, num_clbits=1, params=[]), (0, 1, 2, 3, 4))]\n",
      "  dt:                         1e-09\n",
      "  dtm:                        1e-09\n",
      "  parametric_pulses:          ['constant', 'zero', 'square', 'sawtooth', 'triangle', 'cos', 'sin', 'gaussian', 'gaussian_deriv', 'sech', 'sech_deriv', 'gaussian_square', 'drag']\n",
      "  meas_levels:                (0, 1, 2)\n",
      "  characterized:              True\n"
     ]
    }
   ],
   "source": [
    "# provider account creation can be skipped in case you already saved\n",
    "# your provider account to the `~/.qiskit/tergiterc` file.\n",
    "# See below how that is done.\n",
    "account = ProviderAccount(service_name=SERVICE_NAME, url=API_URL, token=API_TOKEN)\n",
    "\n",
    "provider = Tergite.use_provider_account(account)\n",
    "# to save this account to the `~/.qiskit/tergiterc` file, add the `save=True`\n",
    "# provider = Tergite.use_provider_account(account, save=True)\n",
    "\n",
    "# Get the tergite backend in case you skipped provider account creation\n",
    "# provider = Tergite.get_provider(service_name=SERVICE_NAME)\n",
    "backend = provider.get_backend(BACKEND_NAME)\n",
    "backend.set_options(shots=1024)\n",
    "print(backend)"
   ]
  },
  {
   "cell_type": "markdown",
   "id": "dc816ef5",
   "metadata": {},
   "source": [
    "## Create the Qiskit Circuit\n",
    "To test our connection, we will implement a short test circuit. The circuit we will run produces the equal superposition state $|\\Psi\\rangle = |0\\rangle + |1\\rangle$. "
   ]
  },
  {
   "cell_type": "code",
   "execution_count": 4,
   "id": "ab8128f5-a6d4-4c87-8fee-354d49ca7a9c",
   "metadata": {},
   "outputs": [
    {
     "data": {
      "text/plain": [
       "<qiskit.circuit.instructionset.InstructionSet at 0x147db26a0>"
      ]
     },
     "execution_count": 4,
     "metadata": {},
     "output_type": "execute_result"
    }
   ],
   "source": [
    "qc = circuit.QuantumCircuit(1)\n",
    "qc.h(0)"
   ]
  },
  {
   "cell_type": "markdown",
   "id": "289510da-ae56-4962-97eb-652334937f11",
   "metadata": {},
   "source": [
    "We can visualize and verify our circuit with Qiskit's built in `draw()` method. The output format of `qc.draw()` can be changed, see https://docs.quantum.ibm.com/build/circuit-visualization. Note the added measurement and corresponding classical bit register `meas_0`."
   ]
  },
  {
   "cell_type": "code",
   "execution_count": 5,
   "id": "1de741f8-c645-420e-aea8-30769abf11af",
   "metadata": {},
   "outputs": [
    {
     "data": {
      "text/html": [
       "<pre style=\"word-wrap: normal;white-space: pre;background: #fff0;line-height: 1.1;font-family: &quot;Courier New&quot;,Courier,monospace\">   ┌───┐\n",
       "q: ┤ H ├\n",
       "   └───┘</pre>"
      ],
      "text/plain": [
       "   ┌───┐\n",
       "q: ┤ H ├\n",
       "   └───┘"
      ]
     },
     "execution_count": 5,
     "metadata": {},
     "output_type": "execute_result"
    }
   ],
   "source": [
    "qc.draw()"
   ]
  },
  {
   "cell_type": "markdown",
   "id": "2cf466d0-6b99-4224-a9eb-c9965fece42b",
   "metadata": {},
   "source": [
    "To measure the prepared Bell state we add explicit measurements to all qubits using `qc.measure_all()`. This will perform a meaurement in the so-called computational basis, $\\langle q|Z|q\\rangle$, mapping the eigenvalues $\\{-1,1\\}$ to the classical binary values $\\{0,1\\}$. Drawing the final circuit shows the additional measurement operations and the classical bit register `meas`."
   ]
  },
  {
   "cell_type": "code",
   "execution_count": 6,
   "id": "9a5fb284-fec6-4ef3-9719-92a3493217a5",
   "metadata": {},
   "outputs": [
    {
     "data": {
      "text/html": [
       "<pre style=\"word-wrap: normal;white-space: pre;background: #fff0;line-height: 1.1;font-family: &quot;Courier New&quot;,Courier,monospace\">      ┌───┐ ░ ┌─┐\n",
       "   q: ┤ H ├─░─┤M├\n",
       "      └───┘ ░ └╥┘\n",
       "meas: ═════════╩═\n",
       "                 </pre>"
      ],
      "text/plain": [
       "      ┌───┐ ░ ┌─┐\n",
       "   q: ┤ H ├─░─┤M├\n",
       "      └───┘ ░ └╥┘\n",
       "meas: ═════════╩═\n",
       "                 "
      ]
     },
     "execution_count": 6,
     "metadata": {},
     "output_type": "execute_result"
    }
   ],
   "source": [
    "qc.measure_all()\n",
    "qc.draw()"
   ]
  },
  {
   "cell_type": "markdown",
   "id": "f95f1663",
   "metadata": {},
   "source": [
    "## Compile Circuit\n",
    "In order to execute the circuit on physical hardware, the circuit needs to be compiled (or transpiled) to the target architecture. At the least, transpilation accounts for the QPU's native gate set and the qubit connectivity on the QPU. Many transpilers also offer some level of optimization, reducing the circuit size."
   ]
  },
  {
   "cell_type": "code",
   "execution_count": 7,
   "id": "0c70eb23",
   "metadata": {},
   "outputs": [
    {
     "name": "stderr",
     "output_type": "stream",
     "text": [
      "This Target object contains multiqubit gates that operate on > 2 qubits. This will not be reflected in the output coupling map.\n",
      "This Target object contains multiqubit gates that operate on > 2 qubits. This will not be reflected in the output coupling map.\n",
      "This Target object contains multiqubit gates that operate on > 2 qubits. This will not be reflected in the output coupling map.\n",
      "This Target object contains multiqubit gates that operate on > 2 qubits. This will not be reflected in the output coupling map.\n"
     ]
    },
    {
     "data": {
      "text/html": [
       "<pre style=\"word-wrap: normal;white-space: pre;background: #fff0;line-height: 1.1;font-family: &quot;Courier New&quot;,Courier,monospace\">global phase: π/2\n",
       "               ┌─────────┐┌─────────┐┌─────────┐ ░ ┌─┐\n",
       "      q_0 -> 0 ┤ Rz(π/2) ├┤ Rx(π/2) ├┤ Rz(π/2) ├─░─┤M├\n",
       "               └─────────┘└─────────┘└─────────┘ ░ └╥┘\n",
       "ancilla_0 -> 1 ─────────────────────────────────────╫─\n",
       "                                                    ║ \n",
       "ancilla_1 -> 2 ─────────────────────────────────────╫─\n",
       "                                                    ║ \n",
       "ancilla_2 -> 3 ─────────────────────────────────────╫─\n",
       "                                                    ║ \n",
       "ancilla_3 -> 4 ─────────────────────────────────────╫─\n",
       "                                                    ║ \n",
       "         meas: ═════════════════════════════════════╩═\n",
       "                                                      </pre>"
      ],
      "text/plain": [
       "global phase: π/2\n",
       "               ┌─────────┐┌─────────┐┌─────────┐ ░ ┌─┐\n",
       "      q_0 -> 0 ┤ Rz(π/2) ├┤ Rx(π/2) ├┤ Rz(π/2) ├─░─┤M├\n",
       "               └─────────┘└─────────┘└─────────┘ ░ └╥┘\n",
       "ancilla_0 -> 1 ─────────────────────────────────────╫─\n",
       "                                                    ║ \n",
       "ancilla_1 -> 2 ─────────────────────────────────────╫─\n",
       "                                                    ║ \n",
       "ancilla_2 -> 3 ─────────────────────────────────────╫─\n",
       "                                                    ║ \n",
       "ancilla_3 -> 4 ─────────────────────────────────────╫─\n",
       "                                                    ║ \n",
       "         meas: ═════════════════════════════════════╩═\n",
       "                                                      "
      ]
     },
     "execution_count": 7,
     "metadata": {},
     "output_type": "execute_result"
    }
   ],
   "source": [
    "tc = compiler.transpile(qc, backend=backend)\n",
    "tc.draw()"
   ]
  },
  {
   "cell_type": "markdown",
   "id": "49681434",
   "metadata": {},
   "source": [
    "## Run the Circuit\n",
    "Once the cicruit has been compiled to the native gate set and connectivity, we use it to submit a job to the backend. "
   ]
  },
  {
   "cell_type": "code",
   "execution_count": 8,
   "id": "03c6871b",
   "metadata": {},
   "outputs": [
    {
     "name": "stdout",
     "output_type": "stream",
     "text": [
      "Tergite: Job has been successfully submitted\n"
     ]
    }
   ],
   "source": [
    "job = backend.run(tc, meas_level=2, meas_return=\"single\")"
   ]
  },
  {
   "cell_type": "markdown",
   "id": "411c4af4",
   "metadata": {},
   "source": [
    "## See the Results\n",
    "When the job has been submitted, we will need to wait potential queue time and time required to execute the job."
   ]
  },
  {
   "cell_type": "code",
   "execution_count": 9,
   "id": "5fa591f2",
   "metadata": {},
   "outputs": [
    {
     "name": "stdout",
     "output_type": "stream",
     "text": [
      "Job cef085cf-5cee-435b-9d5b-2cc7cf9048cc has not yet completed.\n",
      "Results OK\n"
     ]
    },
    {
     "data": {
      "text/plain": [
       "{'1': 522, '0': 502}"
      ]
     },
     "execution_count": 9,
     "metadata": {},
     "output_type": "execute_result"
    }
   ],
   "source": [
    "elapsed_time = 0\n",
    "result = None\n",
    "while result is None:\n",
    "    if elapsed_time > POLL_TIMEOUT:\n",
    "        raise TimeoutError(f\"result polling timeout {POLL_TIMEOUT} seconds exceeded\")\n",
    "\n",
    "    time.sleep(1)\n",
    "    elapsed_time += 1\n",
    "    result = job.result()\n",
    "\n",
    "result.get_counts()"
   ]
  }
 ],
 "metadata": {
  "kernelspec": {
   "display_name": "Python 3 (ipykernel)",
   "language": "python",
   "name": "python3"
  },
  "language_info": {
   "codemirror_mode": {
    "name": "ipython",
    "version": 3
   },
   "file_extension": ".py",
   "mimetype": "text/x-python",
   "name": "python",
   "nbconvert_exporter": "python",
   "pygments_lexer": "ipython3",
   "version": "3.9.6"
  }
 },
 "nbformat": 4,
 "nbformat_minor": 5
}
