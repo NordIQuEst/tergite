{
 "cells": [
  {
   "cell_type": "markdown",
   "id": "f3fa3032",
   "metadata": {},
   "source": [
    "# Hello Tergite\n",
    "\n",
    "This is a showcase of connecting to tergite via the `tergite-qiskit-connector`, running a basic circuit, and retrieving the measurement results."
   ]
  },
  {
   "cell_type": "markdown",
   "id": "d0b5489d",
   "metadata": {},
   "source": [
    "## Install dependencies\n",
    "\n",
    "This example depends on:\n",
    "\n",
    "- [qiskit](https://github.com/Qiskit/qiskit)\n",
    "- [tergite-qiskit-connector](https://test.pypi.org/project/tergite-qiskit-connector/)\n",
    "\n",
    "To install these dependencies, run the follwing commands in your terminal\n",
    "```\n",
    "$ pip install qiskit\n",
    "$ pip install -i https://test.pypi.org/simple/ --extra-index-url https://pypi.org/simple tergite-qiskit-connector\n",
    "```"
   ]
  },
  {
   "cell_type": "markdown",
   "id": "f2d0a2e6",
   "metadata": {},
   "source": [
    "## Import the basic dependencies"
   ]
  },
  {
   "cell_type": "code",
   "execution_count": 1,
   "id": "ea5ee959",
   "metadata": {},
   "outputs": [
    {
     "name": "stdout",
     "output_type": "stream",
     "text": [
      "Warning: No stored provider account found in $HOME/.qiskit/tergiterc\n"
     ]
    },
    {
     "name": "stderr",
     "output_type": "stream",
     "text": [
      "/Users/skoghm/Library/Python/3.9/lib/python/site-packages/urllib3/__init__.py:35: NotOpenSSLWarning: urllib3 v2 only supports OpenSSL 1.1.1+, currently the 'ssl' module is compiled with 'LibreSSL 2.8.3'. See: https://github.com/urllib3/urllib3/issues/3020\n",
      "  warnings.warn(\n"
     ]
    }
   ],
   "source": [
    "import time\n",
    "import qiskit.circuit as circuit\n",
    "import qiskit.compiler as compiler\n",
    "from tergite_qiskit_connector.providers.tergite import Tergite\n",
    "from tergite_qiskit_connector.providers.tergite.provider_account import ProviderAccount"
   ]
  },
  {
   "cell_type": "markdown",
   "id": "ed5a36b6",
   "metadata": {},
   "source": [
    "## Configure Session\n",
    "Before we get any further, we will take the time to define some of the parameters we will use for our tergite job."
   ]
  },
  {
   "cell_type": "code",
   "execution_count": 2,
   "id": "83870a1c",
   "metadata": {},
   "outputs": [],
   "source": [
    "# the Tergite API URL e.g. \"https://api.tergite.example\"\n",
    "API_URL = \"https://api.qal9000.se\"\n",
    "# API token for connecting to tergite\n",
    "API_TOKEN = \"Yd0_k770B1pvzZdnq3L-oXRLsh2ME-F3HpD2U4DguZ0\"\n",
    "# The name of the Quantum Computer to use from the available quantum computers\n",
    "BACKEND_NAME = \"SimulatorC\"\n",
    "# the name of this service. For your own bookkeeping.\n",
    "SERVICE_NAME = \"local\"\n",
    "# the timeout in seconds for how long to keep checking for results\n",
    "POLL_TIMEOUT = 300"
   ]
  },
  {
   "cell_type": "markdown",
   "id": "da47dc94",
   "metadata": {},
   "source": [
    "## Get the Tergite Backend\n",
    "The backend object can now be obtained. A detailed list of the backend properties — such as the available gate set, coupling map and number of qubits — is availablde by printing the backend object. "
   ]
  },
  {
   "cell_type": "code",
   "execution_count": 3,
   "id": "e777662e",
   "metadata": {},
   "outputs": [
    {
     "name": "stdout",
     "output_type": "stream",
     "text": [
      "TergiteBackend object @ 0x11f5ffbb0:\n",
      "  backend_name:               SimulatorC\n",
      "  backend_version:            2023.11.15\n",
      "  n_qubits:                   5\n",
      "  basis_gates:                []\n",
      "  gates:                      []\n",
      "  local:                      False\n",
      "  simulator:                  False\n",
      "  conditional:                False\n",
      "  open_pulse:                 True\n",
      "  memory:                     False\n",
      "  max_shots:                  inf\n",
      "  coupling_map:               [[0, 2], [1, 2], [2, 0], [2, 1], [2, 3], [2, 4], [3, 2], [4, 2]]\n",
      "  dynamic_reprate_enabled:    False\n",
      "  supported_instructions:     [(Instruction(name='reset', num_qubits=1, num_clbits=0, params=[]), (0,)), (Instruction(name='reset', num_qubits=1, num_clbits=0, params=[]), (1,)), (Instruction(name='reset', num_qubits=1, num_clbits=0, params=[]), (2,)), (Instruction(name='reset', num_qubits=1, num_clbits=0, params=[]), (3,)), (Instruction(name='reset', num_qubits=1, num_clbits=0, params=[]), (4,)), (Instruction(name='rx', num_qubits=1, num_clbits=0, params=[Parameter(theta)]), (0,)), (Instruction(name='rx', num_qubits=1, num_clbits=0, params=[Parameter(theta)]), (1,)), (Instruction(name='rx', num_qubits=1, num_clbits=0, params=[Parameter(theta)]), (2,)), (Instruction(name='rx', num_qubits=1, num_clbits=0, params=[Parameter(theta)]), (3,)), (Instruction(name='rx', num_qubits=1, num_clbits=0, params=[Parameter(theta)]), (4,)), (Instruction(name='rz', num_qubits=1, num_clbits=0, params=[Parameter(lambda)]), (0,)), (Instruction(name='rz', num_qubits=1, num_clbits=0, params=[Parameter(lambda)]), (1,)), (Instruction(name='rz', num_qubits=1, num_clbits=0, params=[Parameter(lambda)]), (2,)), (Instruction(name='rz', num_qubits=1, num_clbits=0, params=[Parameter(lambda)]), (3,)), (Instruction(name='rz', num_qubits=1, num_clbits=0, params=[Parameter(lambda)]), (4,)), (Delay(duration=tau[unit=dt]), (0,)), (Delay(duration=tau[unit=dt]), (1,)), (Delay(duration=tau[unit=dt]), (2,)), (Delay(duration=tau[unit=dt]), (3,)), (Delay(duration=tau[unit=dt]), (4,)), (Instruction(name='measure', num_qubits=1, num_clbits=1, params=[]), (0, 1, 2, 3, 4))]\n",
      "  dt:                         1e-09\n",
      "  dtm:                        1e-09\n",
      "  parametric_pulses:          ['constant', 'zero', 'square', 'sawtooth', 'triangle', 'cos', 'sin', 'gaussian', 'gaussian_deriv', 'sech', 'sech_deriv', 'gaussian_square', 'drag']\n",
      "  meas_levels:                (0, 1, 2)\n",
      "  characterized:              True\n"
     ]
    }
   ],
   "source": [
    "# provider account creation can be skipped in case you already saved\n",
    "# your provider account to the `~/.qiskit/tergiterc` file.\n",
    "# See below how that is done.\n",
    "account = ProviderAccount(service_name=SERVICE_NAME, url=API_URL, token=API_TOKEN)\n",
    "\n",
    "provider = Tergite.use_provider_account(account)\n",
    "# to save this account to the `~/.qiskit/tergiterc` file, add the `save=True`\n",
    "# provider = Tergite.use_provider_account(account, save=True)\n",
    "\n",
    "# Get the tergite backend in case you skipped provider account creation\n",
    "# provider = Tergite.get_provider(service_name=SERVICE_NAME)\n",
    "backend = provider.get_backend(BACKEND_NAME)\n",
    "backend.set_options(shots=1024)\n",
    "print(backend)"
   ]
  },
  {
   "cell_type": "markdown",
   "id": "dc816ef5",
   "metadata": {},
   "source": [
    "## Create the Qiskit Circuit\n",
    "To test our connection, we will implement a short test circuit. The circuit we will run produces the Bell state $|\\Psi\\rangle = |00\\rangle + |11\\rangle.$ "
   ]
  },
  {
   "cell_type": "code",
   "execution_count": 4,
   "id": "ab8128f5-a6d4-4c87-8fee-354d49ca7a9c",
   "metadata": {},
   "outputs": [
    {
     "data": {
      "text/plain": [
       "<qiskit.circuit.instructionset.InstructionSet at 0x12fce3790>"
      ]
     },
     "execution_count": 4,
     "metadata": {},
     "output_type": "execute_result"
    }
   ],
   "source": [
    "qc = circuit.QuantumCircuit(2)\n",
    "qc.h(0)\n",
    "qc.cx(0,1)"
   ]
  },
  {
   "cell_type": "markdown",
   "id": "289510da-ae56-4962-97eb-652334937f11",
   "metadata": {},
   "source": [
    "We can visualize and verify our circuit with Qiskit's built in `draw()` method. The output format of `qc.draw()` can be changed, see https://docs.quantum.ibm.com/build/circuit-visualization. Note the two added measurements and corresponding classical bit registers `meas_0` and `meas_1`."
   ]
  },
  {
   "cell_type": "code",
   "execution_count": 5,
   "id": "1de741f8-c645-420e-aea8-30769abf11af",
   "metadata": {},
   "outputs": [
    {
     "data": {
      "text/html": [
       "<pre style=\"word-wrap: normal;white-space: pre;background: #fff0;line-height: 1.1;font-family: &quot;Courier New&quot;,Courier,monospace\">     ┌───┐     \n",
       "q_0: ┤ H ├──■──\n",
       "     └───┘┌─┴─┐\n",
       "q_1: ─────┤ X ├\n",
       "          └───┘</pre>"
      ],
      "text/plain": [
       "     ┌───┐     \n",
       "q_0: ┤ H ├──■──\n",
       "     └───┘┌─┴─┐\n",
       "q_1: ─────┤ X ├\n",
       "          └───┘"
      ]
     },
     "execution_count": 5,
     "metadata": {},
     "output_type": "execute_result"
    }
   ],
   "source": [
    "qc.draw()"
   ]
  },
  {
   "cell_type": "markdown",
   "id": "2cf466d0-6b99-4224-a9eb-c9965fece42b",
   "metadata": {},
   "source": [
    "To measure the prepared Bell state we add explicit measurements to all qubits using `qc.measure_all()`. This will perform a meaurement in the so-called computational basis, $\\langle q_n|Z|q_n\\rangle$, mapping the eigenvalues $\\{-1,1\\}$ to the classical binary values $\\{0,1\\}$. Drawing the final circuit shows the additional measurement operations and the classical bit register `meas_0` and `meas_1`."
   ]
  },
  {
   "cell_type": "code",
   "execution_count": 6,
   "id": "9a5fb284-fec6-4ef3-9719-92a3493217a5",
   "metadata": {},
   "outputs": [
    {
     "data": {
      "text/html": [
       "<pre style=\"word-wrap: normal;white-space: pre;background: #fff0;line-height: 1.1;font-family: &quot;Courier New&quot;,Courier,monospace\">        ┌───┐      ░ ┌─┐   \n",
       "   q_0: ┤ H ├──■───░─┤M├───\n",
       "        └───┘┌─┴─┐ ░ └╥┘┌─┐\n",
       "   q_1: ─────┤ X ├─░──╫─┤M├\n",
       "             └───┘ ░  ║ └╥┘\n",
       "meas_0: ══════════════╩══╬═\n",
       "                         ║ \n",
       "meas_1: ═════════════════╩═\n",
       "                           </pre>"
      ],
      "text/plain": [
       "        ┌───┐      ░ ┌─┐   \n",
       "   q_0: ┤ H ├──■───░─┤M├───\n",
       "        └───┘┌─┴─┐ ░ └╥┘┌─┐\n",
       "   q_1: ─────┤ X ├─░──╫─┤M├\n",
       "             └───┘ ░  ║ └╥┘\n",
       "meas_0: ══════════════╩══╬═\n",
       "                         ║ \n",
       "meas_1: ═════════════════╩═\n",
       "                           "
      ]
     },
     "execution_count": 6,
     "metadata": {},
     "output_type": "execute_result"
    }
   ],
   "source": [
    "qc.measure_all()\n",
    "qc.draw()"
   ]
  },
  {
   "cell_type": "markdown",
   "id": "f95f1663",
   "metadata": {},
   "source": [
    "## Compile Circuit\n",
    "In order to execute the circuit on physical hardware, the circuit needs to be compiled (or transpiled) to the target architecture. At the least, transpilation accounts for the QPU's native gate set and the qubit connectivity on the QPU. Many transpilers also offer some level of optimization, reducing the circuit size."
   ]
  },
  {
   "cell_type": "code",
   "execution_count": 7,
   "id": "0c70eb23",
   "metadata": {},
   "outputs": [
    {
     "name": "stderr",
     "output_type": "stream",
     "text": [
      "This Target object contains multiqubit gates that operate on > 2 qubits. This will not be reflected in the output coupling map.\n",
      "This Target object contains multiqubit gates that operate on > 2 qubits. This will not be reflected in the output coupling map.\n",
      "This Target object contains multiqubit gates that operate on > 2 qubits. This will not be reflected in the output coupling map.\n",
      "This Target object contains multiqubit gates that operate on > 2 qubits. This will not be reflected in the output coupling map.\n"
     ]
    },
    {
     "ename": "TranspilerError",
     "evalue": "\"Unable to map source basis {('cx', 2), ('h', 1), ('measure', 1), ('barrier', 2)} to target basis {'reset', 'rz', 'barrier', 'measure', 'snapshot', 'delay', 'rx'} over library <qiskit.circuit.equivalence.EquivalenceLibrary object at 0x11808ba00>.\"",
     "output_type": "error",
     "traceback": [
      "\u001b[0;31m---------------------------------------------------------------------------\u001b[0m",
      "\u001b[0;31mTranspilerError\u001b[0m                           Traceback (most recent call last)",
      "Cell \u001b[0;32mIn[7], line 1\u001b[0m\n\u001b[0;32m----> 1\u001b[0m tc \u001b[38;5;241m=\u001b[39m \u001b[43mcompiler\u001b[49m\u001b[38;5;241;43m.\u001b[39;49m\u001b[43mtranspile\u001b[49m\u001b[43m(\u001b[49m\u001b[43mqc\u001b[49m\u001b[43m,\u001b[49m\u001b[43m \u001b[49m\u001b[43mbackend\u001b[49m\u001b[38;5;241;43m=\u001b[39;49m\u001b[43mbackend\u001b[49m\u001b[43m)\u001b[49m\n\u001b[1;32m      2\u001b[0m tc\u001b[38;5;241m.\u001b[39mdraw()\n",
      "File \u001b[0;32m~/Library/Python/3.9/lib/python/site-packages/qiskit/compiler/transpiler.py:382\u001b[0m, in \u001b[0;36mtranspile\u001b[0;34m(circuits, backend, basis_gates, inst_map, coupling_map, backend_properties, initial_layout, layout_method, routing_method, translation_method, scheduling_method, instruction_durations, dt, approximation_degree, timing_constraints, seed_transpiler, optimization_level, callback, output_name, unitary_synthesis_method, unitary_synthesis_plugin_config, target, hls_config, init_method, optimization_method, ignore_backend_supplied_default_methods)\u001b[0m\n\u001b[1;32m    379\u001b[0m     \u001b[38;5;28;01mfor\u001b[39;00m circuit, unique_args \u001b[38;5;129;01min\u001b[39;00m \u001b[38;5;28mzip\u001b[39m(circuits, unique_transpile_args):\n\u001b[1;32m    380\u001b[0m         transpile_config, pass_manager \u001b[38;5;241m=\u001b[39m _combine_args(shared_args, unique_args)\n\u001b[1;32m    381\u001b[0m         output_circuits\u001b[38;5;241m.\u001b[39mappend(\n\u001b[0;32m--> 382\u001b[0m             \u001b[43m_serial_transpile_circuit\u001b[49m\u001b[43m(\u001b[49m\n\u001b[1;32m    383\u001b[0m \u001b[43m                \u001b[49m\u001b[43mcircuit\u001b[49m\u001b[43m,\u001b[49m\n\u001b[1;32m    384\u001b[0m \u001b[43m                \u001b[49m\u001b[43mpass_manager\u001b[49m\u001b[43m,\u001b[49m\n\u001b[1;32m    385\u001b[0m \u001b[43m                \u001b[49m\u001b[43mtranspile_config\u001b[49m\u001b[43m[\u001b[49m\u001b[38;5;124;43m\"\u001b[39;49m\u001b[38;5;124;43mcallback\u001b[39;49m\u001b[38;5;124;43m\"\u001b[39;49m\u001b[43m]\u001b[49m\u001b[43m,\u001b[49m\n\u001b[1;32m    386\u001b[0m \u001b[43m                \u001b[49m\u001b[43mtranspile_config\u001b[49m\u001b[43m[\u001b[49m\u001b[38;5;124;43m\"\u001b[39;49m\u001b[38;5;124;43moutput_name\u001b[39;49m\u001b[38;5;124;43m\"\u001b[39;49m\u001b[43m]\u001b[49m\u001b[43m,\u001b[49m\n\u001b[1;32m    387\u001b[0m \u001b[43m                \u001b[49m\u001b[43mtranspile_config\u001b[49m\u001b[43m[\u001b[49m\u001b[38;5;124;43m\"\u001b[39;49m\u001b[38;5;124;43mbackend_num_qubits\u001b[39;49m\u001b[38;5;124;43m\"\u001b[39;49m\u001b[43m]\u001b[49m\u001b[43m,\u001b[49m\n\u001b[1;32m    388\u001b[0m \u001b[43m                \u001b[49m\u001b[43mtranspile_config\u001b[49m\u001b[43m[\u001b[49m\u001b[38;5;124;43m\"\u001b[39;49m\u001b[38;5;124;43mfaulty_qubits_map\u001b[39;49m\u001b[38;5;124;43m\"\u001b[39;49m\u001b[43m]\u001b[49m\u001b[43m,\u001b[49m\n\u001b[1;32m    389\u001b[0m \u001b[43m                \u001b[49m\u001b[43mtranspile_config\u001b[49m\u001b[43m[\u001b[49m\u001b[38;5;124;43m\"\u001b[39;49m\u001b[38;5;124;43mpass_manager_config\u001b[39;49m\u001b[38;5;124;43m\"\u001b[39;49m\u001b[43m]\u001b[49m\u001b[38;5;241;43m.\u001b[39;49m\u001b[43mbackend_properties\u001b[49m\u001b[43m,\u001b[49m\n\u001b[1;32m    390\u001b[0m \u001b[43m            \u001b[49m\u001b[43m)\u001b[49m\n\u001b[1;32m    391\u001b[0m         )\n\u001b[1;32m    392\u001b[0m     circuits \u001b[38;5;241m=\u001b[39m output_circuits\n\u001b[1;32m    393\u001b[0m end_time \u001b[38;5;241m=\u001b[39m time()\n",
      "File \u001b[0;32m~/Library/Python/3.9/lib/python/site-packages/qiskit/compiler/transpiler.py:475\u001b[0m, in \u001b[0;36m_serial_transpile_circuit\u001b[0;34m(circuit, pass_manager, callback, output_name, num_qubits, faulty_qubits_map, backend_prop)\u001b[0m\n\u001b[1;32m    466\u001b[0m \u001b[38;5;28;01mdef\u001b[39;00m \u001b[38;5;21m_serial_transpile_circuit\u001b[39m(\n\u001b[1;32m    467\u001b[0m     circuit,\n\u001b[1;32m    468\u001b[0m     pass_manager,\n\u001b[0;32m   (...)\u001b[0m\n\u001b[1;32m    473\u001b[0m     backend_prop\u001b[38;5;241m=\u001b[39m\u001b[38;5;28;01mNone\u001b[39;00m,\n\u001b[1;32m    474\u001b[0m ):\n\u001b[0;32m--> 475\u001b[0m     result \u001b[38;5;241m=\u001b[39m \u001b[43mpass_manager\u001b[49m\u001b[38;5;241;43m.\u001b[39;49m\u001b[43mrun\u001b[49m\u001b[43m(\u001b[49m\u001b[43mcircuit\u001b[49m\u001b[43m,\u001b[49m\u001b[43m \u001b[49m\u001b[43mcallback\u001b[49m\u001b[38;5;241;43m=\u001b[39;49m\u001b[43mcallback\u001b[49m\u001b[43m,\u001b[49m\u001b[43m \u001b[49m\u001b[43moutput_name\u001b[49m\u001b[38;5;241;43m=\u001b[39;49m\u001b[43moutput_name\u001b[49m\u001b[43m)\u001b[49m\n\u001b[1;32m    476\u001b[0m     \u001b[38;5;28;01mif\u001b[39;00m faulty_qubits_map:\n\u001b[1;32m    477\u001b[0m         \u001b[38;5;28;01mreturn\u001b[39;00m _remap_circuit_faulty_backend(\n\u001b[1;32m    478\u001b[0m             result,\n\u001b[1;32m    479\u001b[0m             num_qubits,\n\u001b[1;32m    480\u001b[0m             backend_prop,\n\u001b[1;32m    481\u001b[0m             faulty_qubits_map,\n\u001b[1;32m    482\u001b[0m         )\n",
      "File \u001b[0;32m~/Library/Python/3.9/lib/python/site-packages/qiskit/transpiler/passmanager.py:528\u001b[0m, in \u001b[0;36mStagedPassManager.run\u001b[0;34m(self, circuits, output_name, callback)\u001b[0m\n\u001b[1;32m    521\u001b[0m \u001b[38;5;28;01mdef\u001b[39;00m \u001b[38;5;21mrun\u001b[39m(\n\u001b[1;32m    522\u001b[0m     \u001b[38;5;28mself\u001b[39m,\n\u001b[1;32m    523\u001b[0m     circuits: Union[QuantumCircuit, List[QuantumCircuit]],\n\u001b[1;32m    524\u001b[0m     output_name: \u001b[38;5;28mstr\u001b[39m \u001b[38;5;241m=\u001b[39m \u001b[38;5;28;01mNone\u001b[39;00m,\n\u001b[1;32m    525\u001b[0m     callback: Callable \u001b[38;5;241m=\u001b[39m \u001b[38;5;28;01mNone\u001b[39;00m,\n\u001b[1;32m    526\u001b[0m ) \u001b[38;5;241m-\u001b[39m\u001b[38;5;241m>\u001b[39m Union[QuantumCircuit, List[QuantumCircuit]]:\n\u001b[1;32m    527\u001b[0m     \u001b[38;5;28mself\u001b[39m\u001b[38;5;241m.\u001b[39m_update_passmanager()\n\u001b[0;32m--> 528\u001b[0m     \u001b[38;5;28;01mreturn\u001b[39;00m \u001b[38;5;28;43msuper\u001b[39;49m\u001b[43m(\u001b[49m\u001b[43m)\u001b[49m\u001b[38;5;241;43m.\u001b[39;49m\u001b[43mrun\u001b[49m\u001b[43m(\u001b[49m\u001b[43mcircuits\u001b[49m\u001b[43m,\u001b[49m\u001b[43m \u001b[49m\u001b[43moutput_name\u001b[49m\u001b[43m,\u001b[49m\u001b[43m \u001b[49m\u001b[43mcallback\u001b[49m\u001b[43m)\u001b[49m\n",
      "File \u001b[0;32m~/Library/Python/3.9/lib/python/site-packages/qiskit/transpiler/passmanager.py:228\u001b[0m, in \u001b[0;36mPassManager.run\u001b[0;34m(self, circuits, output_name, callback)\u001b[0m\n\u001b[1;32m    226\u001b[0m     \u001b[38;5;28;01mreturn\u001b[39;00m circuits\n\u001b[1;32m    227\u001b[0m \u001b[38;5;28;01mif\u001b[39;00m \u001b[38;5;28misinstance\u001b[39m(circuits, QuantumCircuit):\n\u001b[0;32m--> 228\u001b[0m     \u001b[38;5;28;01mreturn\u001b[39;00m \u001b[38;5;28;43mself\u001b[39;49m\u001b[38;5;241;43m.\u001b[39;49m\u001b[43m_run_single_circuit\u001b[49m\u001b[43m(\u001b[49m\u001b[43mcircuits\u001b[49m\u001b[43m,\u001b[49m\u001b[43m \u001b[49m\u001b[43moutput_name\u001b[49m\u001b[43m,\u001b[49m\u001b[43m \u001b[49m\u001b[43mcallback\u001b[49m\u001b[43m)\u001b[49m\n\u001b[1;32m    229\u001b[0m \u001b[38;5;28;01mif\u001b[39;00m \u001b[38;5;28mlen\u001b[39m(circuits) \u001b[38;5;241m==\u001b[39m \u001b[38;5;241m1\u001b[39m:\n\u001b[1;32m    230\u001b[0m     \u001b[38;5;28;01mreturn\u001b[39;00m \u001b[38;5;28mself\u001b[39m\u001b[38;5;241m.\u001b[39m_run_single_circuit(circuits[\u001b[38;5;241m0\u001b[39m], output_name, callback)\n",
      "File \u001b[0;32m~/Library/Python/3.9/lib/python/site-packages/qiskit/transpiler/passmanager.py:283\u001b[0m, in \u001b[0;36mPassManager._run_single_circuit\u001b[0;34m(self, circuit, output_name, callback)\u001b[0m\n\u001b[1;32m    271\u001b[0m \u001b[38;5;250m\u001b[39m\u001b[38;5;124;03m\"\"\"Run all the passes on a ``circuit``.\u001b[39;00m\n\u001b[1;32m    272\u001b[0m \n\u001b[1;32m    273\u001b[0m \u001b[38;5;124;03mArgs:\u001b[39;00m\n\u001b[0;32m   (...)\u001b[0m\n\u001b[1;32m    280\u001b[0m \u001b[38;5;124;03m    The transformed circuit.\u001b[39;00m\n\u001b[1;32m    281\u001b[0m \u001b[38;5;124;03m\"\"\"\u001b[39;00m\n\u001b[1;32m    282\u001b[0m running_passmanager \u001b[38;5;241m=\u001b[39m \u001b[38;5;28mself\u001b[39m\u001b[38;5;241m.\u001b[39m_create_running_passmanager()\n\u001b[0;32m--> 283\u001b[0m result \u001b[38;5;241m=\u001b[39m \u001b[43mrunning_passmanager\u001b[49m\u001b[38;5;241;43m.\u001b[39;49m\u001b[43mrun\u001b[49m\u001b[43m(\u001b[49m\u001b[43mcircuit\u001b[49m\u001b[43m,\u001b[49m\u001b[43m \u001b[49m\u001b[43moutput_name\u001b[49m\u001b[38;5;241;43m=\u001b[39;49m\u001b[43moutput_name\u001b[49m\u001b[43m,\u001b[49m\u001b[43m \u001b[49m\u001b[43mcallback\u001b[49m\u001b[38;5;241;43m=\u001b[39;49m\u001b[43mcallback\u001b[49m\u001b[43m)\u001b[49m\n\u001b[1;32m    284\u001b[0m \u001b[38;5;28mself\u001b[39m\u001b[38;5;241m.\u001b[39mproperty_set \u001b[38;5;241m=\u001b[39m running_passmanager\u001b[38;5;241m.\u001b[39mproperty_set\n\u001b[1;32m    285\u001b[0m \u001b[38;5;28;01mreturn\u001b[39;00m result\n",
      "File \u001b[0;32m~/Library/Python/3.9/lib/python/site-packages/qiskit/transpiler/runningpassmanager.py:125\u001b[0m, in \u001b[0;36mRunningPassManager.run\u001b[0;34m(***failed resolving arguments***)\u001b[0m\n\u001b[1;32m    123\u001b[0m \u001b[38;5;28;01mfor\u001b[39;00m passset \u001b[38;5;129;01min\u001b[39;00m \u001b[38;5;28mself\u001b[39m\u001b[38;5;241m.\u001b[39mworking_list:\n\u001b[1;32m    124\u001b[0m     \u001b[38;5;28;01mfor\u001b[39;00m pass_ \u001b[38;5;129;01min\u001b[39;00m passset:\n\u001b[0;32m--> 125\u001b[0m         dag \u001b[38;5;241m=\u001b[39m \u001b[38;5;28;43mself\u001b[39;49m\u001b[38;5;241;43m.\u001b[39;49m\u001b[43m_do_pass\u001b[49m\u001b[43m(\u001b[49m\u001b[43mpass_\u001b[49m\u001b[43m,\u001b[49m\u001b[43m \u001b[49m\u001b[43mdag\u001b[49m\u001b[43m,\u001b[49m\u001b[43m \u001b[49m\u001b[43mpassset\u001b[49m\u001b[38;5;241;43m.\u001b[39;49m\u001b[43moptions\u001b[49m\u001b[43m)\u001b[49m\n\u001b[1;32m    127\u001b[0m circuit \u001b[38;5;241m=\u001b[39m dag_to_circuit(dag)\n\u001b[1;32m    128\u001b[0m \u001b[38;5;28;01mif\u001b[39;00m output_name:\n",
      "File \u001b[0;32m~/Library/Python/3.9/lib/python/site-packages/qiskit/transpiler/runningpassmanager.py:172\u001b[0m, in \u001b[0;36mRunningPassManager._do_pass\u001b[0;34m(self, pass_, dag, options)\u001b[0m\n\u001b[1;32m    170\u001b[0m \u001b[38;5;66;03m# Run the pass itself, if not already run\u001b[39;00m\n\u001b[1;32m    171\u001b[0m \u001b[38;5;28;01mif\u001b[39;00m pass_ \u001b[38;5;129;01mnot\u001b[39;00m \u001b[38;5;129;01min\u001b[39;00m \u001b[38;5;28mself\u001b[39m\u001b[38;5;241m.\u001b[39mvalid_passes:\n\u001b[0;32m--> 172\u001b[0m     dag \u001b[38;5;241m=\u001b[39m \u001b[38;5;28;43mself\u001b[39;49m\u001b[38;5;241;43m.\u001b[39;49m\u001b[43m_run_this_pass\u001b[49m\u001b[43m(\u001b[49m\u001b[43mpass_\u001b[49m\u001b[43m,\u001b[49m\u001b[43m \u001b[49m\u001b[43mdag\u001b[49m\u001b[43m)\u001b[49m\n\u001b[1;32m    174\u001b[0m     \u001b[38;5;66;03m# update the valid_passes property\u001b[39;00m\n\u001b[1;32m    175\u001b[0m     \u001b[38;5;28mself\u001b[39m\u001b[38;5;241m.\u001b[39m_update_valid_passes(pass_)\n",
      "File \u001b[0;32m~/Library/Python/3.9/lib/python/site-packages/qiskit/transpiler/runningpassmanager.py:201\u001b[0m, in \u001b[0;36mRunningPassManager._run_this_pass\u001b[0;34m(self, pass_, dag)\u001b[0m\n\u001b[1;32m    198\u001b[0m \u001b[38;5;28;01mif\u001b[39;00m pass_\u001b[38;5;241m.\u001b[39mis_transformation_pass:\n\u001b[1;32m    199\u001b[0m     \u001b[38;5;66;03m# Measure time if we have a callback or logging set\u001b[39;00m\n\u001b[1;32m    200\u001b[0m     start_time \u001b[38;5;241m=\u001b[39m time()\n\u001b[0;32m--> 201\u001b[0m     new_dag \u001b[38;5;241m=\u001b[39m \u001b[43mpass_\u001b[49m\u001b[38;5;241;43m.\u001b[39;49m\u001b[43mrun\u001b[49m\u001b[43m(\u001b[49m\u001b[43mdag\u001b[49m\u001b[43m)\u001b[49m\n\u001b[1;32m    202\u001b[0m     end_time \u001b[38;5;241m=\u001b[39m time()\n\u001b[1;32m    203\u001b[0m     run_time \u001b[38;5;241m=\u001b[39m end_time \u001b[38;5;241m-\u001b[39m start_time\n",
      "File \u001b[0;32m~/Library/Python/3.9/lib/python/site-packages/qiskit/transpiler/passes/basis/basis_translator.py:186\u001b[0m, in \u001b[0;36mBasisTranslator.run\u001b[0;34m(self, dag)\u001b[0m\n\u001b[1;32m    181\u001b[0m logger\u001b[38;5;241m.\u001b[39minfo(\n\u001b[1;32m    182\u001b[0m     \u001b[38;5;124m\"\u001b[39m\u001b[38;5;124mBasis translation path search completed in \u001b[39m\u001b[38;5;132;01m%.3f\u001b[39;00m\u001b[38;5;124ms.\u001b[39m\u001b[38;5;124m\"\u001b[39m, search_end_time \u001b[38;5;241m-\u001b[39m search_start_time\n\u001b[1;32m    183\u001b[0m )\n\u001b[1;32m    185\u001b[0m \u001b[38;5;28;01mif\u001b[39;00m basis_transforms \u001b[38;5;129;01mis\u001b[39;00m \u001b[38;5;28;01mNone\u001b[39;00m:\n\u001b[0;32m--> 186\u001b[0m     \u001b[38;5;28;01mraise\u001b[39;00m TranspilerError(\n\u001b[1;32m    187\u001b[0m         \u001b[38;5;124m\"\u001b[39m\u001b[38;5;124mUnable to map source basis \u001b[39m\u001b[38;5;132;01m{}\u001b[39;00m\u001b[38;5;124m to target basis \u001b[39m\u001b[38;5;132;01m{}\u001b[39;00m\u001b[38;5;124m \u001b[39m\u001b[38;5;124m\"\u001b[39m\n\u001b[1;32m    188\u001b[0m         \u001b[38;5;124m\"\u001b[39m\u001b[38;5;124mover library \u001b[39m\u001b[38;5;132;01m{}\u001b[39;00m\u001b[38;5;124m.\u001b[39m\u001b[38;5;124m\"\u001b[39m\u001b[38;5;241m.\u001b[39mformat(source_basis, target_basis, \u001b[38;5;28mself\u001b[39m\u001b[38;5;241m.\u001b[39m_equiv_lib)\n\u001b[1;32m    189\u001b[0m     )\n\u001b[1;32m    191\u001b[0m \u001b[38;5;66;03m# Compose found path into a set of instruction substitution rules.\u001b[39;00m\n\u001b[1;32m    193\u001b[0m compose_start_time \u001b[38;5;241m=\u001b[39m time\u001b[38;5;241m.\u001b[39mtime()\n",
      "\u001b[0;31mTranspilerError\u001b[0m: \"Unable to map source basis {('cx', 2), ('h', 1), ('measure', 1), ('barrier', 2)} to target basis {'reset', 'rz', 'barrier', 'measure', 'snapshot', 'delay', 'rx'} over library <qiskit.circuit.equivalence.EquivalenceLibrary object at 0x11808ba00>.\""
     ]
    }
   ],
   "source": [
    "tc = compiler.transpile(qc, backend=backend)\n",
    "tc.draw()"
   ]
  },
  {
   "cell_type": "markdown",
   "id": "49681434",
   "metadata": {},
   "source": [
    "## Run the Circuit\n",
    "Once the cicruit has been compiled to the native gate set and connectivity, we use it to submit a job to the backend. "
   ]
  },
  {
   "cell_type": "code",
   "execution_count": null,
   "id": "03c6871b",
   "metadata": {},
   "outputs": [],
   "source": [
    "job = backend.run(tc, meas_level=2, meas_return=\"single\")"
   ]
  },
  {
   "cell_type": "markdown",
   "id": "411c4af4",
   "metadata": {},
   "source": [
    "## See the Results\n",
    "When the job has been submitted, we will need to wait potential queue time and time required to execute the job."
   ]
  },
  {
   "cell_type": "code",
   "execution_count": null,
   "id": "5fa591f2",
   "metadata": {},
   "outputs": [],
   "source": [
    "elapsed_time = 0\n",
    "result = None\n",
    "while result is None:\n",
    "    if elapsed_time > POLL_TIMEOUT:\n",
    "        raise TimeoutError(f\"result polling timeout {POLL_TIMEOUT} seconds exceeded\")\n",
    "\n",
    "    time.sleep(1)\n",
    "    elapsed_time += 1\n",
    "    result = job.result()\n",
    "\n",
    "result.get_counts()"
   ]
  }
 ],
 "metadata": {
  "kernelspec": {
   "display_name": "Python 3 (ipykernel)",
   "language": "python",
   "name": "python3"
  },
  "language_info": {
   "codemirror_mode": {
    "name": "ipython",
    "version": 3
   },
   "file_extension": ".py",
   "mimetype": "text/x-python",
   "name": "python",
   "nbconvert_exporter": "python",
   "pygments_lexer": "ipython3",
   "version": "3.9.6"
  }
 },
 "nbformat": 4,
 "nbformat_minor": 5
}
