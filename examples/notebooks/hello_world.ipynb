{
 "cells": [
  {
   "cell_type": "markdown",
   "id": "f3fa3032",
   "metadata": {},
   "source": [
    "# Hello Tergite\n",
    "\n",
    "This is a showcase of connecting to tergite via the `tergite` and running a basic circuit."
   ]
  },
  {
   "cell_type": "markdown",
   "id": "d0b5489d",
   "metadata": {},
   "source": [
    "## Install dependencies\n",
    "\n",
    "This example depends on:\n",
    "\n",
    "- [qiskit](https://github.com/Qiskit/qiskit)\n",
    "- [tergite](https://test.pypi.org/project/tergite/)"
   ]
  },
  {
   "cell_type": "code",
   "execution_count": null,
   "id": "44c5ae30",
   "metadata": {},
   "outputs": [],
   "source": [
    "%pip install qiskit\n",
    "%pip install tergite"
   ]
  },
  {
   "cell_type": "markdown",
   "id": "f2d0a2e6",
   "metadata": {},
   "source": [
    "## Import the basic dependencies"
   ]
  },
  {
   "cell_type": "code",
   "execution_count": 1,
   "id": "ea5ee959",
   "metadata": {},
   "outputs": [],
   "source": [
    "import time\n",
    "import qiskit.circuit as circuit\n",
    "import qiskit.compiler as compiler\n",
    "from tergite.qiskit.providers import Tergite\n",
    "from tergite.qiskit.providers.provider_account import ProviderAccount"
   ]
  },
  {
   "cell_type": "markdown",
   "id": "ed5a36b6",
   "metadata": {},
   "source": [
    "## Update Some Variables"
   ]
  },
  {
   "cell_type": "code",
   "execution_count": 2,
   "id": "83870a1c",
   "metadata": {},
   "outputs": [],
   "source": [
    "# the Tergite API URL e.g. \"https://api.tergite.example\"\n",
    "API_URL = \"https://api.qal9000.se\"\n",
    "# API token for connecting to tergite\n",
    "API_TOKEN = \"API-TOKEN\"\n",
    "# The name of the Quantum Computer to use from the available quantum computers\n",
    "BACKEND_NAME = \"qiskit_pulse_2q\"\n",
    "# the name of this service. For your own bookkeeping.\n",
    "SERVICE_NAME = \"local\"\n",
    "# the timeout in seconds for how long to keep checking for results\n",
    "POLL_TIMEOUT = 100"
   ]
  },
  {
   "cell_type": "markdown",
   "id": "dc816ef5",
   "metadata": {},
   "source": [
    "## Create the Qiskit Circuit"
   ]
  },
  {
   "cell_type": "code",
   "execution_count": 3,
   "id": "59229850",
   "metadata": {},
   "outputs": [
    {
     "data": {
      "text/html": [
       "<pre style=\"word-wrap: normal;white-space: pre;background: #fff0;line-height: 1.1;font-family: &quot;Courier New&quot;,Courier,monospace\">        ┌───┐┌───┐ ░ ┌─┐\n",
       "     q: ┤ X ├┤ H ├─░─┤M├\n",
       "        └───┘└───┘ ░ └╥┘\n",
       "meas: 1/══════════════╩═\n",
       "                      0 </pre>"
      ],
      "text/plain": [
       "        ┌───┐┌───┐ ░ ┌─┐\n",
       "     q: ┤ X ├┤ H ├─░─┤M├\n",
       "        └───┘└───┘ ░ └╥┘\n",
       "meas: 1/══════════════╩═\n",
       "                      0 "
      ]
     },
     "execution_count": 3,
     "metadata": {},
     "output_type": "execute_result"
    }
   ],
   "source": [
    "qc = circuit.QuantumCircuit(1)\n",
    "qc.x(0)\n",
    "qc.h(0)\n",
    "qc.measure_all()\n",
    "qc.draw()"
   ]
  },
  {
   "cell_type": "markdown",
   "id": "da47dc94",
   "metadata": {},
   "source": [
    "## Get the Tergite Backend"
   ]
  },
  {
   "cell_type": "code",
   "execution_count": 4,
   "id": "e777662e",
   "metadata": {},
   "outputs": [
    {
     "data": {
      "text/plain": [
       "TergiteBackend object @ 0x134cecf70:\n",
       "  backend_name:               qiskit_pulse_2q\n",
       "  backend_version:            1.0.0\n",
       "  n_qubits:                   2\n",
       "  basis_gates:                []\n",
       "  gates:                      []\n",
       "  local:                      False\n",
       "  simulator:                  False\n",
       "  conditional:                False\n",
       "  open_pulse:                 True\n",
       "  memory:                     False\n",
       "  max_shots:                  inf\n",
       "  coupling_map:               [[0, 1], [1, 0]]\n",
       "  dynamic_reprate_enabled:    False\n",
       "  supported_instructions:     [(Instruction(name='reset', num_qubits=1, num_clbits=0, params=[]), (0,)), (Instruction(name='reset', num_qubits=1, num_clbits=0, params=[]), (1,)), (Instruction(name='rx', num_qubits=1, num_clbits=0, params=[Parameter(theta)]), (0,)), (Instruction(name='rx', num_qubits=1, num_clbits=0, params=[Parameter(theta)]), (1,)), (Instruction(name='rz', num_qubits=1, num_clbits=0, params=[Parameter(lambda_param)]), (0,)), (Instruction(name='rz', num_qubits=1, num_clbits=0, params=[Parameter(lambda_param)]), (1,)), (Delay(duration=tau[unit=dt]), (0,)), (Delay(duration=tau[unit=dt]), (1,)), (Instruction(name='measure', num_qubits=1, num_clbits=1, params=[]), (0,)), (Instruction(name='measure', num_qubits=1, num_clbits=1, params=[]), (1,)), (Instruction(name='cz', num_qubits=2, num_clbits=0, params=[]), (0, 1)), (Instruction(name='cz', num_qubits=2, num_clbits=0, params=[]), (1, 0))]\n",
       "  dt:                         1e-11\n",
       "  dtm:                        1e-11\n",
       "  parametric_pulses:          ['constant', 'zero', 'square', 'sawtooth', 'triangle', 'cos', 'sin', 'gaussian', 'gaussian_deriv', 'sech', 'sech_deriv', 'gaussian_square', 'drag', 'wacqt_cz_gate_pulse']\n",
       "  meas_levels:                (0, 1, 2)\n",
       "  characterized:              True"
      ]
     },
     "execution_count": 4,
     "metadata": {},
     "output_type": "execute_result"
    }
   ],
   "source": [
    "# provider account creation can be skipped in case you already saved\n",
    "# your provider account to the `~/.qiskit/tergiterc` file.\n",
    "# See below how that is done.\n",
    "account = ProviderAccount(service_name=SERVICE_NAME, url=API_URL, token=API_TOKEN)\n",
    "\n",
    "provider = Tergite.use_provider_account(account)\n",
    "# to save this account to the `~/.qiskit/tergiterc` file, add the `save=True`\n",
    "# provider = Tergite.use_provider_account(account, save=True)\n",
    "\n",
    "# Get the tergite backend in case you skipped provider account creation\n",
    "# provider = Tergite.get_provider(service_name=SERVICE_NAME)\n",
    "backend = provider.get_backend(BACKEND_NAME)\n",
    "backend.set_options(shots=1024)\n",
    "backend"
   ]
  },
  {
   "cell_type": "markdown",
   "id": "f95f1663",
   "metadata": {},
   "source": [
    "## Compile Circuit"
   ]
  },
  {
   "cell_type": "code",
   "execution_count": 5,
   "id": "0c70eb23",
   "metadata": {},
   "outputs": [
    {
     "data": {
      "text/html": [
       "<pre style=\"word-wrap: normal;white-space: pre;background: #fff0;line-height: 1.1;font-family: &quot;Courier New&quot;,Courier,monospace\">               ┌─────────┐┌─────────┐┌──────────┐ ░ ┌─┐\n",
       "      q_0 -> 0 ┤ Rz(π/2) ├┤ Rx(π/2) ├┤ Rz(-π/2) ├─░─┤M├\n",
       "               └─────────┘└─────────┘└──────────┘ ░ └╥┘\n",
       "ancilla_0 -> 1 ──────────────────────────────────────╫─\n",
       "                                                     ║ \n",
       "       meas: 1/══════════════════════════════════════╩═\n",
       "                                                     0 </pre>"
      ],
      "text/plain": [
       "               ┌─────────┐┌─────────┐┌──────────┐ ░ ┌─┐\n",
       "      q_0 -> 0 ┤ Rz(π/2) ├┤ Rx(π/2) ├┤ Rz(-π/2) ├─░─┤M├\n",
       "               └─────────┘└─────────┘└──────────┘ ░ └╥┘\n",
       "ancilla_0 -> 1 ──────────────────────────────────────╫─\n",
       "                                                     ║ \n",
       "       meas: 1/══════════════════════════════════════╩═\n",
       "                                                     0 "
      ]
     },
     "execution_count": 5,
     "metadata": {},
     "output_type": "execute_result"
    }
   ],
   "source": [
    "tc = compiler.transpile(qc, backend=backend)\n",
    "tc.draw()"
   ]
  },
  {
   "cell_type": "markdown",
   "id": "49681434",
   "metadata": {},
   "source": [
    "## Run the Circuit"
   ]
  },
  {
   "cell_type": "code",
   "execution_count": 6,
   "id": "03c6871b",
   "metadata": {},
   "outputs": [
    {
     "name": "stdout",
     "output_type": "stream",
     "text": [
      "Tergite: Job has been successfully submitted\n"
     ]
    }
   ],
   "source": [
    "job = backend.run(tc, meas_level=2, meas_return=\"single\")"
   ]
  },
  {
   "cell_type": "markdown",
   "id": "411c4af4",
   "metadata": {},
   "source": [
    "## See the Results"
   ]
  },
  {
   "cell_type": "code",
   "execution_count": 7,
   "id": "5fa591f2",
   "metadata": {},
   "outputs": [
    {
     "data": {
      "text/plain": [
       "{'0': 541, '1': 483}"
      ]
     },
     "execution_count": 7,
     "metadata": {},
     "output_type": "execute_result"
    }
   ],
   "source": [
    "elapsed_time = 0\n",
    "result = None\n",
    "while result is None:\n",
    "    if elapsed_time > POLL_TIMEOUT:\n",
    "        raise TimeoutError(f\"result polling timeout {POLL_TIMEOUT} seconds exceeded\")\n",
    "\n",
    "    time.sleep(1)\n",
    "    elapsed_time += 1\n",
    "    result = job.result()\n",
    "\n",
    "result.get_counts()"
   ]
  }
 ],
 "metadata": {
  "kernelspec": {
   "display_name": ".venv",
   "language": "python",
   "name": "python3"
  },
  "language_info": {
   "codemirror_mode": {
    "name": "ipython",
    "version": 3
   },
   "file_extension": ".py",
   "mimetype": "text/x-python",
   "name": "python",
   "nbconvert_exporter": "python",
   "pygments_lexer": "ipython3",
   "version": "3.9.19"
  }
 },
 "nbformat": 4,
 "nbformat_minor": 5
}
