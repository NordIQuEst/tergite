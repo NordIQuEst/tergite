{
 "cells": [
  {
   "cell_type": "markdown",
   "id": "f3fa3032",
   "metadata": {},
   "source": [
    "# Hello Tergite\n",
    "\n",
    "This is a showcase of connecting to tergite via the `tergite-qiskit-connector` and running a basic circuit.\n",
    "\n",
    "## Import the basic dependencies"
   ]
  },
  {
   "cell_type": "code",
   "execution_count": 1,
   "id": "ea5ee959",
   "metadata": {},
   "outputs": [],
   "source": [
    "import qiskit.circuit as circuit\n",
    "import qiskit.compiler as compiler\n",
    "from tergite_qiskit_connector.providers.tergite import Tergite\n",
    "from tergite_qiskit_connector.providers.tergite.provider_account import ProviderAccount"
   ]
  },
  {
   "cell_type": "markdown",
   "id": "ed5a36b6",
   "metadata": {},
   "source": [
    "## Update Some Variables"
   ]
  },
  {
   "cell_type": "code",
   "execution_count": 6,
   "id": "83870a1c",
   "metadata": {},
   "outputs": [],
   "source": [
    "# the Tergite API URL e.g. \"https://api.tergite.example\"\n",
    "API_URL = \"https://api.qal9000.se\"\n",
    "# API token for connecting to tergite. Required if no username/password\n",
    "API_TOKEN = \"<your Tergite API key >\"\n",
    "# API username, required if API_TOKEN is not set\n",
    "API_USERNAME = \"<your API username>\"\n",
    "# API password, required if API_USERNAME is set\n",
    "API_PASSWORD = \"<your API password>\"\n",
    "# The name of the Quantum Computer to use from the available quantum computers\n",
    "BACKEND_NAME = \"Loke\"\n",
    "# the name of this service. For your own bookkeeping.\n",
    "SERVICE_NAME = \"local\""
   ]
  },
  {
   "cell_type": "markdown",
   "id": "dc816ef5",
   "metadata": {},
   "source": [
    "## Create the Qiskit Circuit"
   ]
  },
  {
   "cell_type": "code",
   "execution_count": null,
   "id": "59229850",
   "metadata": {},
   "outputs": [],
   "source": [
    "qc = circuit.QuantumCircuit(2, 2)\n",
    "qc.h(1)\n",
    "qc.measure(1, 1)\n",
    "qc.draw()"
   ]
  },
  {
   "cell_type": "markdown",
   "id": "da47dc94",
   "metadata": {},
   "source": [
    "## Get the Tergite Backend"
   ]
  },
  {
   "cell_type": "code",
   "execution_count": null,
   "id": "e777662e",
   "metadata": {},
   "outputs": [],
   "source": [
    " # create a provider\n",
    "if API_USERNAME:\n",
    "    account_extras = {\"username\": API_USERNAME, \"password\": API_PASSWORD}\n",
    "else:\n",
    "    account_extras = {}\n",
    "\n",
    "# provider account creation can be skipped in case you already saved\n",
    "# your provider account to the `~/.qiskit/tergiterc` file.\n",
    "# See below how that is done.\n",
    "account = ProviderAccount(\n",
    "        service_name=SERVICE_NAME, url=API_URL, token=API_TOKEN, extras=account_extras\n",
    ")\n",
    "\n",
    "provider = Tergite.use_provider_account(account)\n",
    "# to save this account to the `~/.qiskit/tergiterc` file, add the `save=True`\n",
    "# provider = Tergite.use_provider_account(account, save=True)\n",
    "\n",
    "# Get the tergite backend in case you skipped provider account creation\n",
    "# provider = Tergite.get_provider(service_name=SERVICE_NAME)\n",
    "backend = provider.get_backend(BACKEND_NAME)\n",
    "backend.set_options(shots=1024)\n",
    "backend"
   ]
  },
  {
   "cell_type": "markdown",
   "id": "f95f1663",
   "metadata": {},
   "source": [
    "## Compile Circuit"
   ]
  },
  {
   "cell_type": "code",
   "execution_count": null,
   "id": "0c70eb23",
   "metadata": {},
   "outputs": [],
   "source": [
    "tc = compiler.transpile(qc, backend = backend)\n",
    "tc.draw()"
   ]
  },
  {
   "cell_type": "markdown",
   "id": "49681434",
   "metadata": {},
   "source": [
    "## Run the Circuit"
   ]
  },
  {
   "cell_type": "code",
   "execution_count": 6,
   "id": "03c6871b",
   "metadata": {},
   "outputs": [
    {
     "name": "stdout",
     "output_type": "stream",
     "text": [
      "Tergite: Job has been successfully submitted\n"
     ]
    }
   ],
   "source": [
    "job = backend.run(tc, meas_level = 2)"
   ]
  },
  {
   "cell_type": "markdown",
   "id": "411c4af4",
   "metadata": {},
   "source": [
    "## See the Results"
   ]
  },
  {
   "cell_type": "code",
   "execution_count": null,
   "id": "5fa591f2",
   "metadata": {},
   "outputs": [],
   "source": [
    "job.result()"
   ]
  }
 ],
 "metadata": {
  "kernelspec": {
   "display_name": "qcon",
   "language": "python",
   "name": "python3"
  },
  "language_info": {
   "codemirror_mode": {
    "name": "ipython",
    "version": 3
   },
   "file_extension": ".py",
   "mimetype": "text/x-python",
   "name": "python",
   "nbconvert_exporter": "python",
   "pygments_lexer": "ipython3",
   "version": "3.8.17"
  }
 },
 "nbformat": 4,
 "nbformat_minor": 5
}
