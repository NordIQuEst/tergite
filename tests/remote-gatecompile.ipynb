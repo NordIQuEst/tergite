{
 "cells": [
  {
   "cell_type": "code",
   "execution_count": 1,
   "id": "c23b3865",
   "metadata": {},
   "outputs": [],
   "source": [
    "from qiskit.providers.tergite import Tergite"
   ]
  },
  {
   "cell_type": "code",
   "execution_count": 2,
   "id": "5e6d3eee",
   "metadata": {},
   "outputs": [
    {
     "data": {
      "text/plain": [
       "(True, True)"
      ]
     },
     "execution_count": 2,
     "metadata": {},
     "output_type": "execute_result"
    }
   ],
   "source": [
    "chalmers = Tergite.get_provider()\n",
    "backend = chalmers.get_backend(\"PinguOpenPulse\")\n",
    "backend.set_options(shots = 1024)\n",
    "backend.open_pulse, backend.configuration().open_pulse"
   ]
  },
  {
   "cell_type": "code",
   "execution_count": null,
   "id": "2d8bbd84",
   "metadata": {},
   "outputs": [],
   "source": [
    "sched.get_parameters(\"h\")"
   ]
  },
  {
   "cell_type": "code",
   "execution_count": null,
   "id": "f2cf0156",
   "metadata": {},
   "outputs": [],
   "source": [
    "a = b = c = range(20)\n",
    "z = zip(a,b,c)\n",
    "list(z)"
   ]
  }
 ],
 "metadata": {
  "kernelspec": {
   "display_name": "Python 3.9: qiskit",
   "language": "python",
   "name": "qiskit"
  },
  "language_info": {
   "codemirror_mode": {
    "name": "ipython",
    "version": 3
   },
   "file_extension": ".py",
   "mimetype": "text/x-python",
   "name": "python",
   "nbconvert_exporter": "python",
   "pygments_lexer": "ipython3",
   "version": "3.9.13"
  }
 },
 "nbformat": 4,
 "nbformat_minor": 5
}
