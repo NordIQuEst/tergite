{
 "cells": [
  {
   "cell_type": "code",
   "execution_count": null,
   "id": "08e324d7",
   "metadata": {},
   "outputs": [],
   "source": [
    "import requests\n",
    "import pathlib\n",
    "\n",
    "job_id = \"ec83c006-5e1c-4fa6-81a0-f3a63de0561b\"\n",
    "job_id = \"e4c1c501-304d-4a08-a677-6994f3d55e07\"\n",
    "job_id = \"476764bf-2ed4-48ec-bf88-225c36f2763c\"\n",
    "job_id = \"73a5b6ff-8506-4747-8396-084b59b15241\"\n",
    "job_id = \"5a8b6c49-a52c-4107-8f17-0f78262e8ec3\"\n",
    "job_id = \"73a5b6ff-8506-4747-8396-084b59b15241\"\n",
    "job_id = \"965047e7-da22-40ae-b1a8-05f1b1840591\"\n",
    "job_id = \"abbc4a62-f3dd-46a1-8d2f-ec90bc475523\"\n",
    "\n",
    "resp = requests.get(f\"http://qtl-axean.mc2.chalmers.se:8000/logfiles/{job_id}\")\n",
    "\n",
    "with open(pathlib.Path(f\"{job_id}.hdf5\"), mode = \"wb\") as _file:\n",
    "    _file.write(resp.content)"
   ]
  }
 ],
 "metadata": {
  "kernelspec": {
   "display_name": "Python 3.9: Qiskit-Connector [dev]",
   "language": "python",
   "name": "qiskit-connector"
  },
  "language_info": {
   "codemirror_mode": {
    "name": "ipython",
    "version": 3
   },
   "file_extension": ".py",
   "mimetype": "text/x-python",
   "name": "python",
   "nbconvert_exporter": "python",
   "pygments_lexer": "ipython3",
   "version": "3.9.12"
  }
 },
 "nbformat": 4,
 "nbformat_minor": 5
}
