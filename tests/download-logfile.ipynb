{
 "cells": [
  {
   "cell_type": "markdown",
   "id": "14c5b440",
   "metadata": {},
   "source": [
    "# Download logfile from BCC and save to working directory"
   ]
  },
  {
   "cell_type": "code",
   "execution_count": 2,
   "id": "08e324d7",
   "metadata": {},
   "outputs": [],
   "source": [
    "import requests\n",
    "import pathlib\n",
    "\n",
    "bcc_url = \"http://qtl-axean.mc2.chalmers.se:8000\"\n",
    "job_id = \"7c247e9a-658a-418b-b15a-463ad1fa3120\"\n",
    "\n",
    "resp = requests.get(f\"{bcc_url}/logfiles/{job_id}\")\n",
    "\n",
    "with open(pathlib.Path(f\"{job_id}.hdf5\"), mode = \"wb\") as _file:\n",
    "    _file.write(resp.content)"
   ]
  }
 ],
 "metadata": {
  "kernelspec": {
   "display_name": "Python 3.9: qiskit",
   "language": "python",
   "name": "qiskit"
  },
  "language_info": {
   "codemirror_mode": {
    "name": "ipython",
    "version": 3
   },
   "file_extension": ".py",
   "mimetype": "text/x-python",
   "name": "python",
   "nbconvert_exporter": "python",
   "pygments_lexer": "ipython3",
   "version": "3.9.13"
  }
 },
 "nbformat": 4,
 "nbformat_minor": 5
}
