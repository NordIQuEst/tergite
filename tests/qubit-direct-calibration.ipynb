{
 "cells": [
  {
   "cell_type": "markdown",
   "id": "2da68bc3",
   "metadata": {},
   "source": [
    "# Qubit characterization tests"
   ]
  },
  {
   "cell_type": "code",
   "execution_count": null,
   "id": "773e859a",
   "metadata": {},
   "outputs": [],
   "source": [
    "import qiskit.pulse as pulse\n",
    "import qiskit.circuit as circuit\n",
    "from qiskit.providers.tergite import Tergite\n",
    "import template_schedules as templates\n",
    "from quantify_core.analysis import fitting_models as fm\n",
    "from qiskit.visualization.pulse_v2.stylesheet import IQXDebugging\n",
    "import numpy as np\n",
    "import re\n",
    "import matplotlib.pyplot as plt\n",
    "from quantify_core.visualization import mpl_plotting as qpl\n",
    "import matplotlib.ticker as plticker\n",
    "from tempfile import gettempdir\n",
    "import tqcsf.file\n",
    "from analysis.spectroscopy_analysis import LorentzianModel\n",
    "from scipy.spatial import distance_matrix\n",
    "import time\n",
    "import requests\n",
    "import pathlib\n",
    "import functools\n",
    "from inspect import getsource\n",
    "import rich\n",
    "def format_fit_data(model, x, s21, ds, fit_result, /, **kwargs):\n",
    "    abs_s21 = np.abs(s21)\n",
    "    return {\n",
    "        \"job_id\" : ds.attrs[\"job_id\"],\n",
    "        \"tuid\" : ds.attrs[\"tuid\"],\n",
    "        \"model\": model.name,\n",
    "        \"Average |s21|\" : {\"value\": float(abs_s21.mean()) },\n",
    "        \"Minimum |s21|\" : {\"value\": float(abs_s21.min()) },\n",
    "        \"Maximum |s21|\" : {\"value\": float(abs_s21.max()) },\n",
    "        \"Arg Minimum |s21|\" : {\"value\": float(x[np.argmin(abs_s21)]) },\n",
    "        \"Arg Maximum |s21|\" : {\"value\": float(x[np.argmax(abs_s21)]) },\n",
    "    } | {\n",
    "        p : {\n",
    "            \"value\" : v.value,\n",
    "            \"stderr\" : v.stderr\n",
    "        } for p, v in fit_result.params.items()\n",
    "    } | kwargs\n",
    "\n",
    "def plot_fit_resonator(ds):\n",
    "    \n",
    "    fig, axs = plt.subplots(len(ds), 1)\n",
    "    if len(ds) == 1:\n",
    "        axs = [axs]\n",
    "\n",
    "    f = list()\n",
    "        \n",
    "    for i,var in enumerate(ds):\n",
    "        # plot data\n",
    "        np.abs(ds[var]).plot(ax = axs[i])\n",
    "        axs[i].set_title(var)\n",
    "\n",
    "        # retrieve raw data for model fitting\n",
    "        x = ds.coords[ds.variables[var].attrs[\"coords\"][0]].data\n",
    "        s21 = ds[var].data\n",
    "\n",
    "        # fit resonator model against the data\n",
    "        model = fm.ResonatorModel()\n",
    "        guess = model.guess(s21, f = x)\n",
    "        fit_result = model.fit(s21, params = guess, f = x)\n",
    "        \n",
    "        axs[i].axvline(fit_result.params[\"fr\"].value, ls=\"--\", color = \"black\", alpha = 0.2)\n",
    "        axs[i].axvline(x[np.argmin(np.abs(s21))], ls=\"-\", color = \"red\")\n",
    "\n",
    "        # plot model fit\n",
    "        qpl.plot_fit(\n",
    "            ax=axs[i],\n",
    "            fit_res=fit_result,\n",
    "            plot_init=True,\n",
    "            range_casting=\"abs\",\n",
    "        )\n",
    "        f.append(format_fit_data(model, x, s21, ds, fit_result, code = \"RESONATOR_SPEC\"))\n",
    "    \n",
    "    return f\n",
    "\n",
    "def plot_fit_lorentz(ds):\n",
    "    fig, axs = plt.subplots(len(ds), 1)\n",
    "    if len(ds) == 1:\n",
    "        axs = [axs]\n",
    "    \n",
    "    f = list()\n",
    "    for i,var in enumerate(ds):\n",
    "        # plot data\n",
    "        np.abs(ds[var]).plot(ax = axs[i])\n",
    "        axs[i].set_title(var)\n",
    "\n",
    "        # retrieve raw data for model fitting\n",
    "        x = ds.coords[ds.variables[var].attrs[\"coords\"][0]].data\n",
    "        s21 = ds[var].data\n",
    "\n",
    "        # fit resonator model against the data\n",
    "        model = LorentzianModel()\n",
    "        guess = model.guess(np.abs(s21), x = x)\n",
    "        fit_result = model.fit(np.abs(s21), params = guess, x = x)\n",
    "\n",
    "        model_y = fit_result.eval(x = x)\n",
    "        axs[i].plot(x, model_y,'r-')\n",
    "        print()\n",
    "        print(var,\":\", fit_result.params[\"x0\"].value/1e9, \"GHz\")\n",
    "        f.append(format_fit_data(model, x, s21, ds, fit_result, code = \"QUBIT_SPEC\"))\n",
    "        \n",
    "    return f\n",
    "\n",
    "def plot_fit_cosine(ds):\n",
    "    fig, axs = plt.subplots(len(ds), 1)\n",
    "    if len(ds) == 1:\n",
    "        axs = [axs]\n",
    "    \n",
    "    f = list()\n",
    "    for i,var in enumerate(ds):\n",
    "        # plot data\n",
    "        np.abs(ds[var]).plot(ax = axs[i])\n",
    "        axs[i].set_title(var)\n",
    "\n",
    "        # retrieve raw data for model fitting\n",
    "        x = ds.coords[ds.variables[var].attrs[\"coords\"][0]].data\n",
    "        s21 = ds[var].data\n",
    "\n",
    "        # fit resonator model against the data\n",
    "        model = fm.CosineModel()\n",
    "        guess = model.guess(np.abs(s21), x = x)\n",
    "        fit_result = model.fit(np.abs(s21), params = guess, x = x)\n",
    "\n",
    "        model_y = fit_result.eval(x = x)\n",
    "        axs[i].plot(x, model_y,'r-')\n",
    "        \n",
    "        idxs = np.argmax(model_y)\n",
    "        v = x[idxs]\n",
    "        axs[i].axvline(v, color = \"red\")\n",
    "        print(var,\":\", v*1000, \"mV\")\n",
    "        f.append(format_fit_data(model, x, s21, ds, fit_result, code = \"RABI_OSC\", ket1_amp = v))\n",
    "        \n",
    "    return f\n",
    "\n",
    "def plot_fit_decay(ds):\n",
    "    fig, axs = plt.subplots(len(ds), 1)\n",
    "    if len(ds) == 1:\n",
    "        axs = [axs]\n",
    "    \n",
    "    f = list()\n",
    "    for i,var in enumerate(ds):\n",
    "        # plot data\n",
    "        np.abs(ds[var]).plot(ax = axs[i])\n",
    "        axs[i].set_title(var)\n",
    "\n",
    "        # retrieve raw data for model fitting\n",
    "        x = ds.coords[ds.variables[var].attrs[\"coords\"][0]].data\n",
    "        s21 = ds[var].data\n",
    "\n",
    "        # fit resonator model against the data\n",
    "        model = fm.ExpDecayModel()\n",
    "        guess = model.guess(np.abs(s21), delay = x)\n",
    "        fit_result = model.fit(np.abs(s21), params = guess, t = x)\n",
    "\n",
    "        model_y = fit_result.eval(delay = x)\n",
    "        axs[i].plot(x, model_y,'r-')\n",
    "        print(var,\":\", fit_result.params[\"tau\"].value, \"ns\")\n",
    "        f.append(format_fit_data(model, x, s21, ds, fit_result, code = \"T1_DECOHERENCE\"))\n",
    "        \n",
    "    return f"
   ]
  },
  {
   "cell_type": "code",
   "execution_count": null,
   "id": "f8794f02",
   "metadata": {},
   "outputs": [],
   "source": [
    "chalmers = Tergite.get_provider()\n",
    "backend = chalmers.get_backend(\"PinguOpenPulse\")\n",
    "backend.set_options(shots = 1500)\n",
    "templates.backend = backend"
   ]
  },
  {
   "cell_type": "code",
   "execution_count": null,
   "id": "33656196",
   "metadata": {},
   "outputs": [],
   "source": [
    "QUBIT = \"q4\"\n",
    "QUBIT_IDX = int(QUBIT[1])-1"
   ]
  },
  {
   "cell_type": "code",
   "execution_count": null,
   "id": "9a2b5759",
   "metadata": {},
   "outputs": [],
   "source": [
    "resonator_freqs = {\n",
    "    \"q1\": 6.884461765134884e9,\n",
    "    \"q2\": 6.745482508417368e9, \n",
    "    \"q3\": 7.029379073099976e9, \n",
    "    \"q4\": 7.187505069855161e9, \n",
    "    \"q5\": 6.660153814436366e9\n",
    "}\n",
    "VNA_qub_freqs = {\n",
    "    'q1' : 5.8977e9, \n",
    "    'q2' : 6.109e9,  # I think this is the wrong peak\n",
    "    'q3' : 6.0940e9,\n",
    "    'q4' : 5.9500e9, \n",
    "    'q3c4' :7.3632e9, \n",
    "    'q5' : 5.0341e9  # has weird discontinuities?\n",
    "}"
   ]
  },
  {
   "cell_type": "markdown",
   "id": "42520345",
   "metadata": {},
   "source": [
    "# Resonator spec"
   ]
  },
  {
   "cell_type": "code",
   "execution_count": null,
   "id": "d2a9e58d",
   "metadata": {},
   "outputs": [],
   "source": [
    "frequencies = np.linspace(resonator_freqs[QUBIT] - 6e6, resonator_freqs[QUBIT] + 6e6, 160)"
   ]
  },
  {
   "cell_type": "code",
   "execution_count": null,
   "id": "c68aa021",
   "metadata": {},
   "outputs": [],
   "source": [
    "param_sched = pulse.ScheduleBlock(name = f\"res spec {QUBIT}\")\n",
    "\n",
    "freq0 = circuit.Parameter(f\"f readout 0\")\n",
    "param_sched += pulse.SetFrequency(freq0, backend.measure_channel(QUBIT_IDX))\n",
    "\n",
    "ro_dur = 3000\n",
    "ro_amp = 14e-3\n",
    "\n",
    "param_sched += templates.measure(QUBIT_IDX, ro_amp = ro_amp, ro_dur = ro_dur)"
   ]
  },
  {
   "cell_type": "code",
   "execution_count": null,
   "id": "f62be46c",
   "metadata": {},
   "outputs": [],
   "source": [
    "sweep = [\n",
    "    param_sched.assign_parameters(\n",
    "        {\n",
    "            freq0 : f,\n",
    "        },\n",
    "        inplace = False\n",
    "    )\n",
    "    for f in frequencies\n",
    "]\n",
    "print(\"Total schedule count in sweep:\", len(sweep))"
   ]
  },
  {
   "cell_type": "code",
   "execution_count": null,
   "id": "74c66bb7",
   "metadata": {},
   "outputs": [],
   "source": [
    "sweep[10].draw(style=IQXDebugging())"
   ]
  },
  {
   "cell_type": "code",
   "execution_count": null,
   "id": "4b67b638",
   "metadata": {},
   "outputs": [],
   "source": [
    "# compile metadata about the sweep\n",
    "qobj_header = {\n",
    "    \"sweep\" : {\n",
    "        \"serial_order\" : (\"frequencies\",),\n",
    "        \"parameters\" : {\n",
    "            \"frequencies\": {\n",
    "                \"long_name\" : \"Frequency of readout pulse\",\n",
    "                \"unit\" : \"Hz\",\n",
    "                \"slots\" : { QUBIT_IDX : frequencies }\n",
    "            }\n",
    "        }\n",
    "    }\n",
    "}\n",
    "job = backend.run(sweep, qobj_header = qobj_header)"
   ]
  },
  {
   "cell_type": "code",
   "execution_count": null,
   "id": "6967bff8",
   "metadata": {
    "scrolled": false
   },
   "outputs": [],
   "source": [
    "while job.status != \"DONE\":\n",
    "    time.sleep(5)\n",
    "sf = tqcsf.file.StorageFile(job.logfile, mode = \"r\")\n",
    "ds = sf.as_xarray()\n",
    "ds"
   ]
  },
  {
   "cell_type": "code",
   "execution_count": null,
   "id": "1b3f1c09",
   "metadata": {
    "scrolled": false
   },
   "outputs": [],
   "source": [
    "%matplotlib inline\n",
    "data = plot_fit_resonator(ds)\n",
    "data[0][\"ro_amp\"] = ro_amp\n",
    "data[0][\"ro_dur\"] = ro_dur*1e-9\n",
    "data[0][\"qubit\"] = QUBIT\n",
    "rich.print(data)"
   ]
  },
  {
   "cell_type": "code",
   "execution_count": null,
   "id": "33e52ec7",
   "metadata": {},
   "outputs": [],
   "source": [
    "job.store_data(data)"
   ]
  },
  {
   "cell_type": "markdown",
   "id": "b686c3da",
   "metadata": {},
   "source": [
    "# Qubit spectroscopy"
   ]
  },
  {
   "cell_type": "code",
   "execution_count": null,
   "id": "2fcd9c35",
   "metadata": {},
   "outputs": [],
   "source": [
    "param_sched = pulse.ScheduleBlock(name = f\"tt spec {QUBIT}\")\n",
    "\n",
    "param_sched += pulse.SetFrequency(res_fr:=7187391862.307991, backend.measure_channel(QUBIT_IDX))\n",
    "\n",
    "freq = circuit.Parameter(f\"f drive\")\n",
    "stim_dur = 5000\n",
    "\n",
    "param_sched += pulse.SetFrequency(freq, backend.drive_channel(QUBIT_IDX))\n",
    "\n",
    "param_sched += pulse.Play(pulse.Constant(\n",
    "    stim_dur,\n",
    "    amp = (stim_amp := 14e-3),\n",
    "), backend.drive_channel(QUBIT_IDX))\n",
    "# don't measure during excitation\n",
    "param_sched += pulse.Delay(stim_dur, backend.measure_channel(QUBIT_IDX), name = \"Wait excite\")\n",
    "param_sched += pulse.Delay(stim_dur, backend.acquire_channel(QUBIT_IDX), name = \"Wait excite\")\n",
    "\n",
    "param_sched += templates.measure(QUBIT_IDX, ro_amp = ro_amp, ro_dur = ro_dur)\n",
    "param_sched.draw()"
   ]
  },
  {
   "cell_type": "code",
   "execution_count": null,
   "id": "d45716c3",
   "metadata": {},
   "outputs": [],
   "source": [
    "GHz = 1e9\n",
    "MHz = 1e6\n",
    "\n",
    "center = VNA_qub_freqs[QUBIT]\n",
    "freq_span = 60 *MHz\n",
    "freq_step = 0.36 *MHz\n",
    "\n",
    "frequencies = np.arange(center - freq_span/2, center + freq_span/2, freq_step)\n",
    "print(\"That will be:\", frequencies.shape[0], \"schedules\")"
   ]
  },
  {
   "cell_type": "code",
   "execution_count": null,
   "id": "83fcea2c",
   "metadata": {},
   "outputs": [],
   "source": [
    "sweep = [\n",
    "    param_sched.assign_parameters(\n",
    "        {\n",
    "            freq : f,\n",
    "        },\n",
    "        inplace = False\n",
    "    )\n",
    "    for f in frequencies\n",
    "]\n",
    "print(\"Total schedule count in sweep:\", len(sweep))"
   ]
  },
  {
   "cell_type": "code",
   "execution_count": null,
   "id": "873a20d2",
   "metadata": {
    "scrolled": false
   },
   "outputs": [],
   "source": [
    "sweep[20].draw(style=IQXDebugging())"
   ]
  },
  {
   "cell_type": "code",
   "execution_count": null,
   "id": "a2b58423",
   "metadata": {},
   "outputs": [],
   "source": [
    "# compile metadata about the sweep\n",
    "qobj_header = {\n",
    "    \"sweep\" : {\n",
    "        \"serial_order\" : (\"frequencies\",),\n",
    "        \"parameters\" : {\n",
    "            \"frequencies\": {\n",
    "                \"long_name\" : \"Frequency of drive pulse\",\n",
    "                \"unit\" : \"Hz\",\n",
    "                \"slots\" : { QUBIT_IDX : frequencies }\n",
    "            }\n",
    "        }\n",
    "    }\n",
    "}\n",
    "job = backend.run(sweep, qobj_header = qobj_header)"
   ]
  },
  {
   "cell_type": "code",
   "execution_count": null,
   "id": "d1cc6248",
   "metadata": {},
   "outputs": [],
   "source": [
    "while job.status != \"DONE\":\n",
    "    time.sleep(5)\n",
    "sf = tqcsf.file.StorageFile(job.logfile, mode = \"r\")\n",
    "print(\"File location: \", pathlib.Path(gettempdir()) / sf.job_id)\n",
    "ds = sf.as_xarray()\n",
    "ds"
   ]
  },
  {
   "cell_type": "code",
   "execution_count": null,
   "id": "7e0f0aab",
   "metadata": {
    "scrolled": false
   },
   "outputs": [],
   "source": [
    "data = plot_fit_lorentz(ds)\n",
    "data[0][\"ro_amp\"] = ro_amp\n",
    "data[0][\"ro_dur\"] = ro_dur*1e-9\n",
    "data[0][\"stim_dur\"] = stim_dur*1e-9\n",
    "data[0][\"stim_amp\"] = stim_amp\n",
    "data[0][\"qubit\"] = QUBIT\n",
    "data[0][\"res_fr\"] = res_fr\n",
    "rich.print(data)"
   ]
  },
  {
   "cell_type": "code",
   "execution_count": null,
   "id": "04f45a84",
   "metadata": {},
   "outputs": [],
   "source": [
    "job.store_data(data)"
   ]
  },
  {
   "cell_type": "markdown",
   "id": "c63434e9",
   "metadata": {},
   "source": [
    "# Rabi oscillation"
   ]
  },
  {
   "cell_type": "code",
   "execution_count": null,
   "id": "7022e298",
   "metadata": {},
   "outputs": [],
   "source": [
    "param_sched = pulse.ScheduleBlock(name = f\"RABI {QUBIT}\")\n",
    "\n",
    "param_sched += pulse.SetFrequency(res_fr, backend.measure_channel(QUBIT_IDX))\n",
    "param_sched += pulse.SetFrequency(stim_fr:=5950369506.889604, backend.drive_channel(QUBIT_IDX))\n",
    "\n",
    "amp = circuit.Parameter(f\"amp drive\")\n",
    "stim_dur = 240\n",
    "\n",
    "param_sched += pulse.Play(pulse.Gaussian(\n",
    "    stim_dur,\n",
    "    amp = amp,\n",
    "    sigma=round(stim_dur/5)\n",
    "), backend.drive_channel(QUBIT_IDX))\n",
    "# don't measure during excitation\n",
    "param_sched += pulse.Delay(stim_dur, backend.measure_channel(QUBIT_IDX), name = \"Wait excite\")\n",
    "param_sched += pulse.Delay(stim_dur, backend.acquire_channel(QUBIT_IDX), name = \"Wait excite\")\n",
    "\n",
    "param_sched += templates.measure(QUBIT_IDX, ro_amp = ro_amp, ro_dur = ro_dur)\n",
    "param_sched.draw()"
   ]
  },
  {
   "cell_type": "code",
   "execution_count": null,
   "id": "6636e063",
   "metadata": {},
   "outputs": [],
   "source": [
    "amplitudes = np.linspace(0.01e-3, 20e-3, 100)\n",
    "print(\"That will be:\", amplitudes.shape[0], \"schedules\")"
   ]
  },
  {
   "cell_type": "code",
   "execution_count": null,
   "id": "a7001bf4",
   "metadata": {},
   "outputs": [],
   "source": [
    "%matplotlib inline\n",
    "sweep = [\n",
    "    param_sched.assign_parameters(\n",
    "        {\n",
    "            amp : a\n",
    "        },\n",
    "        inplace = False\n",
    "    )\n",
    "    for a in amplitudes\n",
    "]\n",
    "print(\"Total schedule count in sweep:\", len(sweep))"
   ]
  },
  {
   "cell_type": "code",
   "execution_count": null,
   "id": "fdb1e711",
   "metadata": {},
   "outputs": [],
   "source": [
    "sweep[15].draw(style=IQXDebugging())"
   ]
  },
  {
   "cell_type": "code",
   "execution_count": null,
   "id": "fde832a9",
   "metadata": {},
   "outputs": [],
   "source": [
    "# compile metadata about the sweep\n",
    "qobj_header = {\n",
    "    \"sweep\" : {\n",
    "        \"serial_order\" : (\"amplitudes\",),\n",
    "        \"parameters\" : {\n",
    "            \"amplitudes\": {\n",
    "                \"long_name\" : \"amplitude of drive pulse\",\n",
    "                \"unit\" : \"V\",\n",
    "                \"slots\" : { QUBIT_IDX : amplitudes }\n",
    "            }\n",
    "        }\n",
    "    }\n",
    "}\n",
    "job = backend.run(sweep, qobj_header = qobj_header)"
   ]
  },
  {
   "cell_type": "code",
   "execution_count": null,
   "id": "3ebb8c86",
   "metadata": {},
   "outputs": [],
   "source": [
    "while job.status != \"DONE\":\n",
    "    time.sleep(5)\n",
    "sf = tqcsf.file.StorageFile(job.logfile, mode = \"r\")\n",
    "print(\"File location: \", pathlib.Path(gettempdir()) / sf.job_id)\n",
    "ds = sf.as_xarray()\n",
    "ds"
   ]
  },
  {
   "cell_type": "code",
   "execution_count": null,
   "id": "8b85ca73",
   "metadata": {},
   "outputs": [],
   "source": [
    "data = plot_fit_cosine(ds)\n",
    "data[0][\"ro_amp\"] = ro_amp\n",
    "data[0][\"ro_dur\"] = ro_dur*1e-9\n",
    "data[0][\"stim_dur\"] = stim_dur*1e-9\n",
    "data[0][\"qubit\"] = QUBIT\n",
    "data[0][\"res_fr\"] = res_fr\n",
    "data[0][\"stim_fr\"] = stim_fr\n",
    "data[0][\"stim_sigma\"] = round(stim_dur/5)*1e-9\n",
    "rich.print(data)"
   ]
  },
  {
   "cell_type": "code",
   "execution_count": null,
   "id": "907fc626",
   "metadata": {},
   "outputs": [],
   "source": [
    "job.store_data(data)"
   ]
  },
  {
   "cell_type": "markdown",
   "id": "670ebf34",
   "metadata": {},
   "source": [
    "# Decoherence measurement (T1)"
   ]
  },
  {
   "cell_type": "code",
   "execution_count": null,
   "id": "a4cdacef",
   "metadata": {},
   "outputs": [],
   "source": [
    "param_sched = pulse.ScheduleBlock(name = f\"T1 {QUBIT}\")\n",
    "\n",
    "param_sched += pulse.SetFrequency(res_fr, backend.measure_channel(QUBIT_IDX))\n",
    "param_sched += pulse.SetFrequency(stim_fr, backend.drive_channel(QUBIT_IDX))\n",
    "\n",
    "t1_wait = circuit.Parameter(f\"t1 wait\")\n",
    "stim_amp = 0.015759696969696972\n",
    "\n",
    "param_sched += pulse.Play(pulse.Gaussian(\n",
    "    stim_dur,\n",
    "    amp = stim_amp,\n",
    "    sigma=round(stim_dur/5)\n",
    "), backend.drive_channel(QUBIT_IDX))\n",
    "# don't measure during excitation\n",
    "param_sched += pulse.Delay(stim_dur, backend.measure_channel(QUBIT_IDX), name = \"Wait excite\")\n",
    "param_sched += pulse.Delay(stim_dur, backend.acquire_channel(QUBIT_IDX), name = \"Wait excite\")\n",
    "\n",
    "param_sched += pulse.Delay(t1_wait, backend.measure_channel(QUBIT_IDX), name = \"T1 Wait\")\n",
    "param_sched += pulse.Delay(t1_wait, backend.acquire_channel(QUBIT_IDX), name = \"T1 Wait\")\n",
    "\n",
    "param_sched += templates.measure(QUBIT_IDX, ro_amp = ro_amp, ro_dur = ro_dur)"
   ]
  },
  {
   "cell_type": "code",
   "execution_count": null,
   "id": "dd500317",
   "metadata": {},
   "outputs": [],
   "source": [
    "durations = np.arange(4, 65000, 412)\n",
    "print(\"That will be:\", durations.shape[0], \"schedules\")"
   ]
  },
  {
   "cell_type": "code",
   "execution_count": null,
   "id": "fb08f427",
   "metadata": {},
   "outputs": [],
   "source": [
    "%matplotlib inline\n",
    "sweep = [\n",
    "    param_sched.assign_parameters(\n",
    "        {\n",
    "            t1_wait : d\n",
    "        },\n",
    "        inplace = False\n",
    "    )\n",
    "    for d in durations\n",
    "]\n",
    "print(\"Total schedule count in sweep:\", len(sweep))"
   ]
  },
  {
   "cell_type": "code",
   "execution_count": null,
   "id": "6ed17f20",
   "metadata": {},
   "outputs": [],
   "source": [
    "sweep[19].draw(style=IQXDebugging())"
   ]
  },
  {
   "cell_type": "code",
   "execution_count": null,
   "id": "f80ab330",
   "metadata": {},
   "outputs": [],
   "source": [
    "# compile metadata about the sweep\n",
    "qobj_header = {\n",
    "    \"sweep\" : {\n",
    "        \"serial_order\" : (\"durations\",),\n",
    "        \"parameters\" : {\n",
    "            \"durations\": {\n",
    "                \"long_name\" : \"t1 wait duration\",\n",
    "                \"unit\" : \"ns\",\n",
    "                \"slots\" : { QUBIT_IDX : durations }\n",
    "            }\n",
    "        }\n",
    "    }\n",
    "}\n",
    "job = backend.run(sweep, qobj_header = qobj_header)"
   ]
  },
  {
   "cell_type": "code",
   "execution_count": null,
   "id": "dfb43b0e",
   "metadata": {},
   "outputs": [],
   "source": [
    "while job.status != \"DONE\":\n",
    "    time.sleep(5)\n",
    "sf = tqcsf.file.StorageFile(job.logfile, mode = \"r\")\n",
    "print(\"File location: \", pathlib.Path(gettempdir()) / sf.job_id)\n",
    "ds = sf.as_xarray()\n",
    "ds"
   ]
  },
  {
   "cell_type": "code",
   "execution_count": null,
   "id": "8722663d",
   "metadata": {},
   "outputs": [],
   "source": [
    "data = plot_fit_decay(ds)\n",
    "data[0][\"ro_amp\"] = ro_amp\n",
    "data[0][\"ro_dur\"] = ro_dur*1e-9\n",
    "data[0][\"stim_dur\"] = stim_dur*1e-9\n",
    "data[0][\"qubit\"] = QUBIT\n",
    "data[0][\"res_fr\"] = res_fr\n",
    "data[0][\"stim_fr\"] = stim_fr\n",
    "data[0][\"stim_sigma\"] = round(stim_dur/5)*1e-9\n",
    "data[0][\"stim_amp\"] = stim_amp\n",
    "rich.print(data)"
   ]
  },
  {
   "cell_type": "code",
   "execution_count": null,
   "id": "40b2b89b",
   "metadata": {},
   "outputs": [],
   "source": [
    "job.store_data(data)"
   ]
  }
 ],
 "metadata": {
  "kernelspec": {
   "display_name": "Python 3.9: qiskit",
   "language": "python",
   "name": "qiskit"
  },
  "language_info": {
   "codemirror_mode": {
    "name": "ipython",
    "version": 3
   },
   "file_extension": ".py",
   "mimetype": "text/x-python",
   "name": "python",
   "nbconvert_exporter": "python",
   "pygments_lexer": "ipython3",
   "version": "3.9.13"
  }
 },
 "nbformat": 4,
 "nbformat_minor": 5
}
